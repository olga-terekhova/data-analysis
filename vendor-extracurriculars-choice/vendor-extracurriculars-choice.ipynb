{
  "cells": [
    {
      "cell_type": "markdown",
      "metadata": {
        "id": "view-in-github",
        "colab_type": "text"
      },
      "source": [
        "<a href=\"https://colab.research.google.com/github/olga-terekhova/data-analysis/blob/main/vendor-extracurriculars-choice/vendor-extracurriculars-choice.ipynb\" target=\"_parent\"><img src=\"https://colab.research.google.com/assets/colab-badge.svg\" alt=\"Open In Colab\"/></a>"
      ]
    },
    {
      "cell_type": "markdown",
      "source": [
        "# Description"
      ],
      "metadata": {
        "id": "NITD660oGKGg"
      }
    },
    {
      "cell_type": "markdown",
      "source": [
        "A vendor offers extracurricular activities in Toronto schools, including a lot of TDSB schools.   \n",
        "\n",
        "We want to analyse what kind of schools are more likely to be chosen by this vendor. Our hypothesis is the vendor predominantly selects schools with more affluent families. To confirm this we use two characteristics of TDSB schools:  \n",
        "1) Learning Opportunity Index calculated by TDSB  \n",
        "2) Presence of Early French Immersion stream in TDSB schools  "
      ],
      "metadata": {
        "id": "5Nio_zXfGWQV"
      }
    },
    {
      "cell_type": "markdown",
      "source": [
        "## To-do"
      ],
      "metadata": {
        "id": "eHfBXR5MGUd4"
      }
    },
    {
      "cell_type": "markdown",
      "source": [
        "1) Handle the cases when the vendor merged two schools into one record   \n",
        "2) Compare shares  \n",
        "3) Describe charts  "
      ],
      "metadata": {
        "id": "ezoZcLuMDFVh"
      }
    },
    {
      "cell_type": "markdown",
      "source": [
        "# Analysis"
      ],
      "metadata": {
        "id": "qegx_yySGOOh"
      }
    },
    {
      "cell_type": "markdown",
      "metadata": {
        "id": "Xy_ZjVQRDTAY"
      },
      "source": [
        "## Install, import, initialize libraries"
      ]
    },
    {
      "cell_type": "code",
      "execution_count": 309,
      "metadata": {
        "id": "9lAbCjdsQcGZ"
      },
      "outputs": [],
      "source": [
        "# install libraries for pymupdf (pdf processing) and pillow (picture processing)\n",
        "! pip install -q pymupdf pillow"
      ]
    },
    {
      "cell_type": "code",
      "execution_count": 310,
      "metadata": {
        "id": "YPDRHr01Qj7X"
      },
      "outputs": [],
      "source": [
        "# install libraries to extract tables from pdf\n",
        "!pip install -q tabula-py\n",
        "!pip install -q jpype1\n",
        "#!pip install -q matplotlib_venn"
      ]
    },
    {
      "cell_type": "code",
      "execution_count": 311,
      "metadata": {
        "id": "YfOApArx-v-v"
      },
      "outputs": [],
      "source": [
        "# install pyspark and findspark\n",
        "!pip install -q pyspark findspark"
      ]
    },
    {
      "cell_type": "code",
      "execution_count": 312,
      "metadata": {
        "id": "h656H94gT4Qg"
      },
      "outputs": [],
      "source": [
        "# import libraries\n",
        "import requests\n",
        "import re\n",
        "import tabula\n",
        "import pandas as pd\n",
        "import matplotlib.pyplot as plt\n",
        "from matplotlib_venn import venn3"
      ]
    },
    {
      "cell_type": "code",
      "execution_count": 313,
      "metadata": {
        "id": "s7D0EyrW_Gq9"
      },
      "outputs": [],
      "source": [
        "# import and initialize spark\n",
        "import findspark\n",
        "findspark.init()"
      ]
    },
    {
      "cell_type": "code",
      "execution_count": 314,
      "metadata": {
        "id": "L1f9s4hd_PaS"
      },
      "outputs": [],
      "source": [
        "# import names from pyspark\n",
        "from pyspark.sql import SparkSession\n",
        "from pyspark.sql import functions as F\n",
        "import pyspark.sql.types as pys_types"
      ]
    },
    {
      "cell_type": "code",
      "execution_count": 315,
      "metadata": {
        "id": "mLcmIgu8DWV2"
      },
      "outputs": [],
      "source": [
        "# initialize spark session\n",
        "spark = SparkSession.builder.appName(\"vendor-extracurriculars-choice\").getOrCreate()"
      ]
    },
    {
      "cell_type": "code",
      "source": [
        "# set the notebook in debug mode by making debug_ind == 1\n",
        "# set the notebook in production mode by making debug_ind == 0\n",
        "# use df_show function to show spark dataframes. it will only actually show in the debug mode\n",
        "# otherwise it will not show dataframes and will not trigger calculations\n",
        "\n",
        "debug_ind = 1\n",
        "\n",
        "def df_show(df):\n",
        "  if debug_ind == 1:\n",
        "    df.show(n=5, truncate = False)"
      ],
      "metadata": {
        "id": "1U4HM_-Ly6aK"
      },
      "execution_count": 316,
      "outputs": []
    },
    {
      "cell_type": "markdown",
      "metadata": {
        "id": "KA4jNonuUSC0"
      },
      "source": [
        "##Download source data file"
      ]
    },
    {
      "cell_type": "markdown",
      "source": [
        "Download source files with:  \n",
        "- LOI index data from TDSB,  \n",
        "- list of schools with extracurriculars offered from the vendor,  \n",
        "- list of schoold with Early Immersion stream from TDSB.  \n",
        "\n",
        "Save the files locally."
      ],
      "metadata": {
        "id": "Hu_g8QdcAuMP"
      }
    },
    {
      "cell_type": "markdown",
      "source": [
        "### Define common functions"
      ],
      "metadata": {
        "id": "Q7S0sLXgBMkk"
      }
    },
    {
      "cell_type": "markdown",
      "source": [
        "#### Define a function for downloading files"
      ],
      "metadata": {
        "id": "wnfW167cB8i0"
      }
    },
    {
      "cell_type": "code",
      "source": [
        "# download file from url to path\n",
        "def download_file(url, path):\n",
        "  response = requests.get(url)\n",
        "  with open(path, 'wb') as f:\n",
        "    f.write(response.content)"
      ],
      "metadata": {
        "id": "RGD3Ux9iAFWW"
      },
      "execution_count": 317,
      "outputs": []
    },
    {
      "cell_type": "markdown",
      "metadata": {
        "id": "IWh7pmGzNrVs"
      },
      "source": [
        "### Download LOI index"
      ]
    },
    {
      "cell_type": "code",
      "execution_count": 318,
      "metadata": {
        "id": "8cQSDs5QT-ai"
      },
      "outputs": [],
      "source": [
        "# download file with LOI index data\n",
        "pdf_url = \"https://github.com/olga-terekhova/data-analysis/raw/main/vendor-extracurriculars-choice/data/LOI2023.pdf\"\n",
        "pdf_path = 'LOI2023.pdf'\n",
        "download_file(pdf_url, pdf_path)"
      ]
    },
    {
      "cell_type": "markdown",
      "metadata": {
        "id": "s-P2QUCXNvT5"
      },
      "source": [
        "### Download vendor classes availability by school"
      ]
    },
    {
      "cell_type": "code",
      "execution_count": 319,
      "metadata": {
        "id": "CCZ97XcfNz8d"
      },
      "outputs": [],
      "source": [
        "# Download the file with list of schools\n",
        "url_v = \"https://raw.githubusercontent.com/olga-terekhova/data-analysis/main/vendor-extracurriculars-choice/data/find_your_school\"\n",
        "path_v = 'find_your_school'\n",
        "download_file(url_v, path_v)"
      ]
    },
    {
      "cell_type": "markdown",
      "metadata": {
        "id": "K3I3XEb4PS23"
      },
      "source": [
        "### Download Early French Immersion schools"
      ]
    },
    {
      "cell_type": "code",
      "execution_count": 320,
      "metadata": {
        "id": "yrAwfUfTPIH_"
      },
      "outputs": [],
      "source": [
        "# download the file with the list of Early Immersion schools\n",
        "url_f = \"https://github.com/olga-terekhova/data-analysis/raw/main/vendor-extracurriculars-choice/data/TDSB_EarlyImmersion_Schools.txt\"\n",
        "path_f = 'FI.txt'\n",
        "download_file(url_f, path_f)"
      ]
    },
    {
      "cell_type": "markdown",
      "metadata": {
        "id": "TcYBb3UDOb2s"
      },
      "source": [
        "## Create datasets"
      ]
    },
    {
      "cell_type": "markdown",
      "source": [
        "Create Spark dataframes from the source files.  "
      ],
      "metadata": {
        "id": "DuvoPX6tBdD_"
      }
    },
    {
      "cell_type": "markdown",
      "metadata": {
        "id": "amif8YDjVTeP"
      },
      "source": [
        "### Define common functions"
      ]
    },
    {
      "cell_type": "markdown",
      "source": [
        "#### Check pdf area boundaries"
      ],
      "metadata": {
        "id": "mKDq_UbpCE0l"
      }
    },
    {
      "cell_type": "markdown",
      "metadata": {
        "id": "-z06qC6URsrG"
      },
      "source": [
        "Check that the boundaries identified for tables within pdf contain the target area. The script creates snapshots for the selected area for all pages with tables.  \n",
        "This function should be run iteratively to find the coordinates of the rectangle which will be fed into tabula table extraction.  \n",
        "Once the coordinates are established, no need to run it anymore, so it's normally commented out.  \n",
        "\n",
        "NB: area notation for fizz is (left, top, right, bottom), while tabula uses (top, left, bottom, right)"
      ]
    },
    {
      "cell_type": "code",
      "execution_count": 321,
      "metadata": {
        "id": "XeJO4pg7L3uc"
      },
      "outputs": [],
      "source": [
        "def download_area_pictures(pdf_path, output_name, range_start, range_end, left, top, right, bottom):\n",
        "  import fitz  # PyMuPDF\n",
        "  from PIL import Image # pillow\n",
        "\n",
        "  # Open the PDF file\n",
        "  document = fitz.open(pdf_path)\n",
        "\n",
        "  for i in range(range_start-1,range_end):\n",
        "    # Select current page\n",
        "    page = document[i]\n",
        "\n",
        "    # Specify the rectangular area (coordinates in points)\n",
        "    rect = fitz.Rect(left, top, right, bottom)\n",
        "\n",
        "    # Get the image of the specified rectangular area\n",
        "    pix = page.get_pixmap(clip=rect)\n",
        "\n",
        "    # Save the image\n",
        "    image_path = output_name + str(i) + '.png'\n",
        "    pix.save(image_path)\n",
        "\n",
        "    # Convert the pixmap to a PIL Image\n",
        "    image = Image.open(image_path)\n",
        "\n",
        "# uncomment next line to run the function\n",
        "# download_area_pictures(pdf_path, \"output\", 7, 21, 20, 105, 770, 560)\n",
        "\n",
        "#20, 105, 770, 560 for LOI tables -- the coordinates for the images\n",
        "# feed the coordinates into tabula as 105, 20, 560, 770"
      ]
    },
    {
      "cell_type": "markdown",
      "metadata": {
        "id": "CoHHKDs4UZu3"
      },
      "source": [
        "### Extract dataframe with LOI index"
      ]
    },
    {
      "cell_type": "code",
      "execution_count": 322,
      "metadata": {
        "id": "kFxd9J3qVopR"
      },
      "outputs": [],
      "source": [
        "# define list of column names\n",
        "table_header = ['School ID', 'School Name', 'LOI 2023 Rank', 'LOI 2020 Rank', 'LOI 2017 Rank', 'LOI 2014 Rank', 'LOI 2011 Rank', 'LOI Scores', 'Ward', 'Learning Centre']"
      ]
    },
    {
      "cell_type": "code",
      "execution_count": 323,
      "metadata": {
        "id": "g8QtG5mTLoq1"
      },
      "outputs": [],
      "source": [
        "# read all pdf tables into a single pandas dataframe with no headers\n",
        "dfs = tabula.read_pdf(pdf_path, stream=True, pages=\"7-21\", area=[105, 20, 560, 770], pandas_options={'header': None}, multiple_tables=False)\n",
        "\n",
        "# read the single dataframe from the first array item\n",
        "df = dfs[0]\n",
        "\n",
        "# assign column names\n",
        "df.columns = table_header"
      ]
    },
    {
      "cell_type": "code",
      "execution_count": 324,
      "metadata": {
        "id": "Uikf_aHqXSj4"
      },
      "outputs": [],
      "source": [
        "# handle nulls for years with absent LOI and converting float into int\n",
        "df['LOI 2023 Rank'] = df['LOI 2023 Rank'].fillna(0).astype(int)\n",
        "df['LOI 2020 Rank'] = df['LOI 2020 Rank'].fillna(0).astype(int)\n",
        "df['LOI 2017 Rank'] = df['LOI 2017 Rank'].fillna(0).astype(int)\n",
        "df['LOI 2014 Rank'] = df['LOI 2014 Rank'].fillna(0).astype(int)\n",
        "df['LOI 2011 Rank'] = df['LOI 2011 Rank'].fillna(0).astype(int)"
      ]
    },
    {
      "cell_type": "code",
      "execution_count": 325,
      "metadata": {
        "id": "0p2J4Wiw-h0S",
        "colab": {
          "base_uri": "https://localhost:8080/"
        },
        "outputId": "1d709a76-39d5-4d5e-8d91-4720113219c6"
      },
      "outputs": [
        {
          "output_type": "stream",
          "name": "stdout",
          "text": [
            "+---------+-------------------------------------------+-------------+-------------+-------------+-------------+-------------+---------------------------------------+----+---------------+\n",
            "|School ID|School Name                                |LOI 2023 Rank|LOI 2020 Rank|LOI 2017 Rank|LOI 2014 Rank|LOI 2011 Rank|LOI Scores                             |Ward|Learning Centre|\n",
            "+---------+-------------------------------------------+-------------+-------------+-------------+-------------+-------------+---------------------------------------+----+---------------+\n",
            "|247      |Shoreham Public Sports and Wellness Academy|1            |1            |2            |4            |3            |0.99008 0.98770 0.98518 0.98136 0.98669|4   |LC2            |\n",
            "|296      |Yorkwoods Public School                    |2            |2            |1            |6            |10           |0.98826 0.98608 0.98569 0.97785 0.96735|4   |LC2            |\n",
            "|209      |Oakdale Park Middle School                 |3            |11           |12           |13           |20           |0.97943 0.97062 0.96608 0.95863 0.94432|4   |LC2            |\n",
            "|126      |Flemington Public School                   |4            |4            |3            |3            |7            |0.97858 0.98468 0.98399 0.98254 0.98003|8   |LC1            |\n",
            "|1146     |Eastview Public School                     |5            |18           |21           |17           |16           |0.97632 0.95736 0.94198 0.95011 0.95181|19  |LC3            |\n",
            "+---------+-------------------------------------------+-------------+-------------+-------------+-------------+-------------+---------------------------------------+----+---------------+\n",
            "only showing top 5 rows\n",
            "\n"
          ]
        }
      ],
      "source": [
        "# creating a spark dataframe from pandas dataframe\n",
        "dfs_loi = spark.createDataFrame(df)\n",
        "\n",
        "df_show(dfs_loi)"
      ]
    },
    {
      "cell_type": "markdown",
      "metadata": {
        "id": "BugBiJk5O_PI"
      },
      "source": [
        "### Extract dataframe with the list of schools"
      ]
    },
    {
      "cell_type": "code",
      "execution_count": 326,
      "metadata": {
        "id": "w_laLXRsPGM2",
        "colab": {
          "base_uri": "https://localhost:8080/"
        },
        "outputId": "ad6baf88-d44f-4c45-a6f9-3eafc362a554"
      },
      "outputs": [
        {
          "output_type": "stream",
          "name": "stdout",
          "text": [
            "+---------+----------------------------------------------------+\n",
            "|school_id|school_name                                         |\n",
            "+---------+----------------------------------------------------+\n",
            "|8        |Adam Beck Junior Public School                      |\n",
            "|44       |AMG and The Grove Alternative School (AMG-The Grove)|\n",
            "|5        |Associated Hebrew Schools - Posluns                 |\n",
            "|114      |Balmy Beach Community School                        |\n",
            "|45       |Bedford Park Public School                          |\n",
            "+---------+----------------------------------------------------+\n",
            "only showing top 5 rows\n",
            "\n"
          ]
        }
      ],
      "source": [
        "# create a spark dataframe from json\n",
        "dfs_v = spark.read.json(path_v, multiLine=True)\n",
        "df_show(dfs_v)"
      ]
    },
    {
      "cell_type": "markdown",
      "metadata": {
        "id": "vZnnTuzxPYa4"
      },
      "source": [
        "### Extract dataframe with the list of Early Immersion schools"
      ]
    },
    {
      "cell_type": "code",
      "execution_count": 327,
      "metadata": {
        "id": "D8EHEYRwPi9t",
        "colab": {
          "base_uri": "https://localhost:8080/"
        },
        "outputId": "422d4745-ffd1-40c9-db6f-d1e8cf138a34"
      },
      "outputs": [
        {
          "output_type": "stream",
          "name": "stdout",
          "text": [
            "+------------------------------------------+\n",
            "|value                                     |\n",
            "+------------------------------------------+\n",
            "|1. Adam Beck Jr PS, 400 Scarborough Rd    |\n",
            "|2. Alexander Stirling PS, 70 Fawcett Trail|\n",
            "|3. Allenby Jr PS, 391 St Clements Ave     |\n",
            "|4. Bannockburn PS, 12 Bannockburn Ave     |\n",
            "|5. Beverley Heights MS, 26 Troutbrooke Dr |\n",
            "+------------------------------------------+\n",
            "only showing top 5 rows\n",
            "\n"
          ]
        }
      ],
      "source": [
        "# create a spark dataframe from text file\n",
        "# no separation between columns, all values in one attribute 'value'\n",
        "df_fi = spark.read.text(path_f)\n",
        "df_show(df_fi)"
      ]
    },
    {
      "cell_type": "code",
      "execution_count": 328,
      "metadata": {
        "id": "iUChfreVPqYq",
        "colab": {
          "base_uri": "https://localhost:8080/"
        },
        "outputId": "77aa2193-2523-4707-e8b7-0924a2db8c3f"
      },
      "outputs": [
        {
          "output_type": "stream",
          "name": "stdout",
          "text": [
            "+---------+----------------------+--------------------+\n",
            "|school_id|school_name           |school_address      |\n",
            "+---------+----------------------+--------------------+\n",
            "|1        | Adam Beck Jr PS      | 400 Scarborough Rd |\n",
            "|2        | Alexander Stirling PS| 70 Fawcett Trail   |\n",
            "|3        | Allenby Jr PS        | 391 St Clements Ave|\n",
            "|4        | Bannockburn PS       | 12 Bannockburn Ave |\n",
            "|5        | Beverley Heights MS  | 26 Troutbrooke Dr  |\n",
            "+---------+----------------------+--------------------+\n",
            "only showing top 5 rows\n",
            "\n"
          ]
        }
      ],
      "source": [
        "# split the default attribute by the . and , separators into 3 columns\n",
        "split_col = F.split(df_fi['value'],'[,\\.]')\n",
        "df_fi = df_fi.withColumn(\"school_id\", split_col.getItem(0))\n",
        "df_fi = df_fi.withColumn(\"school_name\", split_col.getItem(1))\n",
        "df_fi = df_fi.withColumn(\"school_address\", split_col.getItem(2))\n",
        "df_fi = df_fi.select(\"school_id\", \"school_name\", \"school_address\")\n",
        "df_show(df_fi)"
      ]
    },
    {
      "cell_type": "markdown",
      "metadata": {
        "id": "5Amz04SbAaiw"
      },
      "source": [
        "## Transform datasets"
      ]
    },
    {
      "cell_type": "markdown",
      "metadata": {
        "id": "XRSUhGh8PE2A"
      },
      "source": [
        "### Define common functions"
      ]
    },
    {
      "cell_type": "markdown",
      "source": [
        "#### Define rules for clean up applicable to all datasets with school names"
      ],
      "metadata": {
        "id": "ocgzHj8YAYUj"
      }
    },
    {
      "cell_type": "markdown",
      "source": [
        "The rules of data prep are the result of several iterations of matching datasets and analysing the reasons behind the unmatched records"
      ],
      "metadata": {
        "id": "NxhU-9rH0wxE"
      }
    },
    {
      "cell_type": "code",
      "execution_count": 329,
      "metadata": {
        "id": "SVmC0mwmAgbr"
      },
      "outputs": [],
      "source": [
        "def clean_up_school_name(school_name):\n",
        "\n",
        "    remove_substrings = [\"JMS\", \"JS\", \"E & MS\", \"ES\", \"ELA\", \"PS\", \"MS\", \"CS\", \"JR \", \"SR \", \"Jr \", \"Sr \", \"SWA\"]\n",
        "    for substring in remove_substrings:\n",
        "      school_name = school_name.replace(substring, \"\")\n",
        "\n",
        "    school_name = school_name.replace(\"Rd \", \"Road \")\n",
        "    school_name = school_name.replace(\"Blvd \", \"Boulevard \")\n",
        "    school_name = school_name.replace(\"Ave \", \"Avenue \")\n",
        "    school_name = school_name.replace(\"’\", '\\'')\n",
        "\n",
        "    school_name = school_name.lower()\n",
        "    school_name = school_name.strip()\n",
        "\n",
        "    remove_substrings = [\"\\t\",\".\", \"community school\", \"public \", \"school\", \"junior\", \\\n",
        "                         \"elementary\",\"senior\", \"middle\", \"&\", \"(\", \")\",\n",
        "                         \"sports and wellness academy\", \"early learning academy\", \" and \"]\n",
        "    for substring in remove_substrings:\n",
        "      school_name = school_name.replace(substring, \"\")\n",
        "\n",
        "    school_name = school_name.replace(\"j r \", \"jr \")\n",
        "    school_name = school_name.replace(\"r h \", \"rh \")\n",
        "    school_name = school_name.replace('‐', '-') # replacing 8208 hyphen with 45 hyphen\n",
        "    school_name = school_name.replace('minogok','minagok')\n",
        "\n",
        "    delimiter = \"/\"\n",
        "    delimiter_index = school_name.find(delimiter)\n",
        "    if delimiter_index != -1:\n",
        "        school_name = school_name[:delimiter_index]\n",
        "\n",
        "    school_name = re.sub(r'\\s+', ' ', school_name)\n",
        "\n",
        "    school_name = school_name.strip()\n",
        "\n",
        "    return school_name\n",
        "\n",
        "clean_up_school_name_udf = F.udf(clean_up_school_name, pys_types.StringType())"
      ]
    },
    {
      "cell_type": "markdown",
      "metadata": {
        "id": "PVbhTzF-PI_I"
      },
      "source": [
        "### Prepare LOI dataset"
      ]
    },
    {
      "cell_type": "code",
      "execution_count": 330,
      "metadata": {
        "id": "EUZ0QV1pHAtv",
        "colab": {
          "base_uri": "https://localhost:8080/"
        },
        "outputId": "d3dcfccb-acf9-4599-d494-bf055de8b80a"
      },
      "outputs": [
        {
          "output_type": "stream",
          "name": "stdout",
          "text": [
            "+------------------+--------+\n",
            "|simple_school_name|loi_rank|\n",
            "+------------------+--------+\n",
            "|shoreham          |1       |\n",
            "|yorkwoods         |2       |\n",
            "|oakdale park      |3       |\n",
            "|flemington        |4       |\n",
            "|eastview          |5       |\n",
            "+------------------+--------+\n",
            "only showing top 5 rows\n",
            "\n"
          ]
        }
      ],
      "source": [
        "# apply clean up rules to school names\n",
        "dfs_loi = dfs_loi.withColumn(\"simple_school_name\",clean_up_school_name_udf(dfs_loi[\"School Name\"]))\n",
        "dfs_loi = dfs_loi.select(\"simple_school_name\", \"LOI 2023 Rank\")\n",
        "dfs_loi = dfs_loi.withColumnRenamed(\"LOI 2023 Rank\", \"loi_rank\")\n",
        "df_show(dfs_loi)"
      ]
    },
    {
      "cell_type": "code",
      "execution_count": 331,
      "metadata": {
        "colab": {
          "base_uri": "https://localhost:8080/"
        },
        "id": "BxyTO3K2Tztd",
        "outputId": "1de6cc2e-8123-4600-a28a-5dab47aa4031"
      },
      "outputs": [
        {
          "output_type": "stream",
          "name": "stdout",
          "text": [
            "470\n",
            "470\n",
            "No duplicates\n"
          ]
        }
      ],
      "source": [
        "# calculate record count\n",
        "# Data Quality: check that cleaning up did not produce duplicate values\n",
        "total_loi = dfs_loi.count()\n",
        "total_loi_dedup = dfs_loi.select(\"simple_school_name\").distinct().count()\n",
        "print(total_loi)\n",
        "print(total_loi_dedup)\n",
        "if total_loi == total_loi_dedup:\n",
        "  print(\"No duplicates\")\n",
        "else:\n",
        "  print(\"Duplicates\")\n",
        "\n"
      ]
    },
    {
      "cell_type": "code",
      "execution_count": 332,
      "metadata": {
        "id": "doHGVAWyZ9WJ"
      },
      "outputs": [],
      "source": [
        "# save the maximum LOI index value\n",
        "max_rank_df = dfs_loi.agg(F.max(\"loi_rank\").alias(\"max_rank\")).collect()[0]\n",
        "max_rank = max_rank_df[\"max_rank\"]"
      ]
    },
    {
      "cell_type": "code",
      "execution_count": 333,
      "metadata": {
        "id": "QjMeXi1w-BzX",
        "colab": {
          "base_uri": "https://localhost:8080/"
        },
        "outputId": "ade932bb-5f66-4a3d-b914-ac66eb175391"
      },
      "outputs": [
        {
          "output_type": "stream",
          "name": "stdout",
          "text": [
            "+------------------+--------+--------------------+\n",
            "|simple_school_name|loi_rank|perc_rank           |\n",
            "+------------------+--------+--------------------+\n",
            "|shoreham          |1       |0.002127659574468085|\n",
            "|yorkwoods         |2       |0.00425531914893617 |\n",
            "|oakdale park      |3       |0.006382978723404255|\n",
            "|flemington        |4       |0.00851063829787234 |\n",
            "|eastview          |5       |0.010638297872340425|\n",
            "+------------------+--------+--------------------+\n",
            "only showing top 5 rows\n",
            "\n"
          ]
        }
      ],
      "source": [
        "# add the percentage rank column as a value between 0 and 1\n",
        "# equal to the current loi rank divided by the maximum loi rank\n",
        "dfs_loi = dfs_loi.withColumn(\"perc_rank\", dfs_loi[\"loi_rank\"] / max_rank)\n",
        "df_show(dfs_loi)"
      ]
    },
    {
      "cell_type": "code",
      "execution_count": 334,
      "metadata": {
        "id": "Xm3pUckAusUx",
        "colab": {
          "base_uri": "https://localhost:8080/"
        },
        "outputId": "32e1db82-04a3-4ecc-a79e-0fcf56dad786"
      },
      "outputs": [
        {
          "output_type": "stream",
          "name": "stdout",
          "text": [
            "+------------------+--------+--------------------+-----------+\n",
            "|simple_school_name|loi_rank|perc_rank           |rank_bucket|\n",
            "+------------------+--------+--------------------+-----------+\n",
            "|shoreham          |1       |0.002127659574468085|0          |\n",
            "|yorkwoods         |2       |0.00425531914893617 |0          |\n",
            "|oakdale park      |3       |0.006382978723404255|0          |\n",
            "|flemington        |4       |0.00851063829787234 |0          |\n",
            "|eastview          |5       |0.010638297872340425|0          |\n",
            "+------------------+--------+--------------------+-----------+\n",
            "only showing top 5 rows\n",
            "\n"
          ]
        }
      ],
      "source": [
        "# define a UDF function which bucketize the percentage rank into 10 bins 0-9\n",
        "def bucketizer(x):\n",
        "  if x <=0.1:\n",
        "    return 0\n",
        "  elif x <=0.2:\n",
        "    return 1\n",
        "  elif x <=0.3:\n",
        "    return 2\n",
        "  elif x <=0.4:\n",
        "    return 3\n",
        "  elif x <=0.5:\n",
        "    return 4\n",
        "  elif x <=0.6:\n",
        "    return 5\n",
        "  elif x <=0.7:\n",
        "    return 6\n",
        "  elif x <=0.8:\n",
        "    return 7\n",
        "  elif x <=0.9:\n",
        "    return 8\n",
        "  else:\n",
        "    return 9\n",
        "\n",
        "bucketizer_udf = F.udf(bucketizer, pys_types.IntegerType())\n",
        "\n",
        "# add a column with the 0-9 bin for the percentage rank\n",
        "dfs_loi = dfs_loi.withColumn(\"rank_bucket\", bucketizer_udf(dfs_loi[\"perc_rank\"]))\n",
        "df_show(dfs_loi)"
      ]
    },
    {
      "cell_type": "markdown",
      "metadata": {
        "id": "1p1IouM1PMFD"
      },
      "source": [
        "### Prepare vendor list of schools dataset"
      ]
    },
    {
      "cell_type": "code",
      "execution_count": 335,
      "metadata": {
        "id": "7N9u-2nSCLaj",
        "colab": {
          "base_uri": "https://localhost:8080/"
        },
        "outputId": "60ac3fc3-e999-475e-8238-0a16405661aa"
      },
      "outputs": [
        {
          "output_type": "stream",
          "name": "stdout",
          "text": [
            "+----------------+--------------------------------------+\n",
            "|vendor_school_id|simple_school_name                    |\n",
            "+----------------+--------------------------------------+\n",
            "|8               |adam beck                             |\n",
            "|44              |amgthe grove alternative amg-the grove|\n",
            "|5               |associated hebrew s - posluns         |\n",
            "|114             |balmy beach                           |\n",
            "|45              |bedford park                          |\n",
            "+----------------+--------------------------------------+\n",
            "only showing top 5 rows\n",
            "\n"
          ]
        }
      ],
      "source": [
        "# apply clean up rules to school names\n",
        "dfs_v = dfs_v.withColumn(\"simple_school_name\",clean_up_school_name_udf(dfs_v.school_name))\n",
        "dfs_v = dfs_v.select(\"school_id\",\"simple_school_name\")\n",
        "dfs_v = dfs_v.withColumnRenamed(\"school_id\", \"vendor_school_id\")\n",
        "\n",
        "df_show(dfs_v)"
      ]
    },
    {
      "cell_type": "code",
      "execution_count": 336,
      "metadata": {
        "colab": {
          "base_uri": "https://localhost:8080/"
        },
        "id": "rRxnAgNBW4ND",
        "outputId": "d1c986ca-8131-42e8-8c73-bc427a946230"
      },
      "outputs": [
        {
          "output_type": "stream",
          "name": "stdout",
          "text": [
            "54\n",
            "54\n",
            "No duplicates\n"
          ]
        }
      ],
      "source": [
        "# calculate record count\n",
        "# Data Quality: check that cleaning up did not produce duplicate values\n",
        "total_v = dfs_v.count()\n",
        "total_dedup_v = dfs_v.select(\"simple_school_name\").distinct().count()\n",
        "print(total_v)\n",
        "print(total_dedup_v)\n",
        "if total_v == total_dedup_v:\n",
        "  print(\"No duplicates\")\n",
        "else:\n",
        "  print(\"Duplicates\")"
      ]
    },
    {
      "cell_type": "markdown",
      "metadata": {
        "id": "fPfBXQSJPuwD"
      },
      "source": [
        "### Prepare early immersion schools"
      ]
    },
    {
      "cell_type": "code",
      "execution_count": 337,
      "metadata": {
        "id": "lJ29Enr4Pt8U",
        "colab": {
          "base_uri": "https://localhost:8080/"
        },
        "outputId": "727aa245-ef71-425d-9e00-7b4b12f7d197"
      },
      "outputs": [
        {
          "output_type": "stream",
          "name": "stdout",
          "text": [
            "+------------+------------------+\n",
            "|fi_school_id|simple_school_name|\n",
            "+------------+------------------+\n",
            "|1           |adam beck         |\n",
            "|2           |alexander stirling|\n",
            "|3           |allenby           |\n",
            "|4           |bannockburn       |\n",
            "|5           |beverley heights  |\n",
            "+------------+------------------+\n",
            "only showing top 5 rows\n",
            "\n"
          ]
        }
      ],
      "source": [
        "# apply clean up rules to school names\n",
        "dfs_f = df_fi.withColumn(\"simple_school_name\",clean_up_school_name_udf(df_fi.school_name))\n",
        "dfs_f = dfs_f.select(\"school_id\",\"simple_school_name\")\n",
        "dfs_f = dfs_f.withColumnRenamed(\"school_id\", \"fi_school_id\")\n",
        "\n",
        "df_show(dfs_f)"
      ]
    },
    {
      "cell_type": "code",
      "execution_count": 338,
      "metadata": {
        "colab": {
          "base_uri": "https://localhost:8080/"
        },
        "id": "-cXVBU_gSAg0",
        "outputId": "e781cc18-8d4c-412e-87af-9ad4777e646a"
      },
      "outputs": [
        {
          "output_type": "stream",
          "name": "stdout",
          "text": [
            "96\n",
            "96\n",
            "No duplicates\n"
          ]
        }
      ],
      "source": [
        "# calculate record count\n",
        "# Data Quality: check that cleaning up did not produce duplicate values\n",
        "total_f = dfs_f.count()\n",
        "total_dedup_f = dfs_f.select(\"simple_school_name\").distinct().count()\n",
        "print(total_f)\n",
        "print(total_dedup_f)\n",
        "if total_f == total_dedup_f:\n",
        "  print(\"No duplicates\")\n",
        "else:\n",
        "  print(\"Duplicates\")"
      ]
    },
    {
      "cell_type": "markdown",
      "metadata": {
        "id": "9vx2s2R_Zk5s"
      },
      "source": [
        "## Analyze datasets together"
      ]
    },
    {
      "cell_type": "markdown",
      "metadata": {
        "id": "-OlB5QHPO78i"
      },
      "source": [
        "### Match datasets"
      ]
    },
    {
      "cell_type": "markdown",
      "metadata": {
        "id": "nhOyl0fNQyT0"
      },
      "source": [
        "#### Match TDSB LOI and Early FI data"
      ]
    },
    {
      "cell_type": "code",
      "execution_count": 339,
      "metadata": {
        "id": "kW6qpx0pQ6F4",
        "colab": {
          "base_uri": "https://localhost:8080/"
        },
        "outputId": "fd88211a-6ea6-4fd4-d315-914a523d9f6c"
      },
      "outputs": [
        {
          "output_type": "stream",
          "name": "stdout",
          "text": [
            "+------------------+--------+--------------------+-----------+\n",
            "|simple_school_name|loi_rank|perc_rank           |rank_bucket|\n",
            "+------------------+--------+--------------------+-----------+\n",
            "|shoreham          |1       |0.002127659574468085|0          |\n",
            "|yorkwoods         |2       |0.00425531914893617 |0          |\n",
            "|oakdale park      |3       |0.006382978723404255|0          |\n",
            "|flemington        |4       |0.00851063829787234 |0          |\n",
            "|eastview          |5       |0.010638297872340425|0          |\n",
            "+------------------+--------+--------------------+-----------+\n",
            "only showing top 5 rows\n",
            "\n",
            "Early FI schools not found in TDSB LOI list: 1 schools out of 96\n",
            "Early FI schools found in TDSB LOI list: 95 schools out of 96 early FI list and out of 470 TDSB LOI list\n",
            "TDSB LOI list schools not found in the Early FI list: 375 schools out of 470 TDSB LOI list\n"
          ]
        }
      ],
      "source": [
        "# join: loi index dataframe full outer early immersion dataframe\n",
        "dfs_f_join = dfs_loi.join(dfs_f, on=\"simple_school_name\", how = \"fullouter\")\n",
        "\n",
        "# select the subset which is LOI dataframe enriched with FI information\n",
        "dfs_loi_f = dfs_f_join.filter(\"loi_rank is not NULL\").orderBy(\"loi_rank\")\n",
        "df_show(dfs_loi)\n",
        "\n",
        "\n",
        "# explore the result of matching the datasets (for debug mode only)\n",
        "if debug_ind == 1:\n",
        "  dfs_f_join_f_nloi = dfs_f_join.filter(\"loi_rank is NULL\")\n",
        "  dfs_f_join_f_loi = dfs_f_join.filter(\"fi_school_id is not NULL and loi_rank is not NULL \")\n",
        "  dfs_f_join_nf_loi = dfs_f_join.filter(\"fi_school_id is null and loi_rank is not null\")\n",
        "\n",
        "  print(\"Early FI schools not found in TDSB LOI list: \" + str(dfs_f_join_f_nloi.count()) +\n",
        "        \" schools out of \" + str(total_f))\n",
        "  print(\"Early FI schools found in TDSB LOI list: \" + str(dfs_f_join_f_loi.count()) +\n",
        "        \" schools out of \" + str(total_f) + \" early FI list and out of \" +\n",
        "        str(total_loi) + \" TDSB LOI list\")\n",
        "  print(\"TDSB LOI list schools not found in the Early FI list: \" +\n",
        "        str(dfs_f_join_nf_loi.count()) +\n",
        "        \" schools out of \" + str(total_loi) + \" TDSB LOI list\")"
      ]
    },
    {
      "cell_type": "markdown",
      "metadata": {
        "id": "Bjh06T_6SvIQ"
      },
      "source": [
        "##### Data Quality: Check what Early French Immersion schools are not found in the TDSB LOI list"
      ]
    },
    {
      "cell_type": "code",
      "execution_count": 340,
      "metadata": {
        "id": "waHlkXxwS2t7",
        "colab": {
          "base_uri": "https://localhost:8080/"
        },
        "outputId": "d3e86794-b711-4f7c-c026-e2c2d8b4495b"
      },
      "outputs": [
        {
          "output_type": "stream",
          "name": "stdout",
          "text": [
            "+------------------+--------+---------+-----------+------------+\n",
            "|simple_school_name|loi_rank|perc_rank|rank_bucket|fi_school_id|\n",
            "+------------------+--------+---------+-----------+------------+\n",
            "|bannockburn       |NULL    |NULL     |NULL       |4           |\n",
            "+------------------+--------+---------+-----------+------------+\n",
            "\n",
            "+------------------+--------+---------+-----------+------------+\n",
            "|simple_school_name|loi_rank|perc_rank|rank_bucket|fi_school_id|\n",
            "+------------------+--------+---------+-----------+------------+\n",
            "+------------------+--------+---------+-----------+------------+\n",
            "\n",
            "+------------------+--------+---------+-----------+\n",
            "|simple_school_name|loi_rank|perc_rank|rank_bucket|\n",
            "+------------------+--------+---------+-----------+\n",
            "|carleton village  |94      |0.2      |1          |\n",
            "+------------------+--------+---------+-----------+\n",
            "\n"
          ]
        }
      ],
      "source": [
        "if debug_ind == 1:\n",
        "  # see the early immersion schools not found in the loi list\n",
        "  dfs_f_join_f_nloi.show(truncate = False)\n",
        "\n",
        "  # compare unmatched records and analyse possible reasons\n",
        "  dfs_f_join_f_nloi.filter(\"simple_school_name like '%carleton%'\").show(truncate = False)\n",
        "  dfs_loi.filter(\"simple_school_name like '%carleton%'\").show(truncate = False)"
      ]
    },
    {
      "cell_type": "markdown",
      "source": [
        "Bannockburn is a newly opened school (2023) which explains why it's not in the LOI index list.  \n",
        "For all other discrepancies between spellings we created clean up rules to align the names."
      ],
      "metadata": {
        "id": "Mlh5fMCACcYa"
      }
    },
    {
      "cell_type": "markdown",
      "metadata": {
        "id": "6LZvFvfHQrgz"
      },
      "source": [
        "#### Match LOI+FI and vendor data"
      ]
    },
    {
      "cell_type": "code",
      "execution_count": 341,
      "metadata": {
        "id": "OU2f-cUBX_MD",
        "colab": {
          "base_uri": "https://localhost:8080/"
        },
        "outputId": "6df9e99f-68f5-483f-faae-99d9046804c9"
      },
      "outputs": [
        {
          "output_type": "stream",
          "name": "stdout",
          "text": [
            "+--------------------------+----------------+--------+-------------------+-----------+------------+\n",
            "|simple_school_name        |vendor_school_id|loi_rank|perc_rank          |rank_bucket|fi_school_id|\n",
            "+--------------------------+----------------+--------+-------------------+-----------+------------+\n",
            "|secord                    |111             |157     |0.33404255319148934|3          |80          |\n",
            "|winchester                |2               |162     |0.3446808510638298 |3          |92          |\n",
            "|rawlinson                 |34              |180     |0.3829787234042553 |3          |73          |\n",
            "|dr rita cox - kina minagok|40              |204     |0.4340425531914894 |4          |NULL        |\n",
            "|white haven               |109             |209     |0.44468085106382976|4          |88          |\n",
            "+--------------------------+----------------+--------+-------------------+-----------+------------+\n",
            "only showing top 5 rows\n",
            "\n",
            "Vendor schools not found in TDSB LOI list: 15 schools out of 54\n",
            "Vendor schools found in TDSB LOI list: 39 schools out of 54 vendor list and out of 470 TDSB LOI list\n",
            "TDSB LOI list schools not found in the vendor list: 431 schools out of 470 TDSB LOI list\n"
          ]
        }
      ],
      "source": [
        "# join: vendor dataframe full outer loi index + early immersion dataframe\n",
        "dfs_join = dfs_v.join(dfs_loi_f, on=\"simple_school_name\", how = \"fullouter\")\n",
        "\n",
        "# select the subset which is a dataframe with vendor schools found in LOI list and enriched with FI data\n",
        "dfs_vendor_loi_f = dfs_join.filter(\"vendor_school_id is not NULL and loi_rank is not NULL\").orderBy(\"loi_rank\")\n",
        "df_show(dfs_vendor_loi_f)\n",
        "\n",
        "# explore the result of matching the datasets (for debug mode only)\n",
        "if debug_ind == 1:\n",
        "  dfs_join_v_nloi = dfs_join.filter(\"loi_rank is NULL\")\n",
        "  dfs_join_v_loi = dfs_join.filter(\"vendor_school_id is not NULL and loi_rank is not NULL\")\n",
        "  dfs_join_nv_loi = dfs_join.filter(\"vendor_school_id is null and loi_rank is not null\")\n",
        "\n",
        "  print(\"Vendor schools not found in TDSB LOI list: \" + str(dfs_join_v_nloi.count()) +\n",
        "        \" schools out of \" + str(total_v))\n",
        "  print(\"Vendor schools found in TDSB LOI list: \" + str(dfs_join_v_loi.count()) +\n",
        "        \" schools out of \" + str(total_v) + \" vendor list and out of \" +\n",
        "        str(total_loi) + \" TDSB LOI list\")\n",
        "  print(\"TDSB LOI list schools not found in the vendor list: \" +\n",
        "        str(dfs_join_nv_loi.count()) +\n",
        "        \" schools out of \" + str(total_loi) + \" TDSB LOI list\")\n",
        "\n"
      ]
    },
    {
      "cell_type": "markdown",
      "metadata": {
        "id": "pYsU3lZ0W9Mv"
      },
      "source": [
        "##### Data Quality: Check what schools from the vendor list are not found in the TDSB LOI"
      ]
    },
    {
      "cell_type": "code",
      "execution_count": 342,
      "metadata": {
        "id": "WUiCR2GfIib_",
        "colab": {
          "base_uri": "https://localhost:8080/"
        },
        "outputId": "280a5661-1c86-4850-c2f2-5464dcc61490"
      },
      "outputs": [
        {
          "output_type": "stream",
          "name": "stdout",
          "text": [
            "+-------------------------------------------+----------------+--------+---------+-----------+------------+\n",
            "|simple_school_name                         |vendor_school_id|loi_rank|perc_rank|rank_bucket|fi_school_id|\n",
            "+-------------------------------------------+----------------+--------+---------+-----------+------------+\n",
            "|amgthe grove alternative amg-the grove     |44              |NULL    |NULL     |NULL       |NULL        |\n",
            "|associated hebrew s - posluns              |5               |NULL    |NULL     |NULL       |NULL        |\n",
            "|essex hawthorne ii bilingual alternative   |30              |NULL    |NULL     |NULL       |NULL        |\n",
            "|jays care foundation camps                 |78              |NULL    |NULL     |NULL       |NULL        |\n",
            "|mcmurrich jrwinona sr s                    |86              |NULL    |NULL     |NULL       |NULL        |\n",
            "|netivot hatorah day                        |83              |NULL    |NULL     |NULL       |NULL        |\n",
            "|northmount                                 |11              |NULL    |NULL     |NULL       |NULL        |\n",
            "|paul penna downtown jewish day             |37              |NULL    |NULL     |NULL       |NULL        |\n",
            "|roden -equinox alternative                 |46              |NULL    |NULL     |NULL       |NULL        |\n",
            "|tutoring sessions                          |92              |NULL    |NULL     |NULL       |NULL        |\n",
            "|upper canada college                       |9               |NULL    |NULL     |NULL       |NULL        |\n",
            "|voice integrative                          |61              |NULL    |NULL     |NULL       |NULL        |\n",
            "|westside montessori                        |67              |NULL    |NULL     |NULL       |NULL        |\n",
            "|wilcox                                     |89              |NULL    |NULL     |NULL       |NULL        |\n",
            "|école élémentaire catholique du sacré-coeur|95              |NULL    |NULL     |NULL       |NULL        |\n",
            "+-------------------------------------------+----------------+--------+---------+-----------+------------+\n",
            "\n",
            "+----------------------------+--------+------------------+-----------+\n",
            "|simple_school_name          |loi_rank|perc_rank         |rank_bucket|\n",
            "+----------------------------+--------+------------------+-----------+\n",
            "|roden                       |216     |0.4595744680851064|4          |\n",
            "|equinox holistic alternative|409     |0.8702127659574468|8          |\n",
            "+----------------------------+--------+------------------+-----------+\n",
            "\n",
            "+------------------+----------------+--------+-------------------+-----------+------------+\n",
            "|simple_school_name|vendor_school_id|loi_rank|perc_rank          |rank_bucket|fi_school_id|\n",
            "+------------------+----------------+--------+-------------------+-----------+------------+\n",
            "|lambton park      |NULL            |50      |0.10638297872340426|1          |NULL        |\n",
            "|lambton-kingsway  |19              |468     |0.9957446808510638 |9          |NULL        |\n",
            "+------------------+----------------+--------+-------------------+-----------+------------+\n",
            "\n"
          ]
        }
      ],
      "source": [
        "if debug_ind == 1:\n",
        "  # see the school in the vendor list absent from the loi index dataset\n",
        "  dfs_join_v_nloi.show(truncate = False)\n",
        "\n",
        "  # compare unmatched records and analyse possible reasons\n",
        "  dfs_loi.filter(\"simple_school_name like '%equinox%' or simple_school_name like '%roden%'\").show(truncate = False)\n",
        "  dfs_join.filter(\"simple_school_name like '%lambton%'\").show(truncate = False)"
      ]
    },
    {
      "cell_type": "markdown",
      "metadata": {
        "id": "F-p0qDfXP6s3"
      },
      "source": [
        "Two cases when the schools in the list are TDSB but two schools are merged into one record in the vendor list:  \n",
        "1) \"mcmurrich jr and winona sr s\"   vs two different schools in TDSB\n",
        "2) \"essex and hawthorne ii bilingual alternative\"  vs two different schools in TDSB  \n",
        "We will drop them for now.\n",
        "To handle them properly we need to split such rows into two.\n"
      ]
    },
    {
      "cell_type": "markdown",
      "source": [
        "#### Match all three datasets together"
      ],
      "metadata": {
        "id": "QGTrDtGcSgn_"
      }
    },
    {
      "cell_type": "code",
      "source": [
        "# full outer join of all three datasets\n",
        "dfs_full = dfs_f_join.join(dfs_v, on=\"simple_school_name\", how = \"fullouter\")\n",
        "df_show(dfs_full)"
      ],
      "metadata": {
        "colab": {
          "base_uri": "https://localhost:8080/"
        },
        "id": "u_Vu-AGXSi3f",
        "outputId": "c83cb8b9-f745-4fda-9cff-27fc89407436"
      },
      "execution_count": 343,
      "outputs": [
        {
          "output_type": "stream",
          "name": "stdout",
          "text": [
            "+-----------------------+--------+-------------------+-----------+------------+----------------+\n",
            "|simple_school_name     |loi_rank|perc_rank          |rank_bucket|fi_school_id|vendor_school_id|\n",
            "+-----------------------+--------+-------------------+-----------+------------+----------------+\n",
            "|adam beck              |447     |0.951063829787234  |9          |1           |8               |\n",
            "|africentric alternative|8       |0.01702127659574468|0          |NULL        |NULL            |\n",
            "|agincourt              |211     |0.44893617021276594|4          |NULL        |NULL            |\n",
            "|agnes macphail         |263     |0.5595744680851064 |5          |NULL        |NULL            |\n",
            "|albion heights         |104     |0.22127659574468084|2          |NULL        |NULL            |\n",
            "+-----------------------+--------+-------------------+-----------+------------+----------------+\n",
            "only showing top 5 rows\n",
            "\n"
          ]
        }
      ]
    },
    {
      "cell_type": "code",
      "source": [
        "\n"
      ],
      "metadata": {
        "id": "TURtcD5HeLCN"
      },
      "execution_count": 343,
      "outputs": []
    },
    {
      "cell_type": "markdown",
      "metadata": {
        "id": "WpXjwKOjfNf_"
      },
      "source": [
        "### Enrich datasets"
      ]
    },
    {
      "cell_type": "markdown",
      "source": [
        "#### Create 'french immersion' indicator"
      ],
      "metadata": {
        "id": "2ROP5kkD6t-j"
      }
    },
    {
      "cell_type": "code",
      "execution_count": 344,
      "metadata": {
        "id": "PcvIvjY5dd38",
        "colab": {
          "base_uri": "https://localhost:8080/"
        },
        "outputId": "c6d6e29e-e0ec-4c1d-ffaf-e15a9a870932"
      },
      "outputs": [
        {
          "output_type": "stream",
          "name": "stdout",
          "text": [
            "+--------------------------+----------------+--------+-------------------+-----------+------------+------+\n",
            "|simple_school_name        |vendor_school_id|loi_rank|perc_rank          |rank_bucket|fi_school_id|fi_ind|\n",
            "+--------------------------+----------------+--------+-------------------+-----------+------------+------+\n",
            "|secord                    |111             |157     |0.33404255319148934|3          |80          |1     |\n",
            "|winchester                |2               |162     |0.3446808510638298 |3          |92          |1     |\n",
            "|rawlinson                 |34              |180     |0.3829787234042553 |3          |73          |1     |\n",
            "|dr rita cox - kina minagok|40              |204     |0.4340425531914894 |4          |NULL        |0     |\n",
            "|white haven               |109             |209     |0.44468085106382976|4          |88          |1     |\n",
            "+--------------------------+----------------+--------+-------------------+-----------+------------+------+\n",
            "only showing top 5 rows\n",
            "\n"
          ]
        }
      ],
      "source": [
        "# create a new column in dfs_vendor_loi_f named \"fi_ind\" which is 1 if fi_school_id is not null and 0 otherwise\n",
        "dfs_vendor_loi_f = dfs_vendor_loi_f.withColumn(\"fi_ind\", F.when(F.col(\"fi_school_id\").isNull(), 0).otherwise(1))\n",
        "df_show(dfs_vendor_loi_f)"
      ]
    },
    {
      "cell_type": "markdown",
      "source": [
        "#### Calculate aggregate counts for vendor schools"
      ],
      "metadata": {
        "id": "VUEBxCfV7OvM"
      }
    },
    {
      "cell_type": "markdown",
      "source": [
        "Create a dataset that slices the vendor schools count across two dimensions:\n",
        "- bucket rank percentage\n",
        "- french immersion identifier   \n",
        "\n",
        "For all pairs of possible dimension values"
      ],
      "metadata": {
        "id": "7rt9Bg9H7hJC"
      }
    },
    {
      "cell_type": "code",
      "execution_count": 345,
      "metadata": {
        "id": "cf5ziCTKew34",
        "colab": {
          "base_uri": "https://localhost:8080/"
        },
        "outputId": "ecf10ada-5a67-48b7-dd13-ef24bd185863"
      },
      "outputs": [
        {
          "output_type": "stream",
          "name": "stdout",
          "text": [
            "+------+-----------+\n",
            "|fi_ind|rank_bucket|\n",
            "+------+-----------+\n",
            "|0     |0          |\n",
            "|0     |1          |\n",
            "|0     |2          |\n",
            "|0     |3          |\n",
            "|0     |4          |\n",
            "+------+-----------+\n",
            "only showing top 5 rows\n",
            "\n"
          ]
        }
      ],
      "source": [
        "# create a new dataframe with one column \"fi_ind\" with two records, values =  0 and 1\n",
        "atom_fi_ind = spark.createDataFrame([0,1], pys_types.IntegerType()).withColumnRenamed(\"value\", \"fi_ind\")\n",
        "\n",
        "# create a new dataframe with all 10 possible values for percentage buckets\n",
        "atom_rank_bucket = spark.createDataFrame(list(range(0,10)), pys_types.IntegerType()).withColumnRenamed(\"value\", \"rank_bucket\")\n",
        "\n",
        "# multiply the two datasets to create a backbone dataset with all possible pairs\n",
        "atom_fi_bucket = atom_fi_ind.crossJoin(atom_rank_bucket)\n",
        "df_show(atom_fi_bucket)"
      ]
    },
    {
      "cell_type": "code",
      "execution_count": 346,
      "metadata": {
        "id": "5GvC53f2jR-b",
        "colab": {
          "base_uri": "https://localhost:8080/"
        },
        "outputId": "ac7670a2-24dc-44f6-fffc-ff5bf5b9f1d9"
      },
      "outputs": [
        {
          "output_type": "stream",
          "name": "stdout",
          "text": [
            "+-----------+-----+\n",
            "|rank_bucket|count|\n",
            "+-----------+-----+\n",
            "|3          |3    |\n",
            "|4          |2    |\n",
            "|6          |5    |\n",
            "|7          |4    |\n",
            "|8          |8    |\n",
            "+-----------+-----+\n",
            "only showing top 5 rows\n",
            "\n"
          ]
        }
      ],
      "source": [
        "# count the number of vendor schools for each percentage rank bucket\n",
        "dfs_buckets = dfs_vendor_loi_f.groupBy(\"rank_bucket\").count().orderBy(\"rank_bucket\")\n",
        "df_show(dfs_buckets)"
      ]
    },
    {
      "cell_type": "code",
      "execution_count": 347,
      "metadata": {
        "id": "Eu13uaISvknF",
        "colab": {
          "base_uri": "https://localhost:8080/"
        },
        "outputId": "bb6ed5ab-5752-4006-dfc2-ba35f8f79313"
      },
      "outputs": [
        {
          "output_type": "stream",
          "name": "stdout",
          "text": [
            "+------+-----------+-----+\n",
            "|fi_ind|rank_bucket|count|\n",
            "+------+-----------+-----+\n",
            "|0     |4          |1    |\n",
            "|0     |6          |3    |\n",
            "|0     |7          |2    |\n",
            "|0     |8          |4    |\n",
            "|0     |9          |13   |\n",
            "+------+-----------+-----+\n",
            "only showing top 5 rows\n",
            "\n"
          ]
        }
      ],
      "source": [
        "# count the number of vendor schools for each pair of percentage rank bucket and french immersion indicator\n",
        "dfs_fi_buckets = dfs_vendor_loi_f.groupBy(\"fi_ind\",\"rank_bucket\").count().orderBy(\"fi_ind\", \"rank_bucket\")\n",
        "df_show(dfs_fi_buckets)"
      ]
    },
    {
      "cell_type": "code",
      "execution_count": 348,
      "metadata": {
        "id": "oDkEVrTGgvRL",
        "colab": {
          "base_uri": "https://localhost:8080/"
        },
        "outputId": "61227c80-f61f-4627-a24c-9dbc6cd1ae1e"
      },
      "outputs": [
        {
          "output_type": "stream",
          "name": "stdout",
          "text": [
            "+------+-----------+-----+\n",
            "|fi_ind|rank_bucket|count|\n",
            "+------+-----------+-----+\n",
            "|0     |0          |0    |\n",
            "|0     |1          |0    |\n",
            "|0     |2          |0    |\n",
            "|0     |3          |0    |\n",
            "|0     |4          |1    |\n",
            "+------+-----------+-----+\n",
            "only showing top 5 rows\n",
            "\n"
          ]
        }
      ],
      "source": [
        "# map the aggregated counts onto the dataframe with all possible dimension values\n",
        "dfs_full_buckets = atom_fi_bucket.join(dfs_fi_buckets, on=[\"fi_ind\",\"rank_bucket\"], how = \"left\")\n",
        "dfs_full_buckets = dfs_full_buckets.na.fill(0).orderBy(\"fi_ind\", \"rank_bucket\")\n",
        "df_show(dfs_full_buckets)"
      ]
    },
    {
      "cell_type": "markdown",
      "metadata": {
        "id": "zG3QwuzbP3yg"
      },
      "source": [
        "### Visualize"
      ]
    },
    {
      "cell_type": "markdown",
      "source": [
        "##### Define list of subsets and their colors"
      ],
      "metadata": {
        "id": "sso4Ou4NC3XM"
      }
    },
    {
      "cell_type": "code",
      "source": [
        "subsets = []\n",
        "for loi in [1,0]:\n",
        "  for fi in [1,0]:\n",
        "    for v in [1,0]:\n",
        "      subset = {\"id\": str(loi) + str(fi) + str(v), \"loi\": loi, \"fi\": fi, \"v\": v}\n",
        "      subsets.append(subset)\n",
        "\n",
        "subsets"
      ],
      "metadata": {
        "colab": {
          "base_uri": "https://localhost:8080/"
        },
        "id": "2sRnL7Bq60r_",
        "outputId": "69261195-71ba-4107-f189-27e101e98e06"
      },
      "execution_count": 349,
      "outputs": [
        {
          "output_type": "execute_result",
          "data": {
            "text/plain": [
              "[{'id': '111', 'loi': 1, 'fi': 1, 'v': 1},\n",
              " {'id': '110', 'loi': 1, 'fi': 1, 'v': 0},\n",
              " {'id': '101', 'loi': 1, 'fi': 0, 'v': 1},\n",
              " {'id': '100', 'loi': 1, 'fi': 0, 'v': 0},\n",
              " {'id': '011', 'loi': 0, 'fi': 1, 'v': 1},\n",
              " {'id': '010', 'loi': 0, 'fi': 1, 'v': 0},\n",
              " {'id': '001', 'loi': 0, 'fi': 0, 'v': 1},\n",
              " {'id': '000', 'loi': 0, 'fi': 0, 'v': 0}]"
            ]
          },
          "metadata": {},
          "execution_count": 349
        }
      ]
    },
    {
      "cell_type": "code",
      "source": [
        "color_list = ['indigo','red','green','yellow',   'white', 'magenta', 'cyan', 'black']\n",
        "for i in range(0,8):\n",
        "  subsets[i][\"color\"] = color_list[i]\n",
        "\n",
        "print(subsets)\n",
        "# calulate all subset sizes to use for Venn diagram\n",
        "#loi_nf_nv_color = 'yellow'\n",
        "#nloi_f_nv_color = 'purple'\n",
        "#loi_f_nv_color = 'orange'\n",
        "#nloi_nf_v_color = 'gray'\n",
        "#loi_nf_v_color = 'green'\n",
        "#nloi_f_v_color = 'white'\n",
        "#loi_f_v_color = 'blue'\n"
      ],
      "metadata": {
        "colab": {
          "base_uri": "https://localhost:8080/"
        },
        "id": "jihQYJSY2uNo",
        "outputId": "8fe6f474-d824-46a4-a152-f294860c595b"
      },
      "execution_count": 350,
      "outputs": [
        {
          "output_type": "stream",
          "name": "stdout",
          "text": [
            "[{'id': '111', 'loi': 1, 'fi': 1, 'v': 1, 'color': 'indigo'}, {'id': '110', 'loi': 1, 'fi': 1, 'v': 0, 'color': 'red'}, {'id': '101', 'loi': 1, 'fi': 0, 'v': 1, 'color': 'green'}, {'id': '100', 'loi': 1, 'fi': 0, 'v': 0, 'color': 'yellow'}, {'id': '011', 'loi': 0, 'fi': 1, 'v': 1, 'color': 'white'}, {'id': '010', 'loi': 0, 'fi': 1, 'v': 0, 'color': 'magenta'}, {'id': '001', 'loi': 0, 'fi': 0, 'v': 1, 'color': 'cyan'}, {'id': '000', 'loi': 0, 'fi': 0, 'v': 0, 'color': 'black'}]\n"
          ]
        }
      ]
    },
    {
      "cell_type": "code",
      "source": [
        "# cache dataframes\n",
        "dfs_loi_f_c = dfs_loi_f.cache()\n",
        "dfs_loi_f_c.count()\n",
        "\n",
        "dfs_vendor_loi_f_c = dfs_vendor_loi_f.cache()\n",
        "dfs_vendor_loi_f_c.count()\n",
        "\n",
        "dfs_buckets_c = dfs_buckets.cache()\n",
        "dfs_buckets_c.count()\n",
        "\n",
        "dfs_full_buckets_c = dfs_full_buckets.cache()\n",
        "dfs_full_buckets_c.count()"
      ],
      "metadata": {
        "colab": {
          "base_uri": "https://localhost:8080/"
        },
        "id": "BKjLiBHbKcmP",
        "outputId": "9bf139c7-754e-4ce2-b3bb-45ab510d18c0"
      },
      "execution_count": 351,
      "outputs": [
        {
          "output_type": "execute_result",
          "data": {
            "text/plain": [
              "20"
            ]
          },
          "metadata": {},
          "execution_count": 351
        }
      ]
    },
    {
      "cell_type": "markdown",
      "source": [
        "#### Show all TDSB schools sorted by LOI index. Highlight Early French Immersion schools and schools with extracurriculars offered by the vendor"
      ],
      "metadata": {
        "id": "nwhFDgBG91X2"
      }
    },
    {
      "cell_type": "markdown",
      "source": [
        "##### Prepare chart data"
      ],
      "metadata": {
        "id": "m8iyAYci-MOE"
      }
    },
    {
      "cell_type": "code",
      "execution_count": 352,
      "metadata": {
        "id": "iWTWLb9HSoBU"
      },
      "outputs": [],
      "source": [
        "# Get a series of loi rank values\n",
        "loi_rank_collect = dfs_loi_f_c.select(\"loi_rank\").collect()\n",
        "loi_rank_list = [x[\"loi_rank\"] for x in loi_rank_collect]\n",
        "\n",
        "# Get a series of percentage loi rank values\n",
        "loi_perc_collect = dfs_loi_f_c.select(\"perc_rank\").collect()\n",
        "loi_perc_list = [x[\"perc_rank\"] for x in loi_perc_collect]\n",
        "\n",
        "\n",
        "# Generate ticks and labels for 1 to max_rank\n",
        "#rank_ticks_values = {1}\n",
        "rank_ticks_values = set(range(0, max_rank + 1, 100))\n",
        "rank_ticks_values.add(max_rank)\n",
        "rank_ticks_values = sorted(rank_ticks_values)\n",
        "rank_ticks_labels = [str(x) for x in rank_ticks_values]\n",
        "\n",
        "# Generate ticks and labels for a percentage axis\n",
        "perc_ticks_values = list(range(0,101, 10))\n",
        "perc_ticks_labels = [str(x)+\"%\" for x in perc_ticks_values]\n",
        "perc_ticks_values = [x / 100 for x in perc_ticks_values]\n",
        "\n",
        "# Assign color to LOI school (yellow - no FI, brown - FI)\n",
        "loi_nf_nv_color = [subset['color'] for subset in subsets if subset[\"id\"] == \"100\"][0]\n",
        "loi_f_nv_color = [subset['color'] for subset in subsets if subset[\"id\"] == \"110\"][0]\n",
        "dfs_loi_f_color = dfs_loi_f_c.orderBy(\"loi_rank\").withColumn(\"color\", F.when(F.col(\"fi_school_id\").isNull(), loi_nf_nv_color).otherwise(loi_f_nv_color))\n",
        "colors_list = [x[\"color\"] for x in dfs_loi_f_color.select(\"color\").collect()]\n",
        "\n",
        "# Get a series of vendor schools ranks\n",
        "v_list = [x[\"loi_rank\"] for x in dfs_vendor_loi_f_c.select(\"loi_rank\").collect()]\n",
        "\n",
        "# Assign color to vendor school (blue - no FI, green - FI)\n",
        "loi_nf_v_color = [subset['color'] for subset in subsets if subset[\"id\"] == \"101\"][0]\n",
        "loi_f_v_color = [subset['color'] for subset in subsets if subset[\"id\"] == \"111\"][0]\n",
        "dfs_vendor_loi_f_color = dfs_vendor_loi_f_c.withColumn(\"color\", F.when(F.col(\"fi_school_id\").isNull(), loi_nf_v_color).otherwise(loi_f_v_color))\n",
        "v_colors_list = [x[\"color\"] for x in dfs_vendor_loi_f_color.select(\"color\").collect()]\n",
        "\n",
        "\n"
      ]
    },
    {
      "cell_type": "markdown",
      "source": [
        "##### Prepare the chart"
      ],
      "metadata": {
        "id": "SGFAYHlc-O4Z"
      }
    },
    {
      "cell_type": "code",
      "execution_count": 353,
      "metadata": {
        "colab": {
          "base_uri": "https://localhost:8080/"
        },
        "id": "i1cFJqcZP5n4",
        "outputId": "23ca6250-6e88-497a-c5d2-cc837a00560d"
      },
      "outputs": [
        {
          "output_type": "execute_result",
          "data": {
            "text/plain": [
              "<matplotlib.collections.PathCollection at 0x79f9715c8970>"
            ]
          },
          "metadata": {},
          "execution_count": 353
        }
      ],
      "source": [
        "# turn off interactive mode (the actual chart will be in the next cell)\n",
        "plt.ioff()\n",
        "\n",
        "# create plot objects\n",
        "fig, ax = plt.subplots()\n",
        "\n",
        "# Create secondary y-axis\n",
        "ax_p = ax.twinx()\n",
        "\n",
        "# Set the limits of the plot\n",
        "ax.set_ylim(0, max_rank)\n",
        "ax_p.set_ylim(0,1)\n",
        "\n",
        "# Set the ticks and labels for x and y axes\n",
        "ax.set_yticks(rank_ticks_values)\n",
        "ax.set_yticklabels(rank_ticks_labels)\n",
        "ax.set_xticks(rank_ticks_values)\n",
        "ax.set_xticklabels(rank_ticks_labels)\n",
        "\n",
        "# Set the ticks and labels for the secondary y-axis (percentages)\n",
        "ax_p.set_yticks(perc_ticks_values)\n",
        "ax_p.set_yticklabels(perc_ticks_labels)\n",
        "\n",
        "# Adding horizontal grid lines at percentage ticks\n",
        "ax_p.grid(which='major', axis='y', linestyle='--', color='grey')\n",
        "\n",
        "# Labeling the axes\n",
        "ax.set_xlabel('TDSB schools')\n",
        "ax.set_ylabel('LOI Index')\n",
        "ax_p.set_ylabel('LOI rank percentile')\n",
        "\n",
        "# Set the title\n",
        "ax.set_title('Vendor classes availability across TDSB schools')\n",
        "\n",
        "# Plot the bar chart (with all schools and their index)\n",
        "ax.bar(loi_rank_list,loi_rank_list, 1, color=colors_list, alpha = 0.5)\n",
        "\n",
        "# Plot the scatter chart (with all schools in the vendor list)\n",
        "ax.scatter(v_list, v_list, 1, color=v_colors_list, alpha = 1)\n"
      ]
    },
    {
      "cell_type": "markdown",
      "source": [
        "##### Show the chart"
      ],
      "metadata": {
        "id": "NWf1pC6tBXVc"
      }
    },
    {
      "cell_type": "code",
      "source": [
        "# Show the plot\n",
        "plt.show()"
      ],
      "metadata": {
        "colab": {
          "base_uri": "https://localhost:8080/",
          "height": 472
        },
        "id": "sTwEwQirBL8j",
        "outputId": "bc2651e6-8393-4768-be4a-5a4455c2d849"
      },
      "execution_count": 354,
      "outputs": [
        {
          "output_type": "display_data",
          "data": {
            "text/plain": [
              "<Figure size 640x480 with 2 Axes>"
            ],
            "image/png": "[encoded data removed]"
          },
          "metadata": {}
        }
      ]
    },
    {
      "cell_type": "markdown",
      "source": [
        "#### Show all schools with extracurriculars offered by the vendor. Break them down by their LOI index bucket and presence of Early French Immersion stream"
      ],
      "metadata": {
        "id": "aZbFxT6L-TOl"
      }
    },
    {
      "cell_type": "markdown",
      "source": [
        "##### Prepare chart data"
      ],
      "metadata": {
        "id": "TvXf1rvoBbm1"
      }
    },
    {
      "cell_type": "code",
      "execution_count": 355,
      "metadata": {
        "colab": {
          "base_uri": "https://localhost:8080/"
        },
        "id": "eZzHYnOi1mQr",
        "outputId": "dcc8b544-36df-4373-a487-d1530a6bbd80"
      },
      "outputs": [
        {
          "output_type": "stream",
          "name": "stdout",
          "text": [
            "[0, 1, 2, 3, 4, 5, 6, 7, 8, 9]\n",
            "[0, 1, 2, 3, 4, 5, 6, 7, 8, 9]\n",
            "[3, 2, 5, 4, 8, 17]\n",
            "[0, 0, 0, 3, 1, 0, 2, 2, 4, 4]\n",
            "[0, 0, 0, 0, 1, 0, 3, 2, 4, 13]\n"
          ]
        }
      ],
      "source": [
        "# Get a series of buckets\n",
        "rank_bucket_list_fi = [x[\"rank_bucket\"] for x in dfs_full_buckets_c.select(\"rank_bucket\").filter(\"fi_ind = 1\").collect()]\n",
        "rank_bucket_list_nfi = [x[\"rank_bucket\"] for x in dfs_full_buckets_c.select(\"rank_bucket\").filter(\"fi_ind = 0\").collect()]\n",
        "print(rank_bucket_list_fi)\n",
        "print(rank_bucket_list_nfi)\n",
        "\n",
        "# Get a series of bucket counts\n",
        "rank_count_list = [x[\"count\"] for x in dfs_buckets_c.select(\"count\").collect()]\n",
        "rank_count_list_fi = [x[\"count\"] for x in dfs_full_buckets_c.select(\"count\").filter(\"fi_ind = 1\").collect()]\n",
        "rank_count_list_nfi = [x[\"count\"] for x in dfs_full_buckets_c.select(\"count\").filter(\"fi_ind = 0\").collect()]\n",
        "print(rank_count_list)\n",
        "print(rank_count_list_fi)\n",
        "print(rank_count_list_nfi)\n",
        "\n",
        "# Generate ticks and labels for buckets\n",
        "bucket_ticks_values = [x for x in range(0,11)]\n",
        "bucket_ticks_labels = [str(x*10) + \"%\" for x in bucket_ticks_values]\n",
        "\n",
        "# Generate ticks and labels for bucket counts\n",
        "bucket_count_ticks_values = set(rank_count_list)\n",
        "bucket_count_ticks_values.add(0)\n",
        "bucket_count_ticks_values = list(range(0,max(rank_count_list)+1))\n",
        "bucket_count_ticks_labels = [str(x) for x in bucket_count_ticks_values]"
      ]
    },
    {
      "cell_type": "markdown",
      "source": [
        "##### Prepare the chart"
      ],
      "metadata": {
        "id": "xqRZYcPsBd7s"
      }
    },
    {
      "cell_type": "code",
      "execution_count": 356,
      "metadata": {
        "colab": {
          "base_uri": "https://localhost:8080/"
        },
        "id": "i9G8dzB3wImR",
        "outputId": "9c41f121-89d4-470a-9a5b-a0e7ea477730"
      },
      "outputs": [
        {
          "output_type": "execute_result",
          "data": {
            "text/plain": [
              "<BarContainer object of 10 artists>"
            ]
          },
          "metadata": {},
          "execution_count": 356
        }
      ],
      "source": [
        "# turn off interactive mode (the actual chart will be in the next cell)\n",
        "plt.ioff()\n",
        "\n",
        "# create plot objects\n",
        "fig, ax = plt.subplots()\n",
        "\n",
        "# Set the limits of the plot\n",
        "ax.set_xlim(0, 10)\n",
        "ax.set_ylim(0, max(rank_count_list))\n",
        "\n",
        "# Set the ticks and labels for x and y axes\n",
        "ax.set_xticks(bucket_ticks_values)\n",
        "ax.set_xticklabels(bucket_ticks_labels)\n",
        "ax.set_yticks(bucket_count_ticks_values)\n",
        "ax.set_yticklabels(bucket_count_ticks_labels)\n",
        "\n",
        "# Adding horizontal grid lines at percentage ticks\n",
        "ax.grid(which='major', axis='y', linestyle='--', color='black')\n",
        "\n",
        "# Labeling the axes\n",
        "ax.set_xlabel('LOI Index percentile buckets')\n",
        "ax.set_ylabel('Number of schools with vendor classes')\n",
        "\n",
        "# Set the title\n",
        "ax.set_title('Schools with vendor classes grouped by LOI Index percentile')\n",
        "\n",
        "# Plot the bar chart (with all schools and their index)\n",
        "loi_nf_v_color = [subset['color'] for subset in subsets if subset[\"id\"] == \"101\"][0]\n",
        "loi_f_v_color = [subset['color'] for subset in subsets if subset[\"id\"] == \"111\"][0]\n",
        "ax.bar(rank_bucket_list_fi, rank_count_list_fi, 1, align='edge', color=loi_f_v_color, alpha = 0.5, edgecolor=\"black\")\n",
        "ax.bar(rank_bucket_list_nfi, rank_count_list_nfi, 1, bottom = rank_count_list_fi, align='edge', color=loi_nf_v_color, alpha = 0.5, edgecolor=\"black\")\n",
        "\n"
      ]
    },
    {
      "cell_type": "markdown",
      "source": [
        "##### Show the chart\n"
      ],
      "metadata": {
        "id": "z3mpt6M4Bi0e"
      }
    },
    {
      "cell_type": "code",
      "source": [
        "# Show the plot\n",
        "plt.show()"
      ],
      "metadata": {
        "colab": {
          "base_uri": "https://localhost:8080/",
          "height": 472
        },
        "id": "6sNUWAQOBk-B",
        "outputId": "825be1c1-5175-414b-e652-55525dcd5bd5"
      },
      "execution_count": 357,
      "outputs": [
        {
          "output_type": "display_data",
          "data": {
            "text/plain": [
              "<Figure size 640x480 with 1 Axes>"
            ],
            "image/png": "[encoded data removed]"
          },
          "metadata": {}
        }
      ]
    },
    {
      "cell_type": "markdown",
      "source": [
        "#### Show a Venn diagram for subsets of schools with LOI index, with FI stream, with extracurriculars offered by the vendor"
      ],
      "metadata": {
        "id": "1Rh-JIJJQjoi"
      }
    },
    {
      "cell_type": "markdown",
      "source": [
        "###### Prepare chart data"
      ],
      "metadata": {
        "id": "qv55P-PoinnD"
      }
    },
    {
      "cell_type": "code",
      "source": [
        "# calulate all subset sizes to use for Venn diagram\n",
        "loi_nf_nv_cnt = dfs_full.filter(\"loi_rank is not NULL and fi_school_id is null and vendor_school_id is NULL\").count()\n",
        "nloi_f_nv_cnt = dfs_full.filter(\"loi_rank is NULL and fi_school_id is not null and vendor_school_id is NULL\").count()\n",
        "loi_f_nv_cnt = dfs_full.filter(\"loi_rank is not NULL and fi_school_id is not null and vendor_school_id is NULL\").count()\n",
        "nloi_nf_v_cnt = dfs_full.filter(\"loi_rank is NULL and fi_school_id is null and vendor_school_id is not NULL\").count()\n",
        "loi_nf_v_cnt = dfs_full.filter(\"loi_rank is not NULL and fi_school_id is null and vendor_school_id is not NULL\").count()\n",
        "nloi_f_v_cnt = dfs_full.filter(\"loi_rank is NULL and fi_school_id is not null and vendor_school_id is not NULL\").count()\n",
        "loi_f_v_cnt = dfs_full.filter(\"loi_rank is not NULL and fi_school_id is not null and vendor_school_id is not NULL\").count()\n"
      ],
      "metadata": {
        "id": "KknHrDnPiWuu"
      },
      "execution_count": 358,
      "outputs": []
    },
    {
      "cell_type": "code",
      "source": [
        "all_tdsb_schools = loi_nf_nv_cnt + loi_f_nv_cnt + loi_nf_v_cnt + loi_f_v_cnt\n",
        "all_tdsb_schools_with_vendor = loi_nf_v_cnt + loi_f_v_cnt\n",
        "ratio_all_tdsb_schools_with_vendor = (all_tdsb_schools_with_vendor / all_tdsb_schools)*100\n",
        "all_tdsb_fi_schools = loi_f_nv_cnt + loi_f_v_cnt\n",
        "all_tdsb_fi_schools_with_vendor = loi_f_v_cnt\n",
        "ratio_all_tdsb_fi_schools_with_vendor = (all_tdsb_fi_schools_with_vendor / all_tdsb_fi_schools)*100\n",
        "print(ratio_all_tdsb_schools_with_vendor)\n",
        "print(ratio_all_tdsb_fi_schools_with_vendor)"
      ],
      "metadata": {
        "colab": {
          "base_uri": "https://localhost:8080/"
        },
        "id": "sZWa-Y1QR3UT",
        "outputId": "27667f0d-beb0-4953-f848-09c0a7b813ab"
      },
      "execution_count": 359,
      "outputs": [
        {
          "output_type": "stream",
          "name": "stdout",
          "text": [
            "8.297872340425531\n",
            "16.842105263157894\n"
          ]
        }
      ]
    },
    {
      "cell_type": "markdown",
      "source": [
        "###### Prepare the chart"
      ],
      "metadata": {
        "id": "9Pr5njbRixXz"
      }
    },
    {
      "cell_type": "code",
      "source": [
        "v=venn3(subsets = (loi_nf_nv_cnt,nloi_f_nv_cnt,loi_f_nv_cnt,nloi_nf_v_cnt,\n",
        "                 loi_nf_v_cnt,nloi_f_v_cnt,loi_f_v_cnt),\n",
        "      set_labels = ('TSDB schools with LOI index', 'TDSB schools with FI', 'Schools with vendor extracurriculars'))\n",
        "\n",
        "for subset in subsets:\n",
        "  if subset['id'] != '000':\n",
        "    patch = v.get_patch_by_id(subset['id'])\n",
        "    if patch is not None:\n",
        "      patch.set_color(subset['color'])\n",
        "      patch.set_alpha(0.5)\n",
        "      print(subset['id'] + \" \" + subset['color'])\n",
        "\n"
      ],
      "metadata": {
        "colab": {
          "base_uri": "https://localhost:8080/"
        },
        "id": "mwm6B2qPRGGV",
        "outputId": "2001c846-22b5-4bcf-b5e7-d6227540011f"
      },
      "execution_count": 360,
      "outputs": [
        {
          "output_type": "stream",
          "name": "stdout",
          "text": [
            "111 indigo\n",
            "110 red\n",
            "101 green\n",
            "100 yellow\n",
            "010 magenta\n",
            "001 cyan\n"
          ]
        }
      ]
    },
    {
      "cell_type": "markdown",
      "source": [
        "###### Show the chart"
      ],
      "metadata": {
        "id": "8JWsdagmi3zS"
      }
    },
    {
      "cell_type": "code",
      "source": [
        "plt.show()"
      ],
      "metadata": {
        "colab": {
          "base_uri": "https://localhost:8080/",
          "height": 406
        },
        "id": "m-YSIXY8i12f",
        "outputId": "bbbe9b88-473f-4eec-beca-1fa0728ebdbf"
      },
      "execution_count": 361,
      "outputs": [
        {
          "output_type": "display_data",
          "data": {
            "text/plain": [
              "<Figure size 640x480 with 1 Axes>"
            ],
            "image/png": "[encoded data removed]"
          },
          "metadata": {}
        }
      ]
    }
  ],
  "metadata": {
    "colab": {
      "provenance": [],
      "toc_visible": true,
      "authorship_tag": "ABX9TyNA8WNJijPNDRzdRHyXds8+",
      "include_colab_link": true
    },
    "kernelspec": {
      "display_name": "Python 3",
      "name": "python3"
    },
    "language_info": {
      "name": "python"
    }
  },
  "nbformat": 4,
  "nbformat_minor": 0
}