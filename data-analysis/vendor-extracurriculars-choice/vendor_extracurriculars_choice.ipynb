{
  "nbformat": 4,
  "nbformat_minor": 0,
  "metadata": {
    "colab": {
      "provenance": [],
      "toc_visible": true,
      "authorship_tag": "ABX9TyM6yfGMfWOoC601yQ4zFDYX",
      "include_colab_link": true
    },
    "kernelspec": {
      "name": "python3",
      "display_name": "Python 3"
    },
    "language_info": {
      "name": "python"
    }
  },
  "cells": [
    {
      "cell_type": "markdown",
      "metadata": {
        "id": "view-in-github",
        "colab_type": "text"
      },
      "source": [
        "<a href=\"https://colab.research.google.com/github/olga-terekhova/data-analysis/blob/main/data-analysis/vendor-extracurriculars-choice/vendor_extracurriculars_choice.ipynb\" target=\"_parent\"><img src=\"https://colab.research.google.com/assets/colab-badge.svg\" alt=\"Open In Colab\"/></a>"
      ]
    },
    {
      "cell_type": "markdown",
      "source": [
        "## Installations and imports"
      ],
      "metadata": {
        "id": "Xy_ZjVQRDTAY"
      }
    },
    {
      "cell_type": "code",
      "source": [
        "! pip install pymupdf pillow"
      ],
      "metadata": {
        "colab": {
          "base_uri": "https://localhost:8080/"
        },
        "id": "9lAbCjdsQcGZ",
        "outputId": "b4b4d3cb-9c17-4273-a619-8b182e82f6a9"
      },
      "execution_count": 93,
      "outputs": [
        {
          "output_type": "stream",
          "name": "stdout",
          "text": [
            "Requirement already satisfied: pymupdf in /usr/local/lib/python3.10/dist-packages (1.24.7)\n",
            "Requirement already satisfied: pillow in /usr/local/lib/python3.10/dist-packages (9.4.0)\n",
            "Requirement already satisfied: PyMuPDFb==1.24.6 in /usr/local/lib/python3.10/dist-packages (from pymupdf) (1.24.6)\n"
          ]
        }
      ]
    },
    {
      "cell_type": "code",
      "source": [
        "!java -version\n",
        "!pip install -q tabula-py\n",
        "!pip install jpype1"
      ],
      "metadata": {
        "colab": {
          "base_uri": "https://localhost:8080/"
        },
        "id": "YPDRHr01Qj7X",
        "outputId": "a09802cc-85e0-40ba-98d3-2eda875c8fe4"
      },
      "execution_count": 94,
      "outputs": [
        {
          "output_type": "stream",
          "name": "stdout",
          "text": [
            "openjdk version \"11.0.23\" 2024-04-16\n",
            "OpenJDK Runtime Environment (build 11.0.23+9-post-Ubuntu-1ubuntu122.04.1)\n",
            "OpenJDK 64-Bit Server VM (build 11.0.23+9-post-Ubuntu-1ubuntu122.04.1, mixed mode, sharing)\n",
            "Requirement already satisfied: jpype1 in /usr/local/lib/python3.10/dist-packages (1.5.0)\n",
            "Requirement already satisfied: packaging in /usr/local/lib/python3.10/dist-packages (from jpype1) (24.1)\n"
          ]
        }
      ]
    },
    {
      "cell_type": "code",
      "source": [
        "!pip install pyspark findspark"
      ],
      "metadata": {
        "colab": {
          "base_uri": "https://localhost:8080/"
        },
        "id": "YfOApArx-v-v",
        "outputId": "ec4edb51-f2c6-42e3-c3a8-9477f10ddaa7"
      },
      "execution_count": 95,
      "outputs": [
        {
          "output_type": "stream",
          "name": "stdout",
          "text": [
            "Requirement already satisfied: pyspark in /usr/local/lib/python3.10/dist-packages (3.5.1)\n",
            "Requirement already satisfied: findspark in /usr/local/lib/python3.10/dist-packages (2.0.1)\n",
            "Requirement already satisfied: py4j==0.10.9.7 in /usr/local/lib/python3.10/dist-packages (from pyspark) (0.10.9.7)\n"
          ]
        }
      ]
    },
    {
      "cell_type": "code",
      "source": [
        "import requests\n",
        "import re\n",
        "import tabula\n",
        "import pandas as pd\n",
        "import matplotlib.pyplot as plt"
      ],
      "metadata": {
        "id": "h656H94gT4Qg"
      },
      "execution_count": 96,
      "outputs": []
    },
    {
      "cell_type": "code",
      "source": [
        "import findspark\n",
        "findspark.init()"
      ],
      "metadata": {
        "id": "s7D0EyrW_Gq9"
      },
      "execution_count": 97,
      "outputs": []
    },
    {
      "cell_type": "code",
      "source": [
        "from pyspark.sql import SparkSession\n",
        "spark = SparkSession.builder.appName(\"vendor-extracurriculars-choice\").getOrCreate()"
      ],
      "metadata": {
        "id": "L1f9s4hd_PaS"
      },
      "execution_count": 98,
      "outputs": []
    },
    {
      "cell_type": "code",
      "source": [
        "from pyspark.sql import functions as F\n",
        "import pyspark.sql.types as pys_types"
      ],
      "metadata": {
        "id": "mLcmIgu8DWV2"
      },
      "execution_count": 99,
      "outputs": []
    },
    {
      "cell_type": "markdown",
      "source": [
        "##Download source data file"
      ],
      "metadata": {
        "id": "KA4jNonuUSC0"
      }
    },
    {
      "cell_type": "markdown",
      "source": [
        "### LOI index"
      ],
      "metadata": {
        "id": "IWh7pmGzNrVs"
      }
    },
    {
      "cell_type": "code",
      "source": [
        "pdf_url = \"https://github.com/olga-terekhova/data-analysis/raw/main/vendor-extracurriculars-choice/data/LOI2023.pdf\"\n",
        "\n",
        "# Download the PDF file\n",
        "response = requests.get(pdf_url)\n",
        "pdf_path = 'LOI2023.pdf'\n",
        "\n",
        "# Save the PDF file locally\n",
        "with open(pdf_path, 'wb') as f:\n",
        "    f.write(response.content)"
      ],
      "metadata": {
        "id": "8cQSDs5QT-ai"
      },
      "execution_count": 100,
      "outputs": []
    },
    {
      "cell_type": "markdown",
      "source": [
        "### Vendor classes availability by school"
      ],
      "metadata": {
        "id": "s-P2QUCXNvT5"
      }
    },
    {
      "cell_type": "code",
      "source": [
        "url_v = \"https://raw.githubusercontent.com/olga-terekhova/data-analysis/main/vendor-extracurriculars-choice/data/find_your_school\"\n",
        "\n",
        "# Download the file with list of schools\n",
        "response_v = requests.get(url_v)\n",
        "path_v = 'find_your_school'\n",
        "\n",
        "# Save the file locally\n",
        "with open(path_v, 'wb') as f:\n",
        "    f.write(response_v.content)"
      ],
      "metadata": {
        "id": "CCZ97XcfNz8d"
      },
      "execution_count": 101,
      "outputs": []
    },
    {
      "cell_type": "markdown",
      "source": [
        "## Create datasets"
      ],
      "metadata": {
        "id": "TcYBb3UDOb2s"
      }
    },
    {
      "cell_type": "markdown",
      "source": [
        "### Check areas"
      ],
      "metadata": {
        "id": "amif8YDjVTeP"
      }
    },
    {
      "cell_type": "markdown",
      "source": [
        "Check that area boundaries identified for tables within pdf contain the table fully, not including headers. The script creates snapshots for the selected area for all pages with tables\n",
        "\n",
        "NB: area notation for fizz is (left, top, right, bottom), while tabula uses (top, left, bottom, right)"
      ],
      "metadata": {
        "id": "-z06qC6URsrG"
      }
    },
    {
      "cell_type": "code",
      "source": [
        "def dowload_area_pictures():\n",
        "  import fitz  # PyMuPDF\n",
        "  from PIL import Image\n",
        "\n",
        "  # Open the PDF file\n",
        "  pdf_path = \"LOI2023.pdf\"\n",
        "  document = fitz.open(pdf_path)\n",
        "\n",
        "  for i in range(6,21):\n",
        "    # Select current page\n",
        "    page = document[i]\n",
        "\n",
        "    # Specify the rectangular area (coordinates in points)\n",
        "    rect = fitz.Rect(20, 105, 770, 560)\n",
        "\n",
        "    # Get the pixmap (image) of the specified rectangular area\n",
        "    pix = page.get_pixmap(clip=rect)\n",
        "\n",
        "    # Save the image\n",
        "    image_path = 'output_image' + str(i) + '.png'\n",
        "    pix.save(image_path)\n",
        "\n",
        "    # Convert the pixmap to a PIL Image and display it (optional)\n",
        "    image = Image.open(image_path)\n",
        "    image.show()\n",
        "\n"
      ],
      "metadata": {
        "id": "XeJO4pg7L3uc"
      },
      "execution_count": 102,
      "outputs": []
    },
    {
      "cell_type": "markdown",
      "source": [
        "### Extract dataframe with LOI index"
      ],
      "metadata": {
        "id": "CoHHKDs4UZu3"
      }
    },
    {
      "cell_type": "code",
      "source": [
        "tabula.environment_info()"
      ],
      "metadata": {
        "colab": {
          "base_uri": "https://localhost:8080/"
        },
        "id": "P0ybmC86HTVA",
        "outputId": "8d3ac451-0a95-4454-859e-2b41e2cc55a3"
      },
      "execution_count": 103,
      "outputs": [
        {
          "output_type": "stream",
          "name": "stdout",
          "text": [
            "Python version:\n",
            "    3.10.12 (main, Nov 20 2023, 15:14:05) [GCC 11.4.0]\n",
            "Java version:\n",
            "    openjdk version \"11.0.23\" 2024-04-16\n",
            "OpenJDK Runtime Environment (build 11.0.23+9-post-Ubuntu-1ubuntu122.04.1)\n",
            "OpenJDK 64-Bit Server VM (build 11.0.23+9-post-Ubuntu-1ubuntu122.04.1, mixed mode, sharing)\n",
            "tabula-py version: 2.9.3\n",
            "platform: Linux-6.1.85+-x86_64-with-glibc2.35\n",
            "uname:\n",
            "    uname_result(system='Linux', node='f787e439e59e', release='6.1.85+', version='#1 SMP PREEMPT_DYNAMIC Fri May 24 14:06:39 UTC 2024', machine='x86_64')\n",
            "linux_distribution: ('Ubuntu', '22.04', 'jammy')\n",
            "mac_ver: ('', ('', '', ''), '')\n"
          ]
        }
      ]
    },
    {
      "cell_type": "code",
      "source": [
        "table_header = ['School ID', 'School Name', 'LOI 2023 Rank', 'LOI 2020 Rank', 'LOI 2017 Rank', 'LOI 2014 Rank', 'LOI 2011 Rank', 'LOI Scores', 'Ward', 'Learning Centre']"
      ],
      "metadata": {
        "id": "kFxd9J3qVopR"
      },
      "execution_count": 104,
      "outputs": []
    },
    {
      "cell_type": "code",
      "source": [
        "dfs = tabula.read_pdf(pdf_path, stream=True, pages=\"7-21\", area=[105, 20, 560, 770], pandas_options={'header': None}, multiple_tables=False)\n",
        "print(len(dfs))\n",
        "df = dfs[0]\n",
        "df.columns = table_header\n",
        "df"
      ],
      "metadata": {
        "colab": {
          "base_uri": "https://localhost:8080/",
          "height": 1000
        },
        "id": "g8QtG5mTLoq1",
        "outputId": "9147a920-de6a-469f-c03b-0fb176072824"
      },
      "execution_count": 105,
      "outputs": [
        {
          "output_type": "stream",
          "name": "stdout",
          "text": [
            "1\n"
          ]
        },
        {
          "output_type": "execute_result",
          "data": {
            "text/plain": [
              "     School ID                                  School Name  LOI 2023 Rank  \\\n",
              "0          247  Shoreham Public Sports and Wellness Academy              1   \n",
              "1          296                      Yorkwoods Public School              2   \n",
              "2          209                   Oakdale Park Middle School              3   \n",
              "3          126                     Flemington Public School              4   \n",
              "4         1146                       Eastview Public School              5   \n",
              "..         ...                                          ...            ...   \n",
              "465       1361            Maurice Cody Junior Public School            466   \n",
              "466       1415                 Whitney Junior Public School            467   \n",
              "467       1060        Lambton‐Kingsway Junior Middle School            468   \n",
              "468       1083                       Sunnylea Junior School            469   \n",
              "469       1278               Blythwood Junior Public School            470   \n",
              "\n",
              "     LOI 2020 Rank  LOI 2017 Rank  LOI 2014 Rank  LOI 2011 Rank  \\\n",
              "0              1.0            2.0            4.0            3.0   \n",
              "1              2.0            1.0            6.0           10.0   \n",
              "2             11.0           12.0           13.0           20.0   \n",
              "3              4.0            3.0            3.0            7.0   \n",
              "4             18.0           21.0           17.0           16.0   \n",
              "..             ...            ...            ...            ...   \n",
              "465          467.0          464.0          466.0          470.0   \n",
              "466          472.0          471.0          473.0          479.0   \n",
              "467          471.0          469.0          472.0          476.0   \n",
              "468          470.0          465.0          469.0          475.0   \n",
              "469          473.0          470.0          474.0          478.0   \n",
              "\n",
              "                                  LOI Scores  Ward Learning Centre  \n",
              "0    0.99008 0.98770 0.98518 0.98136 0.98669     4             LC2  \n",
              "1    0.98826 0.98608 0.98569 0.97785 0.96735     4             LC2  \n",
              "2    0.97943 0.97062 0.96608 0.95863 0.94432     4             LC2  \n",
              "3    0.97858 0.98468 0.98399 0.98254 0.98003     8             LC1  \n",
              "4    0.97632 0.95736 0.94198 0.95011 0.95181    19             LC3  \n",
              "..                                       ...   ...             ...  \n",
              "465  0.00961 0.00948 0.00901 0.00662 0.00822    11             LC1  \n",
              "466  0.00826 0.00091 0.00059 0.00065 0.00012    10             LC4  \n",
              "467  0.00590 0.00359 0.00152 0.00114 0.00135     3             LC4  \n",
              "468  0.00386 0.00382 0.00781 0.00426 0.00347     3             LC4  \n",
              "469  0.00373 0.00070 0.00082 0.00064 0.00017    11             LC1  \n",
              "\n",
              "[470 rows x 10 columns]"
            ],
            "text/html": [
              "\n",
              "  <div id=\"df-b49403ff-65dc-47b7-a1e5-470287341cc3\" class=\"colab-df-container\">\n",
              "    <div>\n",
              "<style scoped>\n",
              "    .dataframe tbody tr th:only-of-type {\n",
              "        vertical-align: middle;\n",
              "    }\n",
              "\n",
              "    .dataframe tbody tr th {\n",
              "        vertical-align: top;\n",
              "    }\n",
              "\n",
              "    .dataframe thead th {\n",
              "        text-align: right;\n",
              "    }\n",
              "</style>\n",
              "<table border=\"1\" class=\"dataframe\">\n",
              "  <thead>\n",
              "    <tr style=\"text-align: right;\">\n",
              "      <th></th>\n",
              "      <th>School ID</th>\n",
              "      <th>School Name</th>\n",
              "      <th>LOI 2023 Rank</th>\n",
              "      <th>LOI 2020 Rank</th>\n",
              "      <th>LOI 2017 Rank</th>\n",
              "      <th>LOI 2014 Rank</th>\n",
              "      <th>LOI 2011 Rank</th>\n",
              "      <th>LOI Scores</th>\n",
              "      <th>Ward</th>\n",
              "      <th>Learning Centre</th>\n",
              "    </tr>\n",
              "  </thead>\n",
              "  <tbody>\n",
              "    <tr>\n",
              "      <th>0</th>\n",
              "      <td>247</td>\n",
              "      <td>Shoreham Public Sports and Wellness Academy</td>\n",
              "      <td>1</td>\n",
              "      <td>1.0</td>\n",
              "      <td>2.0</td>\n",
              "      <td>4.0</td>\n",
              "      <td>3.0</td>\n",
              "      <td>0.99008 0.98770 0.98518 0.98136 0.98669</td>\n",
              "      <td>4</td>\n",
              "      <td>LC2</td>\n",
              "    </tr>\n",
              "    <tr>\n",
              "      <th>1</th>\n",
              "      <td>296</td>\n",
              "      <td>Yorkwoods Public School</td>\n",
              "      <td>2</td>\n",
              "      <td>2.0</td>\n",
              "      <td>1.0</td>\n",
              "      <td>6.0</td>\n",
              "      <td>10.0</td>\n",
              "      <td>0.98826 0.98608 0.98569 0.97785 0.96735</td>\n",
              "      <td>4</td>\n",
              "      <td>LC2</td>\n",
              "    </tr>\n",
              "    <tr>\n",
              "      <th>2</th>\n",
              "      <td>209</td>\n",
              "      <td>Oakdale Park Middle School</td>\n",
              "      <td>3</td>\n",
              "      <td>11.0</td>\n",
              "      <td>12.0</td>\n",
              "      <td>13.0</td>\n",
              "      <td>20.0</td>\n",
              "      <td>0.97943 0.97062 0.96608 0.95863 0.94432</td>\n",
              "      <td>4</td>\n",
              "      <td>LC2</td>\n",
              "    </tr>\n",
              "    <tr>\n",
              "      <th>3</th>\n",
              "      <td>126</td>\n",
              "      <td>Flemington Public School</td>\n",
              "      <td>4</td>\n",
              "      <td>4.0</td>\n",
              "      <td>3.0</td>\n",
              "      <td>3.0</td>\n",
              "      <td>7.0</td>\n",
              "      <td>0.97858 0.98468 0.98399 0.98254 0.98003</td>\n",
              "      <td>8</td>\n",
              "      <td>LC1</td>\n",
              "    </tr>\n",
              "    <tr>\n",
              "      <th>4</th>\n",
              "      <td>1146</td>\n",
              "      <td>Eastview Public School</td>\n",
              "      <td>5</td>\n",
              "      <td>18.0</td>\n",
              "      <td>21.0</td>\n",
              "      <td>17.0</td>\n",
              "      <td>16.0</td>\n",
              "      <td>0.97632 0.95736 0.94198 0.95011 0.95181</td>\n",
              "      <td>19</td>\n",
              "      <td>LC3</td>\n",
              "    </tr>\n",
              "    <tr>\n",
              "      <th>...</th>\n",
              "      <td>...</td>\n",
              "      <td>...</td>\n",
              "      <td>...</td>\n",
              "      <td>...</td>\n",
              "      <td>...</td>\n",
              "      <td>...</td>\n",
              "      <td>...</td>\n",
              "      <td>...</td>\n",
              "      <td>...</td>\n",
              "      <td>...</td>\n",
              "    </tr>\n",
              "    <tr>\n",
              "      <th>465</th>\n",
              "      <td>1361</td>\n",
              "      <td>Maurice Cody Junior Public School</td>\n",
              "      <td>466</td>\n",
              "      <td>467.0</td>\n",
              "      <td>464.0</td>\n",
              "      <td>466.0</td>\n",
              "      <td>470.0</td>\n",
              "      <td>0.00961 0.00948 0.00901 0.00662 0.00822</td>\n",
              "      <td>11</td>\n",
              "      <td>LC1</td>\n",
              "    </tr>\n",
              "    <tr>\n",
              "      <th>466</th>\n",
              "      <td>1415</td>\n",
              "      <td>Whitney Junior Public School</td>\n",
              "      <td>467</td>\n",
              "      <td>472.0</td>\n",
              "      <td>471.0</td>\n",
              "      <td>473.0</td>\n",
              "      <td>479.0</td>\n",
              "      <td>0.00826 0.00091 0.00059 0.00065 0.00012</td>\n",
              "      <td>10</td>\n",
              "      <td>LC4</td>\n",
              "    </tr>\n",
              "    <tr>\n",
              "      <th>467</th>\n",
              "      <td>1060</td>\n",
              "      <td>Lambton‐Kingsway Junior Middle School</td>\n",
              "      <td>468</td>\n",
              "      <td>471.0</td>\n",
              "      <td>469.0</td>\n",
              "      <td>472.0</td>\n",
              "      <td>476.0</td>\n",
              "      <td>0.00590 0.00359 0.00152 0.00114 0.00135</td>\n",
              "      <td>3</td>\n",
              "      <td>LC4</td>\n",
              "    </tr>\n",
              "    <tr>\n",
              "      <th>468</th>\n",
              "      <td>1083</td>\n",
              "      <td>Sunnylea Junior School</td>\n",
              "      <td>469</td>\n",
              "      <td>470.0</td>\n",
              "      <td>465.0</td>\n",
              "      <td>469.0</td>\n",
              "      <td>475.0</td>\n",
              "      <td>0.00386 0.00382 0.00781 0.00426 0.00347</td>\n",
              "      <td>3</td>\n",
              "      <td>LC4</td>\n",
              "    </tr>\n",
              "    <tr>\n",
              "      <th>469</th>\n",
              "      <td>1278</td>\n",
              "      <td>Blythwood Junior Public School</td>\n",
              "      <td>470</td>\n",
              "      <td>473.0</td>\n",
              "      <td>470.0</td>\n",
              "      <td>474.0</td>\n",
              "      <td>478.0</td>\n",
              "      <td>0.00373 0.00070 0.00082 0.00064 0.00017</td>\n",
              "      <td>11</td>\n",
              "      <td>LC1</td>\n",
              "    </tr>\n",
              "  </tbody>\n",
              "</table>\n",
              "<p>470 rows × 10 columns</p>\n",
              "</div>\n",
              "    <div class=\"colab-df-buttons\">\n",
              "\n",
              "  <div class=\"colab-df-container\">\n",
              "    <button class=\"colab-df-convert\" onclick=\"convertToInteractive('df-b49403ff-65dc-47b7-a1e5-470287341cc3')\"\n",
              "            title=\"Convert this dataframe to an interactive table.\"\n",
              "            style=\"display:none;\">\n",
              "\n",
              "  <svg xmlns=\"http://www.w3.org/2000/svg\" height=\"24px\" viewBox=\"0 -960 960 960\">\n",
              "    <path d=\"M120-120v-720h720v720H120Zm60-500h600v-160H180v160Zm220 220h160v-160H400v160Zm0 220h160v-160H400v160ZM180-400h160v-160H180v160Zm440 0h160v-160H620v160ZM180-180h160v-160H180v160Zm440 0h160v-160H620v160Z\"/>\n",
              "  </svg>\n",
              "    </button>\n",
              "\n",
              "  <style>\n",
              "    .colab-df-container {\n",
              "      display:flex;\n",
              "      gap: 12px;\n",
              "    }\n",
              "\n",
              "    .colab-df-convert {\n",
              "      background-color: #E8F0FE;\n",
              "      border: none;\n",
              "      border-radius: 50%;\n",
              "      cursor: pointer;\n",
              "      display: none;\n",
              "      fill: #1967D2;\n",
              "      height: 32px;\n",
              "      padding: 0 0 0 0;\n",
              "      width: 32px;\n",
              "    }\n",
              "\n",
              "    .colab-df-convert:hover {\n",
              "      background-color: #E2EBFA;\n",
              "      box-shadow: 0px 1px 2px rgba(60, 64, 67, 0.3), 0px 1px 3px 1px rgba(60, 64, 67, 0.15);\n",
              "      fill: #174EA6;\n",
              "    }\n",
              "\n",
              "    .colab-df-buttons div {\n",
              "      margin-bottom: 4px;\n",
              "    }\n",
              "\n",
              "    [theme=dark] .colab-df-convert {\n",
              "      background-color: #3B4455;\n",
              "      fill: #D2E3FC;\n",
              "    }\n",
              "\n",
              "    [theme=dark] .colab-df-convert:hover {\n",
              "      background-color: #434B5C;\n",
              "      box-shadow: 0px 1px 3px 1px rgba(0, 0, 0, 0.15);\n",
              "      filter: drop-shadow(0px 1px 2px rgba(0, 0, 0, 0.3));\n",
              "      fill: #FFFFFF;\n",
              "    }\n",
              "  </style>\n",
              "\n",
              "    <script>\n",
              "      const buttonEl =\n",
              "        document.querySelector('#df-b49403ff-65dc-47b7-a1e5-470287341cc3 button.colab-df-convert');\n",
              "      buttonEl.style.display =\n",
              "        google.colab.kernel.accessAllowed ? 'block' : 'none';\n",
              "\n",
              "      async function convertToInteractive(key) {\n",
              "        const element = document.querySelector('#df-b49403ff-65dc-47b7-a1e5-470287341cc3');\n",
              "        const dataTable =\n",
              "          await google.colab.kernel.invokeFunction('convertToInteractive',\n",
              "                                                    [key], {});\n",
              "        if (!dataTable) return;\n",
              "\n",
              "        const docLinkHtml = 'Like what you see? Visit the ' +\n",
              "          '<a target=\"_blank\" href=https://colab.research.google.com/notebooks/data_table.ipynb>data table notebook</a>'\n",
              "          + ' to learn more about interactive tables.';\n",
              "        element.innerHTML = '';\n",
              "        dataTable['output_type'] = 'display_data';\n",
              "        await google.colab.output.renderOutput(dataTable, element);\n",
              "        const docLink = document.createElement('div');\n",
              "        docLink.innerHTML = docLinkHtml;\n",
              "        element.appendChild(docLink);\n",
              "      }\n",
              "    </script>\n",
              "  </div>\n",
              "\n",
              "\n",
              "<div id=\"df-1dfd75f2-1a91-4ef4-ac4e-67bf042fe916\">\n",
              "  <button class=\"colab-df-quickchart\" onclick=\"quickchart('df-1dfd75f2-1a91-4ef4-ac4e-67bf042fe916')\"\n",
              "            title=\"Suggest charts\"\n",
              "            style=\"display:none;\">\n",
              "\n",
              "<svg xmlns=\"http://www.w3.org/2000/svg\" height=\"24px\"viewBox=\"0 0 24 24\"\n",
              "     width=\"24px\">\n",
              "    <g>\n",
              "        <path d=\"M19 3H5c-1.1 0-2 .9-2 2v14c0 1.1.9 2 2 2h14c1.1 0 2-.9 2-2V5c0-1.1-.9-2-2-2zM9 17H7v-7h2v7zm4 0h-2V7h2v10zm4 0h-2v-4h2v4z\"/>\n",
              "    </g>\n",
              "</svg>\n",
              "  </button>\n",
              "\n",
              "<style>\n",
              "  .colab-df-quickchart {\n",
              "      --bg-color: #E8F0FE;\n",
              "      --fill-color: #1967D2;\n",
              "      --hover-bg-color: #E2EBFA;\n",
              "      --hover-fill-color: #174EA6;\n",
              "      --disabled-fill-color: #AAA;\n",
              "      --disabled-bg-color: #DDD;\n",
              "  }\n",
              "\n",
              "  [theme=dark] .colab-df-quickchart {\n",
              "      --bg-color: #3B4455;\n",
              "      --fill-color: #D2E3FC;\n",
              "      --hover-bg-color: #434B5C;\n",
              "      --hover-fill-color: #FFFFFF;\n",
              "      --disabled-bg-color: #3B4455;\n",
              "      --disabled-fill-color: #666;\n",
              "  }\n",
              "\n",
              "  .colab-df-quickchart {\n",
              "    background-color: var(--bg-color);\n",
              "    border: none;\n",
              "    border-radius: 50%;\n",
              "    cursor: pointer;\n",
              "    display: none;\n",
              "    fill: var(--fill-color);\n",
              "    height: 32px;\n",
              "    padding: 0;\n",
              "    width: 32px;\n",
              "  }\n",
              "\n",
              "  .colab-df-quickchart:hover {\n",
              "    background-color: var(--hover-bg-color);\n",
              "    box-shadow: 0 1px 2px rgba(60, 64, 67, 0.3), 0 1px 3px 1px rgba(60, 64, 67, 0.15);\n",
              "    fill: var(--button-hover-fill-color);\n",
              "  }\n",
              "\n",
              "  .colab-df-quickchart-complete:disabled,\n",
              "  .colab-df-quickchart-complete:disabled:hover {\n",
              "    background-color: var(--disabled-bg-color);\n",
              "    fill: var(--disabled-fill-color);\n",
              "    box-shadow: none;\n",
              "  }\n",
              "\n",
              "  .colab-df-spinner {\n",
              "    border: 2px solid var(--fill-color);\n",
              "    border-color: transparent;\n",
              "    border-bottom-color: var(--fill-color);\n",
              "    animation:\n",
              "      spin 1s steps(1) infinite;\n",
              "  }\n",
              "\n",
              "  @keyframes spin {\n",
              "    0% {\n",
              "      border-color: transparent;\n",
              "      border-bottom-color: var(--fill-color);\n",
              "      border-left-color: var(--fill-color);\n",
              "    }\n",
              "    20% {\n",
              "      border-color: transparent;\n",
              "      border-left-color: var(--fill-color);\n",
              "      border-top-color: var(--fill-color);\n",
              "    }\n",
              "    30% {\n",
              "      border-color: transparent;\n",
              "      border-left-color: var(--fill-color);\n",
              "      border-top-color: var(--fill-color);\n",
              "      border-right-color: var(--fill-color);\n",
              "    }\n",
              "    40% {\n",
              "      border-color: transparent;\n",
              "      border-right-color: var(--fill-color);\n",
              "      border-top-color: var(--fill-color);\n",
              "    }\n",
              "    60% {\n",
              "      border-color: transparent;\n",
              "      border-right-color: var(--fill-color);\n",
              "    }\n",
              "    80% {\n",
              "      border-color: transparent;\n",
              "      border-right-color: var(--fill-color);\n",
              "      border-bottom-color: var(--fill-color);\n",
              "    }\n",
              "    90% {\n",
              "      border-color: transparent;\n",
              "      border-bottom-color: var(--fill-color);\n",
              "    }\n",
              "  }\n",
              "</style>\n",
              "\n",
              "  <script>\n",
              "    async function quickchart(key) {\n",
              "      const quickchartButtonEl =\n",
              "        document.querySelector('#' + key + ' button');\n",
              "      quickchartButtonEl.disabled = true;  // To prevent multiple clicks.\n",
              "      quickchartButtonEl.classList.add('colab-df-spinner');\n",
              "      try {\n",
              "        const charts = await google.colab.kernel.invokeFunction(\n",
              "            'suggestCharts', [key], {});\n",
              "      } catch (error) {\n",
              "        console.error('Error during call to suggestCharts:', error);\n",
              "      }\n",
              "      quickchartButtonEl.classList.remove('colab-df-spinner');\n",
              "      quickchartButtonEl.classList.add('colab-df-quickchart-complete');\n",
              "    }\n",
              "    (() => {\n",
              "      let quickchartButtonEl =\n",
              "        document.querySelector('#df-1dfd75f2-1a91-4ef4-ac4e-67bf042fe916 button');\n",
              "      quickchartButtonEl.style.display =\n",
              "        google.colab.kernel.accessAllowed ? 'block' : 'none';\n",
              "    })();\n",
              "  </script>\n",
              "</div>\n",
              "\n",
              "  <div id=\"id_72799353-c4f5-419a-a4d5-54413381f4a4\">\n",
              "    <style>\n",
              "      .colab-df-generate {\n",
              "        background-color: #E8F0FE;\n",
              "        border: none;\n",
              "        border-radius: 50%;\n",
              "        cursor: pointer;\n",
              "        display: none;\n",
              "        fill: #1967D2;\n",
              "        height: 32px;\n",
              "        padding: 0 0 0 0;\n",
              "        width: 32px;\n",
              "      }\n",
              "\n",
              "      .colab-df-generate:hover {\n",
              "        background-color: #E2EBFA;\n",
              "        box-shadow: 0px 1px 2px rgba(60, 64, 67, 0.3), 0px 1px 3px 1px rgba(60, 64, 67, 0.15);\n",
              "        fill: #174EA6;\n",
              "      }\n",
              "\n",
              "      [theme=dark] .colab-df-generate {\n",
              "        background-color: #3B4455;\n",
              "        fill: #D2E3FC;\n",
              "      }\n",
              "\n",
              "      [theme=dark] .colab-df-generate:hover {\n",
              "        background-color: #434B5C;\n",
              "        box-shadow: 0px 1px 3px 1px rgba(0, 0, 0, 0.15);\n",
              "        filter: drop-shadow(0px 1px 2px rgba(0, 0, 0, 0.3));\n",
              "        fill: #FFFFFF;\n",
              "      }\n",
              "    </style>\n",
              "    <button class=\"colab-df-generate\" onclick=\"generateWithVariable('df')\"\n",
              "            title=\"Generate code using this dataframe.\"\n",
              "            style=\"display:none;\">\n",
              "\n",
              "  <svg xmlns=\"http://www.w3.org/2000/svg\" height=\"24px\"viewBox=\"0 0 24 24\"\n",
              "       width=\"24px\">\n",
              "    <path d=\"M7,19H8.4L18.45,9,17,7.55,7,17.6ZM5,21V16.75L18.45,3.32a2,2,0,0,1,2.83,0l1.4,1.43a1.91,1.91,0,0,1,.58,1.4,1.91,1.91,0,0,1-.58,1.4L9.25,21ZM18.45,9,17,7.55Zm-12,3A5.31,5.31,0,0,0,4.9,8.1,5.31,5.31,0,0,0,1,6.5,5.31,5.31,0,0,0,4.9,4.9,5.31,5.31,0,0,0,6.5,1,5.31,5.31,0,0,0,8.1,4.9,5.31,5.31,0,0,0,12,6.5,5.46,5.46,0,0,0,6.5,12Z\"/>\n",
              "  </svg>\n",
              "    </button>\n",
              "    <script>\n",
              "      (() => {\n",
              "      const buttonEl =\n",
              "        document.querySelector('#id_72799353-c4f5-419a-a4d5-54413381f4a4 button.colab-df-generate');\n",
              "      buttonEl.style.display =\n",
              "        google.colab.kernel.accessAllowed ? 'block' : 'none';\n",
              "\n",
              "      buttonEl.onclick = () => {\n",
              "        google.colab.notebook.generateWithVariable('df');\n",
              "      }\n",
              "      })();\n",
              "    </script>\n",
              "  </div>\n",
              "\n",
              "    </div>\n",
              "  </div>\n"
            ],
            "application/vnd.google.colaboratory.intrinsic+json": {
              "type": "dataframe",
              "variable_name": "df",
              "summary": "{\n  \"name\": \"df\",\n  \"rows\": 470,\n  \"fields\": [\n    {\n      \"column\": \"School ID\",\n      \"properties\": {\n        \"dtype\": \"number\",\n        \"std\": 659,\n        \"min\": 10,\n        \"max\": 4078,\n        \"num_unique_values\": 470,\n        \"samples\": [\n          1069,\n          1041,\n          15\n        ],\n        \"semantic_type\": \"\",\n        \"description\": \"\"\n      }\n    },\n    {\n      \"column\": \"School Name\",\n      \"properties\": {\n        \"dtype\": \"string\",\n        \"num_unique_values\": 470,\n        \"samples\": [\n          \"Parkfield Junior School\",\n          \"Elmlea Junior School\",\n          \"Amesbury Middle School\"\n        ],\n        \"semantic_type\": \"\",\n        \"description\": \"\"\n      }\n    },\n    {\n      \"column\": \"LOI 2023 Rank\",\n      \"properties\": {\n        \"dtype\": \"number\",\n        \"std\": 135,\n        \"min\": 1,\n        \"max\": 470,\n        \"num_unique_values\": 470,\n        \"samples\": [\n          56,\n          74,\n          34\n        ],\n        \"semantic_type\": \"\",\n        \"description\": \"\"\n      }\n    },\n    {\n      \"column\": \"LOI 2020 Rank\",\n      \"properties\": {\n        \"dtype\": \"number\",\n        \"std\": 136.37124958559977,\n        \"min\": 1.0,\n        \"max\": 473.0,\n        \"num_unique_values\": 468,\n        \"samples\": [\n          57.0,\n          76.0,\n          42.0\n        ],\n        \"semantic_type\": \"\",\n        \"description\": \"\"\n      }\n    },\n    {\n      \"column\": \"LOI 2017 Rank\",\n      \"properties\": {\n        \"dtype\": \"number\",\n        \"std\": 135.74373171390627,\n        \"min\": 1.0,\n        \"max\": 471.0,\n        \"num_unique_values\": 466,\n        \"samples\": [\n          38.0,\n          85.0,\n          32.0\n        ],\n        \"semantic_type\": \"\",\n        \"description\": \"\"\n      }\n    },\n    {\n      \"column\": \"LOI 2014 Rank\",\n      \"properties\": {\n        \"dtype\": \"number\",\n        \"std\": 136.63416676722514,\n        \"min\": 1.0,\n        \"max\": 474.0,\n        \"num_unique_values\": 466,\n        \"samples\": [\n          26.0,\n          53.0,\n          30.0\n        ],\n        \"semantic_type\": \"\",\n        \"description\": \"\"\n      }\n    },\n    {\n      \"column\": \"LOI 2011 Rank\",\n      \"properties\": {\n        \"dtype\": \"number\",\n        \"std\": 137.89669397593943,\n        \"min\": 1.0,\n        \"max\": 479.0,\n        \"num_unique_values\": 463,\n        \"samples\": [\n          254.0,\n          13.0,\n          47.0\n        ],\n        \"semantic_type\": \"\",\n        \"description\": \"\"\n      }\n    },\n    {\n      \"column\": \"LOI Scores\",\n      \"properties\": {\n        \"dtype\": \"string\",\n        \"num_unique_values\": 470,\n        \"samples\": [\n          \"0.88067 0.87242 0.86515 0.79290 0.68574\",\n          \"0.84200 0.85391 0.83003 0.78709 0.71970\",\n          \"0.93334 0.91050 0.91334 0.92188 0.89106\"\n        ],\n        \"semantic_type\": \"\",\n        \"description\": \"\"\n      }\n    },\n    {\n      \"column\": \"Ward\",\n      \"properties\": {\n        \"dtype\": \"number\",\n        \"std\": 6,\n        \"min\": 1,\n        \"max\": 22,\n        \"num_unique_values\": 22,\n        \"samples\": [\n          4,\n          20,\n          1\n        ],\n        \"semantic_type\": \"\",\n        \"description\": \"\"\n      }\n    },\n    {\n      \"column\": \"Learning Centre\",\n      \"properties\": {\n        \"dtype\": \"category\",\n        \"num_unique_values\": 5,\n        \"samples\": [\n          \"LC1\",\n          \"CC5\",\n          \"LC3\"\n        ],\n        \"semantic_type\": \"\",\n        \"description\": \"\"\n      }\n    }\n  ]\n}"
            }
          },
          "metadata": {},
          "execution_count": 105
        }
      ]
    },
    {
      "cell_type": "code",
      "source": [
        "print(df.dtypes)"
      ],
      "metadata": {
        "colab": {
          "base_uri": "https://localhost:8080/"
        },
        "id": "z0tOz4IQXeaX",
        "outputId": "7041f89d-655a-46c9-f20d-390cb87aee67"
      },
      "execution_count": 106,
      "outputs": [
        {
          "output_type": "stream",
          "name": "stdout",
          "text": [
            "School ID            int64\n",
            "School Name         object\n",
            "LOI 2023 Rank        int64\n",
            "LOI 2020 Rank      float64\n",
            "LOI 2017 Rank      float64\n",
            "LOI 2014 Rank      float64\n",
            "LOI 2011 Rank      float64\n",
            "LOI Scores          object\n",
            "Ward                 int64\n",
            "Learning Centre     object\n",
            "dtype: object\n"
          ]
        }
      ]
    },
    {
      "cell_type": "code",
      "source": [
        "df['LOI 2023 Rank'] = df['LOI 2023 Rank'].fillna(0).astype(int)\n",
        "df['LOI 2020 Rank'] = df['LOI 2020 Rank'].fillna(0).astype(int)\n",
        "df['LOI 2017 Rank'] = df['LOI 2017 Rank'].fillna(0).astype(int)\n",
        "df['LOI 2014 Rank'] = df['LOI 2014 Rank'].fillna(0).astype(int)\n",
        "df['LOI 2011 Rank'] = df['LOI 2011 Rank'].fillna(0).astype(int)"
      ],
      "metadata": {
        "id": "Uikf_aHqXSj4"
      },
      "execution_count": 107,
      "outputs": []
    },
    {
      "cell_type": "code",
      "source": [
        "df"
      ],
      "metadata": {
        "colab": {
          "base_uri": "https://localhost:8080/",
          "height": 805
        },
        "id": "PzCS9KSFXl4Z",
        "outputId": "ea3e697f-1ad8-48b8-db17-93a988ae391d"
      },
      "execution_count": 108,
      "outputs": [
        {
          "output_type": "execute_result",
          "data": {
            "text/plain": [
              "     School ID                                  School Name  LOI 2023 Rank  \\\n",
              "0          247  Shoreham Public Sports and Wellness Academy              1   \n",
              "1          296                      Yorkwoods Public School              2   \n",
              "2          209                   Oakdale Park Middle School              3   \n",
              "3          126                     Flemington Public School              4   \n",
              "4         1146                       Eastview Public School              5   \n",
              "..         ...                                          ...            ...   \n",
              "465       1361            Maurice Cody Junior Public School            466   \n",
              "466       1415                 Whitney Junior Public School            467   \n",
              "467       1060        Lambton‐Kingsway Junior Middle School            468   \n",
              "468       1083                       Sunnylea Junior School            469   \n",
              "469       1278               Blythwood Junior Public School            470   \n",
              "\n",
              "     LOI 2020 Rank  LOI 2017 Rank  LOI 2014 Rank  LOI 2011 Rank  \\\n",
              "0                1              2              4              3   \n",
              "1                2              1              6             10   \n",
              "2               11             12             13             20   \n",
              "3                4              3              3              7   \n",
              "4               18             21             17             16   \n",
              "..             ...            ...            ...            ...   \n",
              "465            467            464            466            470   \n",
              "466            472            471            473            479   \n",
              "467            471            469            472            476   \n",
              "468            470            465            469            475   \n",
              "469            473            470            474            478   \n",
              "\n",
              "                                  LOI Scores  Ward Learning Centre  \n",
              "0    0.99008 0.98770 0.98518 0.98136 0.98669     4             LC2  \n",
              "1    0.98826 0.98608 0.98569 0.97785 0.96735     4             LC2  \n",
              "2    0.97943 0.97062 0.96608 0.95863 0.94432     4             LC2  \n",
              "3    0.97858 0.98468 0.98399 0.98254 0.98003     8             LC1  \n",
              "4    0.97632 0.95736 0.94198 0.95011 0.95181    19             LC3  \n",
              "..                                       ...   ...             ...  \n",
              "465  0.00961 0.00948 0.00901 0.00662 0.00822    11             LC1  \n",
              "466  0.00826 0.00091 0.00059 0.00065 0.00012    10             LC4  \n",
              "467  0.00590 0.00359 0.00152 0.00114 0.00135     3             LC4  \n",
              "468  0.00386 0.00382 0.00781 0.00426 0.00347     3             LC4  \n",
              "469  0.00373 0.00070 0.00082 0.00064 0.00017    11             LC1  \n",
              "\n",
              "[470 rows x 10 columns]"
            ],
            "text/html": [
              "\n",
              "  <div id=\"df-f4ebe78a-c9fe-4634-bfe4-b510f18cb8f9\" class=\"colab-df-container\">\n",
              "    <div>\n",
              "<style scoped>\n",
              "    .dataframe tbody tr th:only-of-type {\n",
              "        vertical-align: middle;\n",
              "    }\n",
              "\n",
              "    .dataframe tbody tr th {\n",
              "        vertical-align: top;\n",
              "    }\n",
              "\n",
              "    .dataframe thead th {\n",
              "        text-align: right;\n",
              "    }\n",
              "</style>\n",
              "<table border=\"1\" class=\"dataframe\">\n",
              "  <thead>\n",
              "    <tr style=\"text-align: right;\">\n",
              "      <th></th>\n",
              "      <th>School ID</th>\n",
              "      <th>School Name</th>\n",
              "      <th>LOI 2023 Rank</th>\n",
              "      <th>LOI 2020 Rank</th>\n",
              "      <th>LOI 2017 Rank</th>\n",
              "      <th>LOI 2014 Rank</th>\n",
              "      <th>LOI 2011 Rank</th>\n",
              "      <th>LOI Scores</th>\n",
              "      <th>Ward</th>\n",
              "      <th>Learning Centre</th>\n",
              "    </tr>\n",
              "  </thead>\n",
              "  <tbody>\n",
              "    <tr>\n",
              "      <th>0</th>\n",
              "      <td>247</td>\n",
              "      <td>Shoreham Public Sports and Wellness Academy</td>\n",
              "      <td>1</td>\n",
              "      <td>1</td>\n",
              "      <td>2</td>\n",
              "      <td>4</td>\n",
              "      <td>3</td>\n",
              "      <td>0.99008 0.98770 0.98518 0.98136 0.98669</td>\n",
              "      <td>4</td>\n",
              "      <td>LC2</td>\n",
              "    </tr>\n",
              "    <tr>\n",
              "      <th>1</th>\n",
              "      <td>296</td>\n",
              "      <td>Yorkwoods Public School</td>\n",
              "      <td>2</td>\n",
              "      <td>2</td>\n",
              "      <td>1</td>\n",
              "      <td>6</td>\n",
              "      <td>10</td>\n",
              "      <td>0.98826 0.98608 0.98569 0.97785 0.96735</td>\n",
              "      <td>4</td>\n",
              "      <td>LC2</td>\n",
              "    </tr>\n",
              "    <tr>\n",
              "      <th>2</th>\n",
              "      <td>209</td>\n",
              "      <td>Oakdale Park Middle School</td>\n",
              "      <td>3</td>\n",
              "      <td>11</td>\n",
              "      <td>12</td>\n",
              "      <td>13</td>\n",
              "      <td>20</td>\n",
              "      <td>0.97943 0.97062 0.96608 0.95863 0.94432</td>\n",
              "      <td>4</td>\n",
              "      <td>LC2</td>\n",
              "    </tr>\n",
              "    <tr>\n",
              "      <th>3</th>\n",
              "      <td>126</td>\n",
              "      <td>Flemington Public School</td>\n",
              "      <td>4</td>\n",
              "      <td>4</td>\n",
              "      <td>3</td>\n",
              "      <td>3</td>\n",
              "      <td>7</td>\n",
              "      <td>0.97858 0.98468 0.98399 0.98254 0.98003</td>\n",
              "      <td>8</td>\n",
              "      <td>LC1</td>\n",
              "    </tr>\n",
              "    <tr>\n",
              "      <th>4</th>\n",
              "      <td>1146</td>\n",
              "      <td>Eastview Public School</td>\n",
              "      <td>5</td>\n",
              "      <td>18</td>\n",
              "      <td>21</td>\n",
              "      <td>17</td>\n",
              "      <td>16</td>\n",
              "      <td>0.97632 0.95736 0.94198 0.95011 0.95181</td>\n",
              "      <td>19</td>\n",
              "      <td>LC3</td>\n",
              "    </tr>\n",
              "    <tr>\n",
              "      <th>...</th>\n",
              "      <td>...</td>\n",
              "      <td>...</td>\n",
              "      <td>...</td>\n",
              "      <td>...</td>\n",
              "      <td>...</td>\n",
              "      <td>...</td>\n",
              "      <td>...</td>\n",
              "      <td>...</td>\n",
              "      <td>...</td>\n",
              "      <td>...</td>\n",
              "    </tr>\n",
              "    <tr>\n",
              "      <th>465</th>\n",
              "      <td>1361</td>\n",
              "      <td>Maurice Cody Junior Public School</td>\n",
              "      <td>466</td>\n",
              "      <td>467</td>\n",
              "      <td>464</td>\n",
              "      <td>466</td>\n",
              "      <td>470</td>\n",
              "      <td>0.00961 0.00948 0.00901 0.00662 0.00822</td>\n",
              "      <td>11</td>\n",
              "      <td>LC1</td>\n",
              "    </tr>\n",
              "    <tr>\n",
              "      <th>466</th>\n",
              "      <td>1415</td>\n",
              "      <td>Whitney Junior Public School</td>\n",
              "      <td>467</td>\n",
              "      <td>472</td>\n",
              "      <td>471</td>\n",
              "      <td>473</td>\n",
              "      <td>479</td>\n",
              "      <td>0.00826 0.00091 0.00059 0.00065 0.00012</td>\n",
              "      <td>10</td>\n",
              "      <td>LC4</td>\n",
              "    </tr>\n",
              "    <tr>\n",
              "      <th>467</th>\n",
              "      <td>1060</td>\n",
              "      <td>Lambton‐Kingsway Junior Middle School</td>\n",
              "      <td>468</td>\n",
              "      <td>471</td>\n",
              "      <td>469</td>\n",
              "      <td>472</td>\n",
              "      <td>476</td>\n",
              "      <td>0.00590 0.00359 0.00152 0.00114 0.00135</td>\n",
              "      <td>3</td>\n",
              "      <td>LC4</td>\n",
              "    </tr>\n",
              "    <tr>\n",
              "      <th>468</th>\n",
              "      <td>1083</td>\n",
              "      <td>Sunnylea Junior School</td>\n",
              "      <td>469</td>\n",
              "      <td>470</td>\n",
              "      <td>465</td>\n",
              "      <td>469</td>\n",
              "      <td>475</td>\n",
              "      <td>0.00386 0.00382 0.00781 0.00426 0.00347</td>\n",
              "      <td>3</td>\n",
              "      <td>LC4</td>\n",
              "    </tr>\n",
              "    <tr>\n",
              "      <th>469</th>\n",
              "      <td>1278</td>\n",
              "      <td>Blythwood Junior Public School</td>\n",
              "      <td>470</td>\n",
              "      <td>473</td>\n",
              "      <td>470</td>\n",
              "      <td>474</td>\n",
              "      <td>478</td>\n",
              "      <td>0.00373 0.00070 0.00082 0.00064 0.00017</td>\n",
              "      <td>11</td>\n",
              "      <td>LC1</td>\n",
              "    </tr>\n",
              "  </tbody>\n",
              "</table>\n",
              "<p>470 rows × 10 columns</p>\n",
              "</div>\n",
              "    <div class=\"colab-df-buttons\">\n",
              "\n",
              "  <div class=\"colab-df-container\">\n",
              "    <button class=\"colab-df-convert\" onclick=\"convertToInteractive('df-f4ebe78a-c9fe-4634-bfe4-b510f18cb8f9')\"\n",
              "            title=\"Convert this dataframe to an interactive table.\"\n",
              "            style=\"display:none;\">\n",
              "\n",
              "  <svg xmlns=\"http://www.w3.org/2000/svg\" height=\"24px\" viewBox=\"0 -960 960 960\">\n",
              "    <path d=\"M120-120v-720h720v720H120Zm60-500h600v-160H180v160Zm220 220h160v-160H400v160Zm0 220h160v-160H400v160ZM180-400h160v-160H180v160Zm440 0h160v-160H620v160ZM180-180h160v-160H180v160Zm440 0h160v-160H620v160Z\"/>\n",
              "  </svg>\n",
              "    </button>\n",
              "\n",
              "  <style>\n",
              "    .colab-df-container {\n",
              "      display:flex;\n",
              "      gap: 12px;\n",
              "    }\n",
              "\n",
              "    .colab-df-convert {\n",
              "      background-color: #E8F0FE;\n",
              "      border: none;\n",
              "      border-radius: 50%;\n",
              "      cursor: pointer;\n",
              "      display: none;\n",
              "      fill: #1967D2;\n",
              "      height: 32px;\n",
              "      padding: 0 0 0 0;\n",
              "      width: 32px;\n",
              "    }\n",
              "\n",
              "    .colab-df-convert:hover {\n",
              "      background-color: #E2EBFA;\n",
              "      box-shadow: 0px 1px 2px rgba(60, 64, 67, 0.3), 0px 1px 3px 1px rgba(60, 64, 67, 0.15);\n",
              "      fill: #174EA6;\n",
              "    }\n",
              "\n",
              "    .colab-df-buttons div {\n",
              "      margin-bottom: 4px;\n",
              "    }\n",
              "\n",
              "    [theme=dark] .colab-df-convert {\n",
              "      background-color: #3B4455;\n",
              "      fill: #D2E3FC;\n",
              "    }\n",
              "\n",
              "    [theme=dark] .colab-df-convert:hover {\n",
              "      background-color: #434B5C;\n",
              "      box-shadow: 0px 1px 3px 1px rgba(0, 0, 0, 0.15);\n",
              "      filter: drop-shadow(0px 1px 2px rgba(0, 0, 0, 0.3));\n",
              "      fill: #FFFFFF;\n",
              "    }\n",
              "  </style>\n",
              "\n",
              "    <script>\n",
              "      const buttonEl =\n",
              "        document.querySelector('#df-f4ebe78a-c9fe-4634-bfe4-b510f18cb8f9 button.colab-df-convert');\n",
              "      buttonEl.style.display =\n",
              "        google.colab.kernel.accessAllowed ? 'block' : 'none';\n",
              "\n",
              "      async function convertToInteractive(key) {\n",
              "        const element = document.querySelector('#df-f4ebe78a-c9fe-4634-bfe4-b510f18cb8f9');\n",
              "        const dataTable =\n",
              "          await google.colab.kernel.invokeFunction('convertToInteractive',\n",
              "                                                    [key], {});\n",
              "        if (!dataTable) return;\n",
              "\n",
              "        const docLinkHtml = 'Like what you see? Visit the ' +\n",
              "          '<a target=\"_blank\" href=https://colab.research.google.com/notebooks/data_table.ipynb>data table notebook</a>'\n",
              "          + ' to learn more about interactive tables.';\n",
              "        element.innerHTML = '';\n",
              "        dataTable['output_type'] = 'display_data';\n",
              "        await google.colab.output.renderOutput(dataTable, element);\n",
              "        const docLink = document.createElement('div');\n",
              "        docLink.innerHTML = docLinkHtml;\n",
              "        element.appendChild(docLink);\n",
              "      }\n",
              "    </script>\n",
              "  </div>\n",
              "\n",
              "\n",
              "<div id=\"df-08b157eb-f626-476c-b64e-53822f56fc7c\">\n",
              "  <button class=\"colab-df-quickchart\" onclick=\"quickchart('df-08b157eb-f626-476c-b64e-53822f56fc7c')\"\n",
              "            title=\"Suggest charts\"\n",
              "            style=\"display:none;\">\n",
              "\n",
              "<svg xmlns=\"http://www.w3.org/2000/svg\" height=\"24px\"viewBox=\"0 0 24 24\"\n",
              "     width=\"24px\">\n",
              "    <g>\n",
              "        <path d=\"M19 3H5c-1.1 0-2 .9-2 2v14c0 1.1.9 2 2 2h14c1.1 0 2-.9 2-2V5c0-1.1-.9-2-2-2zM9 17H7v-7h2v7zm4 0h-2V7h2v10zm4 0h-2v-4h2v4z\"/>\n",
              "    </g>\n",
              "</svg>\n",
              "  </button>\n",
              "\n",
              "<style>\n",
              "  .colab-df-quickchart {\n",
              "      --bg-color: #E8F0FE;\n",
              "      --fill-color: #1967D2;\n",
              "      --hover-bg-color: #E2EBFA;\n",
              "      --hover-fill-color: #174EA6;\n",
              "      --disabled-fill-color: #AAA;\n",
              "      --disabled-bg-color: #DDD;\n",
              "  }\n",
              "\n",
              "  [theme=dark] .colab-df-quickchart {\n",
              "      --bg-color: #3B4455;\n",
              "      --fill-color: #D2E3FC;\n",
              "      --hover-bg-color: #434B5C;\n",
              "      --hover-fill-color: #FFFFFF;\n",
              "      --disabled-bg-color: #3B4455;\n",
              "      --disabled-fill-color: #666;\n",
              "  }\n",
              "\n",
              "  .colab-df-quickchart {\n",
              "    background-color: var(--bg-color);\n",
              "    border: none;\n",
              "    border-radius: 50%;\n",
              "    cursor: pointer;\n",
              "    display: none;\n",
              "    fill: var(--fill-color);\n",
              "    height: 32px;\n",
              "    padding: 0;\n",
              "    width: 32px;\n",
              "  }\n",
              "\n",
              "  .colab-df-quickchart:hover {\n",
              "    background-color: var(--hover-bg-color);\n",
              "    box-shadow: 0 1px 2px rgba(60, 64, 67, 0.3), 0 1px 3px 1px rgba(60, 64, 67, 0.15);\n",
              "    fill: var(--button-hover-fill-color);\n",
              "  }\n",
              "\n",
              "  .colab-df-quickchart-complete:disabled,\n",
              "  .colab-df-quickchart-complete:disabled:hover {\n",
              "    background-color: var(--disabled-bg-color);\n",
              "    fill: var(--disabled-fill-color);\n",
              "    box-shadow: none;\n",
              "  }\n",
              "\n",
              "  .colab-df-spinner {\n",
              "    border: 2px solid var(--fill-color);\n",
              "    border-color: transparent;\n",
              "    border-bottom-color: var(--fill-color);\n",
              "    animation:\n",
              "      spin 1s steps(1) infinite;\n",
              "  }\n",
              "\n",
              "  @keyframes spin {\n",
              "    0% {\n",
              "      border-color: transparent;\n",
              "      border-bottom-color: var(--fill-color);\n",
              "      border-left-color: var(--fill-color);\n",
              "    }\n",
              "    20% {\n",
              "      border-color: transparent;\n",
              "      border-left-color: var(--fill-color);\n",
              "      border-top-color: var(--fill-color);\n",
              "    }\n",
              "    30% {\n",
              "      border-color: transparent;\n",
              "      border-left-color: var(--fill-color);\n",
              "      border-top-color: var(--fill-color);\n",
              "      border-right-color: var(--fill-color);\n",
              "    }\n",
              "    40% {\n",
              "      border-color: transparent;\n",
              "      border-right-color: var(--fill-color);\n",
              "      border-top-color: var(--fill-color);\n",
              "    }\n",
              "    60% {\n",
              "      border-color: transparent;\n",
              "      border-right-color: var(--fill-color);\n",
              "    }\n",
              "    80% {\n",
              "      border-color: transparent;\n",
              "      border-right-color: var(--fill-color);\n",
              "      border-bottom-color: var(--fill-color);\n",
              "    }\n",
              "    90% {\n",
              "      border-color: transparent;\n",
              "      border-bottom-color: var(--fill-color);\n",
              "    }\n",
              "  }\n",
              "</style>\n",
              "\n",
              "  <script>\n",
              "    async function quickchart(key) {\n",
              "      const quickchartButtonEl =\n",
              "        document.querySelector('#' + key + ' button');\n",
              "      quickchartButtonEl.disabled = true;  // To prevent multiple clicks.\n",
              "      quickchartButtonEl.classList.add('colab-df-spinner');\n",
              "      try {\n",
              "        const charts = await google.colab.kernel.invokeFunction(\n",
              "            'suggestCharts', [key], {});\n",
              "      } catch (error) {\n",
              "        console.error('Error during call to suggestCharts:', error);\n",
              "      }\n",
              "      quickchartButtonEl.classList.remove('colab-df-spinner');\n",
              "      quickchartButtonEl.classList.add('colab-df-quickchart-complete');\n",
              "    }\n",
              "    (() => {\n",
              "      let quickchartButtonEl =\n",
              "        document.querySelector('#df-08b157eb-f626-476c-b64e-53822f56fc7c button');\n",
              "      quickchartButtonEl.style.display =\n",
              "        google.colab.kernel.accessAllowed ? 'block' : 'none';\n",
              "    })();\n",
              "  </script>\n",
              "</div>\n",
              "\n",
              "  <div id=\"id_4746a146-3cbb-4f12-88dc-0bab1ad0d653\">\n",
              "    <style>\n",
              "      .colab-df-generate {\n",
              "        background-color: #E8F0FE;\n",
              "        border: none;\n",
              "        border-radius: 50%;\n",
              "        cursor: pointer;\n",
              "        display: none;\n",
              "        fill: #1967D2;\n",
              "        height: 32px;\n",
              "        padding: 0 0 0 0;\n",
              "        width: 32px;\n",
              "      }\n",
              "\n",
              "      .colab-df-generate:hover {\n",
              "        background-color: #E2EBFA;\n",
              "        box-shadow: 0px 1px 2px rgba(60, 64, 67, 0.3), 0px 1px 3px 1px rgba(60, 64, 67, 0.15);\n",
              "        fill: #174EA6;\n",
              "      }\n",
              "\n",
              "      [theme=dark] .colab-df-generate {\n",
              "        background-color: #3B4455;\n",
              "        fill: #D2E3FC;\n",
              "      }\n",
              "\n",
              "      [theme=dark] .colab-df-generate:hover {\n",
              "        background-color: #434B5C;\n",
              "        box-shadow: 0px 1px 3px 1px rgba(0, 0, 0, 0.15);\n",
              "        filter: drop-shadow(0px 1px 2px rgba(0, 0, 0, 0.3));\n",
              "        fill: #FFFFFF;\n",
              "      }\n",
              "    </style>\n",
              "    <button class=\"colab-df-generate\" onclick=\"generateWithVariable('df')\"\n",
              "            title=\"Generate code using this dataframe.\"\n",
              "            style=\"display:none;\">\n",
              "\n",
              "  <svg xmlns=\"http://www.w3.org/2000/svg\" height=\"24px\"viewBox=\"0 0 24 24\"\n",
              "       width=\"24px\">\n",
              "    <path d=\"M7,19H8.4L18.45,9,17,7.55,7,17.6ZM5,21V16.75L18.45,3.32a2,2,0,0,1,2.83,0l1.4,1.43a1.91,1.91,0,0,1,.58,1.4,1.91,1.91,0,0,1-.58,1.4L9.25,21ZM18.45,9,17,7.55Zm-12,3A5.31,5.31,0,0,0,4.9,8.1,5.31,5.31,0,0,0,1,6.5,5.31,5.31,0,0,0,4.9,4.9,5.31,5.31,0,0,0,6.5,1,5.31,5.31,0,0,0,8.1,4.9,5.31,5.31,0,0,0,12,6.5,5.46,5.46,0,0,0,6.5,12Z\"/>\n",
              "  </svg>\n",
              "    </button>\n",
              "    <script>\n",
              "      (() => {\n",
              "      const buttonEl =\n",
              "        document.querySelector('#id_4746a146-3cbb-4f12-88dc-0bab1ad0d653 button.colab-df-generate');\n",
              "      buttonEl.style.display =\n",
              "        google.colab.kernel.accessAllowed ? 'block' : 'none';\n",
              "\n",
              "      buttonEl.onclick = () => {\n",
              "        google.colab.notebook.generateWithVariable('df');\n",
              "      }\n",
              "      })();\n",
              "    </script>\n",
              "  </div>\n",
              "\n",
              "    </div>\n",
              "  </div>\n"
            ],
            "application/vnd.google.colaboratory.intrinsic+json": {
              "type": "dataframe",
              "variable_name": "df",
              "summary": "{\n  \"name\": \"df\",\n  \"rows\": 470,\n  \"fields\": [\n    {\n      \"column\": \"School ID\",\n      \"properties\": {\n        \"dtype\": \"number\",\n        \"std\": 659,\n        \"min\": 10,\n        \"max\": 4078,\n        \"num_unique_values\": 470,\n        \"samples\": [\n          1069,\n          1041,\n          15\n        ],\n        \"semantic_type\": \"\",\n        \"description\": \"\"\n      }\n    },\n    {\n      \"column\": \"School Name\",\n      \"properties\": {\n        \"dtype\": \"string\",\n        \"num_unique_values\": 470,\n        \"samples\": [\n          \"Parkfield Junior School\",\n          \"Elmlea Junior School\",\n          \"Amesbury Middle School\"\n        ],\n        \"semantic_type\": \"\",\n        \"description\": \"\"\n      }\n    },\n    {\n      \"column\": \"LOI 2023 Rank\",\n      \"properties\": {\n        \"dtype\": \"number\",\n        \"std\": 135,\n        \"min\": 1,\n        \"max\": 470,\n        \"num_unique_values\": 470,\n        \"samples\": [\n          56,\n          74,\n          34\n        ],\n        \"semantic_type\": \"\",\n        \"description\": \"\"\n      }\n    },\n    {\n      \"column\": \"LOI 2020 Rank\",\n      \"properties\": {\n        \"dtype\": \"number\",\n        \"std\": 136,\n        \"min\": 0,\n        \"max\": 473,\n        \"num_unique_values\": 469,\n        \"samples\": [\n          58,\n          62,\n          42\n        ],\n        \"semantic_type\": \"\",\n        \"description\": \"\"\n      }\n    },\n    {\n      \"column\": \"LOI 2017 Rank\",\n      \"properties\": {\n        \"dtype\": \"number\",\n        \"std\": 136,\n        \"min\": 0,\n        \"max\": 471,\n        \"num_unique_values\": 467,\n        \"samples\": [\n          64,\n          67,\n          32\n        ],\n        \"semantic_type\": \"\",\n        \"description\": \"\"\n      }\n    },\n    {\n      \"column\": \"LOI 2014 Rank\",\n      \"properties\": {\n        \"dtype\": \"number\",\n        \"std\": 137,\n        \"min\": 0,\n        \"max\": 474,\n        \"num_unique_values\": 467,\n        \"samples\": [\n          95,\n          59,\n          30\n        ],\n        \"semantic_type\": \"\",\n        \"description\": \"\"\n      }\n    },\n    {\n      \"column\": \"LOI 2011 Rank\",\n      \"properties\": {\n        \"dtype\": \"number\",\n        \"std\": 140,\n        \"min\": 0,\n        \"max\": 479,\n        \"num_unique_values\": 464,\n        \"samples\": [\n          4,\n          13,\n          47\n        ],\n        \"semantic_type\": \"\",\n        \"description\": \"\"\n      }\n    },\n    {\n      \"column\": \"LOI Scores\",\n      \"properties\": {\n        \"dtype\": \"string\",\n        \"num_unique_values\": 470,\n        \"samples\": [\n          \"0.88067 0.87242 0.86515 0.79290 0.68574\",\n          \"0.84200 0.85391 0.83003 0.78709 0.71970\",\n          \"0.93334 0.91050 0.91334 0.92188 0.89106\"\n        ],\n        \"semantic_type\": \"\",\n        \"description\": \"\"\n      }\n    },\n    {\n      \"column\": \"Ward\",\n      \"properties\": {\n        \"dtype\": \"number\",\n        \"std\": 6,\n        \"min\": 1,\n        \"max\": 22,\n        \"num_unique_values\": 22,\n        \"samples\": [\n          4,\n          20,\n          1\n        ],\n        \"semantic_type\": \"\",\n        \"description\": \"\"\n      }\n    },\n    {\n      \"column\": \"Learning Centre\",\n      \"properties\": {\n        \"dtype\": \"category\",\n        \"num_unique_values\": 5,\n        \"samples\": [\n          \"LC1\",\n          \"CC5\",\n          \"LC3\"\n        ],\n        \"semantic_type\": \"\",\n        \"description\": \"\"\n      }\n    }\n  ]\n}"
            }
          },
          "metadata": {},
          "execution_count": 108
        }
      ]
    },
    {
      "cell_type": "code",
      "source": [
        "dfs_loi = spark.createDataFrame(df)\n",
        "print(dfs_loi.count())\n",
        "dfs_loi.show()"
      ],
      "metadata": {
        "colab": {
          "base_uri": "https://localhost:8080/"
        },
        "id": "0p2J4Wiw-h0S",
        "outputId": "8fa6bb09-a116-413d-d795-703ac487846d"
      },
      "execution_count": 109,
      "outputs": [
        {
          "output_type": "stream",
          "name": "stdout",
          "text": [
            "470\n",
            "+---------+--------------------+-------------+-------------+-------------+-------------+-------------+--------------------+----+---------------+\n",
            "|School ID|         School Name|LOI 2023 Rank|LOI 2020 Rank|LOI 2017 Rank|LOI 2014 Rank|LOI 2011 Rank|          LOI Scores|Ward|Learning Centre|\n",
            "+---------+--------------------+-------------+-------------+-------------+-------------+-------------+--------------------+----+---------------+\n",
            "|      247|Shoreham Public S...|            1|            1|            2|            4|            3|0.99008 0.98770 0...|   4|            LC2|\n",
            "|      296|Yorkwoods Public ...|            2|            2|            1|            6|           10|0.98826 0.98608 0...|   4|            LC2|\n",
            "|      209|Oakdale Park Midd...|            3|           11|           12|           13|           20|0.97943 0.97062 0...|   4|            LC2|\n",
            "|      126|Flemington Public...|            4|            4|            3|            3|            7|0.97858 0.98468 0...|   8|            LC1|\n",
            "|     1146|Eastview Public S...|            5|           18|           21|           17|           16|0.97632 0.95736 0...|  19|            LC3|\n",
            "|     1438|H J Alexander Com...|            6|            6|            8|           21|           18|0.97448 0.97725 0...|   6|            LC1|\n",
            "|     1239|St Margaret's Pub...|            7|           16|            9|           18|           26|0.97437 0.96067 0...|  19|            LC3|\n",
            "|     3997|Africentric Alter...|            8|           28|           29|           50|           56|0.97374 0.92901 0...|   5|            LC2|\n",
            "|      168|Firgrove Public S...|            9|            3|            4|            7|           11|0.97346 0.98572 0...|   4|            LC2|\n",
            "|     1260|Willow Park Junio...|           10|            7|            5|            8|            4|0.97304 0.97579 0...|  19|            LC3|\n",
            "|       28|Blacksmith Public...|           11|           31|           35|           36|           37|0.97294 0.92237 0...|   4|            LC2|\n",
            "|      100|Driftwood Public ...|           12|            8|            6|           10|            9|0.97084 0.97488 0...|   4|            LC2|\n",
            "|     1252|West Hill Public ...|           13|           29|           60|           41|           43|0.96962 0.92748 0...|  22|            LC3|\n",
            "|      180|Brookview Middle ...|           14|           13|           16|           15|           15|0.96821 0.96351 0...|   4|            LC2|\n",
            "|     1424|Bala Avenue Commu...|           15|           15|           20|           24|           22|0.96810 0.96110 0...|   6|            LC1|\n",
            "|       54|Calico Public School|           16|           36|           40|           28|           33|0.96630 0.91593 0...|   5|            LC2|\n",
            "|     1429|Cordella Junior P...|           17|           19|           15|           11|           14|0.96481 0.95621 0...|   6|            LC1|\n",
            "|      267|Topcliff Public S...|           18|           20|           17|           14|           19|0.96324 0.94871 0...|   4|            LC2|\n",
            "|     1355|Lord Dufferin Jun...|           19|           12|           10|           16|            2|0.96042 0.96434 0...|  10|            LC4|\n",
            "|     1445|Keelesdale Junior...|           20|           23|           33|           29|           30|0.95841 0.93917 0...|   6|            LC1|\n",
            "+---------+--------------------+-------------+-------------+-------------+-------------+-------------+--------------------+----+---------------+\n",
            "only showing top 20 rows\n",
            "\n"
          ]
        }
      ]
    },
    {
      "cell_type": "markdown",
      "source": [
        "### Extract dataframe with the list of schools"
      ],
      "metadata": {
        "id": "BugBiJk5O_PI"
      }
    },
    {
      "cell_type": "code",
      "source": [
        "df_v = pd.read_json(path_v)\n",
        "df_v"
      ],
      "metadata": {
        "colab": {
          "base_uri": "https://localhost:8080/",
          "height": 1000
        },
        "id": "w_laLXRsPGM2",
        "outputId": "3dd2a32c-08ed-47cd-adaf-cf0d9b69a95d"
      },
      "execution_count": 110,
      "outputs": [
        {
          "output_type": "execute_result",
          "data": {
            "text/plain": [
              "    school_id                                        school_name\n",
              "0           8                     Adam Beck Junior Public School\n",
              "1          44  AMG and The Grove Alternative School (AMG-The ...\n",
              "2           5                Associated Hebrew Schools - Posluns\n",
              "3         114                       Balmy Beach Community School\n",
              "4          45                         Bedford Park Public School\n",
              "5          47     Bessborough Drive Elementary and Middle School\n",
              "6          27                         Brown Junior Public School\n",
              "7          73  Claude Watson School for the Arts (Junior & Mi...\n",
              "8           1                           Cottingham Public School\n",
              "9          16                     Dallington Public School\\t\\t\\t\n",
              "10         25     Davisville Junior/Spectrum Public School\\t\\t\\t\n",
              "11         15                         Denlow Public School\\t\\t\\t\n",
              "12         40          Dr. Rita Cox - Kina Minogok Public School\n",
              "13         17  Earl Beatty Junior and Senior Public School\\t\\...\n",
              "14         95        École élémentaire catholique du Sacré-Coeur\n",
              "15         30  Essex Junior and Senior Public School and Hawt...\n",
              "16         24  Fern Avenue Junior and Senior Public School\\t\\t\\t\n",
              "17         42        Forest Hill Junior and Senior Public School\n",
              "18         35                         Frankland Community School\n",
              "19         43                          Humewood Community School\n",
              "20         75                  Huron Street Junior Public School\n",
              "21         78                         Jays Care Foundation Camps\n",
              "22        101                            Jean Lumb Public School\n",
              "23        105                   John Fisher Junior Public School\n",
              "24         89                         JR Wilcox Community School\n",
              "25        110                     Kew Beach Junior Public School\n",
              "26         19        Lambton-Kingsway Junior Middle School\\t\\t\\t\n",
              "27         56                         Lanor Junior Middle School\n",
              "28         86        McMurrich Jr. and Winona Sr. Public Schools\n",
              "29         48                      Montrose Junior Public School\n",
              "30         64                Mountview Alternative Junior School\n",
              "31         83                         Netivot Hatorah Day School\n",
              "32         71                    Norseman Junior Middle School\\t\n",
              "33         38              Northlea Elementary and Middle School\n",
              "34         11                                  Northmount School\n",
              "35         14             Oriole Park Junior Public School\\t\\t\\t\n",
              "36         57                   Pape Avenue Junior Public School\n",
              "37         37              Paul Penna Downtown Jewish Day School\n",
              "38         34                         Rawlinson Community School\n",
              "39         28                    Regal Road Junior Public School\n",
              "40         46           Roden Public School-Equinox Alternative \n",
              "41         97                           Rolph Road Public School\n",
              "42        111                               Secord Public School\n",
              "43         92                                  Tutoring Sessions\n",
              "44          9                               Upper Canada College\n",
              "45         61                           Voice Integrative School\n",
              "46         58                    Vradenburg Junior Public School\n",
              "47         67                         Westside Montessori School\n",
              "48        109                          White Haven Public School\n",
              "49         50                       Whitney Junior Public School\n",
              "50         69                      Wilmington Elementary School \n",
              "51          2                           Winchester Public School\n",
              "52         82                       Withrow Avenue Public School\n",
              "53         49                             Yorkview Public School"
            ],
            "text/html": [
              "\n",
              "  <div id=\"df-b89d19aa-f6b4-4830-8b7e-7d69e88e164c\" class=\"colab-df-container\">\n",
              "    <div>\n",
              "<style scoped>\n",
              "    .dataframe tbody tr th:only-of-type {\n",
              "        vertical-align: middle;\n",
              "    }\n",
              "\n",
              "    .dataframe tbody tr th {\n",
              "        vertical-align: top;\n",
              "    }\n",
              "\n",
              "    .dataframe thead th {\n",
              "        text-align: right;\n",
              "    }\n",
              "</style>\n",
              "<table border=\"1\" class=\"dataframe\">\n",
              "  <thead>\n",
              "    <tr style=\"text-align: right;\">\n",
              "      <th></th>\n",
              "      <th>school_id</th>\n",
              "      <th>school_name</th>\n",
              "    </tr>\n",
              "  </thead>\n",
              "  <tbody>\n",
              "    <tr>\n",
              "      <th>0</th>\n",
              "      <td>8</td>\n",
              "      <td>Adam Beck Junior Public School</td>\n",
              "    </tr>\n",
              "    <tr>\n",
              "      <th>1</th>\n",
              "      <td>44</td>\n",
              "      <td>AMG and The Grove Alternative School (AMG-The ...</td>\n",
              "    </tr>\n",
              "    <tr>\n",
              "      <th>2</th>\n",
              "      <td>5</td>\n",
              "      <td>Associated Hebrew Schools - Posluns</td>\n",
              "    </tr>\n",
              "    <tr>\n",
              "      <th>3</th>\n",
              "      <td>114</td>\n",
              "      <td>Balmy Beach Community School</td>\n",
              "    </tr>\n",
              "    <tr>\n",
              "      <th>4</th>\n",
              "      <td>45</td>\n",
              "      <td>Bedford Park Public School</td>\n",
              "    </tr>\n",
              "    <tr>\n",
              "      <th>5</th>\n",
              "      <td>47</td>\n",
              "      <td>Bessborough Drive Elementary and Middle School</td>\n",
              "    </tr>\n",
              "    <tr>\n",
              "      <th>6</th>\n",
              "      <td>27</td>\n",
              "      <td>Brown Junior Public School</td>\n",
              "    </tr>\n",
              "    <tr>\n",
              "      <th>7</th>\n",
              "      <td>73</td>\n",
              "      <td>Claude Watson School for the Arts (Junior &amp; Mi...</td>\n",
              "    </tr>\n",
              "    <tr>\n",
              "      <th>8</th>\n",
              "      <td>1</td>\n",
              "      <td>Cottingham Public School</td>\n",
              "    </tr>\n",
              "    <tr>\n",
              "      <th>9</th>\n",
              "      <td>16</td>\n",
              "      <td>Dallington Public School\\t\\t\\t</td>\n",
              "    </tr>\n",
              "    <tr>\n",
              "      <th>10</th>\n",
              "      <td>25</td>\n",
              "      <td>Davisville Junior/Spectrum Public School\\t\\t\\t</td>\n",
              "    </tr>\n",
              "    <tr>\n",
              "      <th>11</th>\n",
              "      <td>15</td>\n",
              "      <td>Denlow Public School\\t\\t\\t</td>\n",
              "    </tr>\n",
              "    <tr>\n",
              "      <th>12</th>\n",
              "      <td>40</td>\n",
              "      <td>Dr. Rita Cox - Kina Minogok Public School</td>\n",
              "    </tr>\n",
              "    <tr>\n",
              "      <th>13</th>\n",
              "      <td>17</td>\n",
              "      <td>Earl Beatty Junior and Senior Public School\\t\\...</td>\n",
              "    </tr>\n",
              "    <tr>\n",
              "      <th>14</th>\n",
              "      <td>95</td>\n",
              "      <td>École élémentaire catholique du Sacré-Coeur</td>\n",
              "    </tr>\n",
              "    <tr>\n",
              "      <th>15</th>\n",
              "      <td>30</td>\n",
              "      <td>Essex Junior and Senior Public School and Hawt...</td>\n",
              "    </tr>\n",
              "    <tr>\n",
              "      <th>16</th>\n",
              "      <td>24</td>\n",
              "      <td>Fern Avenue Junior and Senior Public School\\t\\t\\t</td>\n",
              "    </tr>\n",
              "    <tr>\n",
              "      <th>17</th>\n",
              "      <td>42</td>\n",
              "      <td>Forest Hill Junior and Senior Public School</td>\n",
              "    </tr>\n",
              "    <tr>\n",
              "      <th>18</th>\n",
              "      <td>35</td>\n",
              "      <td>Frankland Community School</td>\n",
              "    </tr>\n",
              "    <tr>\n",
              "      <th>19</th>\n",
              "      <td>43</td>\n",
              "      <td>Humewood Community School</td>\n",
              "    </tr>\n",
              "    <tr>\n",
              "      <th>20</th>\n",
              "      <td>75</td>\n",
              "      <td>Huron Street Junior Public School</td>\n",
              "    </tr>\n",
              "    <tr>\n",
              "      <th>21</th>\n",
              "      <td>78</td>\n",
              "      <td>Jays Care Foundation Camps</td>\n",
              "    </tr>\n",
              "    <tr>\n",
              "      <th>22</th>\n",
              "      <td>101</td>\n",
              "      <td>Jean Lumb Public School</td>\n",
              "    </tr>\n",
              "    <tr>\n",
              "      <th>23</th>\n",
              "      <td>105</td>\n",
              "      <td>John Fisher Junior Public School</td>\n",
              "    </tr>\n",
              "    <tr>\n",
              "      <th>24</th>\n",
              "      <td>89</td>\n",
              "      <td>JR Wilcox Community School</td>\n",
              "    </tr>\n",
              "    <tr>\n",
              "      <th>25</th>\n",
              "      <td>110</td>\n",
              "      <td>Kew Beach Junior Public School</td>\n",
              "    </tr>\n",
              "    <tr>\n",
              "      <th>26</th>\n",
              "      <td>19</td>\n",
              "      <td>Lambton-Kingsway Junior Middle School\\t\\t\\t</td>\n",
              "    </tr>\n",
              "    <tr>\n",
              "      <th>27</th>\n",
              "      <td>56</td>\n",
              "      <td>Lanor Junior Middle School</td>\n",
              "    </tr>\n",
              "    <tr>\n",
              "      <th>28</th>\n",
              "      <td>86</td>\n",
              "      <td>McMurrich Jr. and Winona Sr. Public Schools</td>\n",
              "    </tr>\n",
              "    <tr>\n",
              "      <th>29</th>\n",
              "      <td>48</td>\n",
              "      <td>Montrose Junior Public School</td>\n",
              "    </tr>\n",
              "    <tr>\n",
              "      <th>30</th>\n",
              "      <td>64</td>\n",
              "      <td>Mountview Alternative Junior School</td>\n",
              "    </tr>\n",
              "    <tr>\n",
              "      <th>31</th>\n",
              "      <td>83</td>\n",
              "      <td>Netivot Hatorah Day School</td>\n",
              "    </tr>\n",
              "    <tr>\n",
              "      <th>32</th>\n",
              "      <td>71</td>\n",
              "      <td>Norseman Junior Middle School\\t</td>\n",
              "    </tr>\n",
              "    <tr>\n",
              "      <th>33</th>\n",
              "      <td>38</td>\n",
              "      <td>Northlea Elementary and Middle School</td>\n",
              "    </tr>\n",
              "    <tr>\n",
              "      <th>34</th>\n",
              "      <td>11</td>\n",
              "      <td>Northmount School</td>\n",
              "    </tr>\n",
              "    <tr>\n",
              "      <th>35</th>\n",
              "      <td>14</td>\n",
              "      <td>Oriole Park Junior Public School\\t\\t\\t</td>\n",
              "    </tr>\n",
              "    <tr>\n",
              "      <th>36</th>\n",
              "      <td>57</td>\n",
              "      <td>Pape Avenue Junior Public School</td>\n",
              "    </tr>\n",
              "    <tr>\n",
              "      <th>37</th>\n",
              "      <td>37</td>\n",
              "      <td>Paul Penna Downtown Jewish Day School</td>\n",
              "    </tr>\n",
              "    <tr>\n",
              "      <th>38</th>\n",
              "      <td>34</td>\n",
              "      <td>Rawlinson Community School</td>\n",
              "    </tr>\n",
              "    <tr>\n",
              "      <th>39</th>\n",
              "      <td>28</td>\n",
              "      <td>Regal Road Junior Public School</td>\n",
              "    </tr>\n",
              "    <tr>\n",
              "      <th>40</th>\n",
              "      <td>46</td>\n",
              "      <td>Roden Public School-Equinox Alternative</td>\n",
              "    </tr>\n",
              "    <tr>\n",
              "      <th>41</th>\n",
              "      <td>97</td>\n",
              "      <td>Rolph Road Public School</td>\n",
              "    </tr>\n",
              "    <tr>\n",
              "      <th>42</th>\n",
              "      <td>111</td>\n",
              "      <td>Secord Public School</td>\n",
              "    </tr>\n",
              "    <tr>\n",
              "      <th>43</th>\n",
              "      <td>92</td>\n",
              "      <td>Tutoring Sessions</td>\n",
              "    </tr>\n",
              "    <tr>\n",
              "      <th>44</th>\n",
              "      <td>9</td>\n",
              "      <td>Upper Canada College</td>\n",
              "    </tr>\n",
              "    <tr>\n",
              "      <th>45</th>\n",
              "      <td>61</td>\n",
              "      <td>Voice Integrative School</td>\n",
              "    </tr>\n",
              "    <tr>\n",
              "      <th>46</th>\n",
              "      <td>58</td>\n",
              "      <td>Vradenburg Junior Public School</td>\n",
              "    </tr>\n",
              "    <tr>\n",
              "      <th>47</th>\n",
              "      <td>67</td>\n",
              "      <td>Westside Montessori School</td>\n",
              "    </tr>\n",
              "    <tr>\n",
              "      <th>48</th>\n",
              "      <td>109</td>\n",
              "      <td>White Haven Public School</td>\n",
              "    </tr>\n",
              "    <tr>\n",
              "      <th>49</th>\n",
              "      <td>50</td>\n",
              "      <td>Whitney Junior Public School</td>\n",
              "    </tr>\n",
              "    <tr>\n",
              "      <th>50</th>\n",
              "      <td>69</td>\n",
              "      <td>Wilmington Elementary School</td>\n",
              "    </tr>\n",
              "    <tr>\n",
              "      <th>51</th>\n",
              "      <td>2</td>\n",
              "      <td>Winchester Public School</td>\n",
              "    </tr>\n",
              "    <tr>\n",
              "      <th>52</th>\n",
              "      <td>82</td>\n",
              "      <td>Withrow Avenue Public School</td>\n",
              "    </tr>\n",
              "    <tr>\n",
              "      <th>53</th>\n",
              "      <td>49</td>\n",
              "      <td>Yorkview Public School</td>\n",
              "    </tr>\n",
              "  </tbody>\n",
              "</table>\n",
              "</div>\n",
              "    <div class=\"colab-df-buttons\">\n",
              "\n",
              "  <div class=\"colab-df-container\">\n",
              "    <button class=\"colab-df-convert\" onclick=\"convertToInteractive('df-b89d19aa-f6b4-4830-8b7e-7d69e88e164c')\"\n",
              "            title=\"Convert this dataframe to an interactive table.\"\n",
              "            style=\"display:none;\">\n",
              "\n",
              "  <svg xmlns=\"http://www.w3.org/2000/svg\" height=\"24px\" viewBox=\"0 -960 960 960\">\n",
              "    <path d=\"M120-120v-720h720v720H120Zm60-500h600v-160H180v160Zm220 220h160v-160H400v160Zm0 220h160v-160H400v160ZM180-400h160v-160H180v160Zm440 0h160v-160H620v160ZM180-180h160v-160H180v160Zm440 0h160v-160H620v160Z\"/>\n",
              "  </svg>\n",
              "    </button>\n",
              "\n",
              "  <style>\n",
              "    .colab-df-container {\n",
              "      display:flex;\n",
              "      gap: 12px;\n",
              "    }\n",
              "\n",
              "    .colab-df-convert {\n",
              "      background-color: #E8F0FE;\n",
              "      border: none;\n",
              "      border-radius: 50%;\n",
              "      cursor: pointer;\n",
              "      display: none;\n",
              "      fill: #1967D2;\n",
              "      height: 32px;\n",
              "      padding: 0 0 0 0;\n",
              "      width: 32px;\n",
              "    }\n",
              "\n",
              "    .colab-df-convert:hover {\n",
              "      background-color: #E2EBFA;\n",
              "      box-shadow: 0px 1px 2px rgba(60, 64, 67, 0.3), 0px 1px 3px 1px rgba(60, 64, 67, 0.15);\n",
              "      fill: #174EA6;\n",
              "    }\n",
              "\n",
              "    .colab-df-buttons div {\n",
              "      margin-bottom: 4px;\n",
              "    }\n",
              "\n",
              "    [theme=dark] .colab-df-convert {\n",
              "      background-color: #3B4455;\n",
              "      fill: #D2E3FC;\n",
              "    }\n",
              "\n",
              "    [theme=dark] .colab-df-convert:hover {\n",
              "      background-color: #434B5C;\n",
              "      box-shadow: 0px 1px 3px 1px rgba(0, 0, 0, 0.15);\n",
              "      filter: drop-shadow(0px 1px 2px rgba(0, 0, 0, 0.3));\n",
              "      fill: #FFFFFF;\n",
              "    }\n",
              "  </style>\n",
              "\n",
              "    <script>\n",
              "      const buttonEl =\n",
              "        document.querySelector('#df-b89d19aa-f6b4-4830-8b7e-7d69e88e164c button.colab-df-convert');\n",
              "      buttonEl.style.display =\n",
              "        google.colab.kernel.accessAllowed ? 'block' : 'none';\n",
              "\n",
              "      async function convertToInteractive(key) {\n",
              "        const element = document.querySelector('#df-b89d19aa-f6b4-4830-8b7e-7d69e88e164c');\n",
              "        const dataTable =\n",
              "          await google.colab.kernel.invokeFunction('convertToInteractive',\n",
              "                                                    [key], {});\n",
              "        if (!dataTable) return;\n",
              "\n",
              "        const docLinkHtml = 'Like what you see? Visit the ' +\n",
              "          '<a target=\"_blank\" href=https://colab.research.google.com/notebooks/data_table.ipynb>data table notebook</a>'\n",
              "          + ' to learn more about interactive tables.';\n",
              "        element.innerHTML = '';\n",
              "        dataTable['output_type'] = 'display_data';\n",
              "        await google.colab.output.renderOutput(dataTable, element);\n",
              "        const docLink = document.createElement('div');\n",
              "        docLink.innerHTML = docLinkHtml;\n",
              "        element.appendChild(docLink);\n",
              "      }\n",
              "    </script>\n",
              "  </div>\n",
              "\n",
              "\n",
              "<div id=\"df-940aaa29-7288-4bf8-a53f-da8111730dfb\">\n",
              "  <button class=\"colab-df-quickchart\" onclick=\"quickchart('df-940aaa29-7288-4bf8-a53f-da8111730dfb')\"\n",
              "            title=\"Suggest charts\"\n",
              "            style=\"display:none;\">\n",
              "\n",
              "<svg xmlns=\"http://www.w3.org/2000/svg\" height=\"24px\"viewBox=\"0 0 24 24\"\n",
              "     width=\"24px\">\n",
              "    <g>\n",
              "        <path d=\"M19 3H5c-1.1 0-2 .9-2 2v14c0 1.1.9 2 2 2h14c1.1 0 2-.9 2-2V5c0-1.1-.9-2-2-2zM9 17H7v-7h2v7zm4 0h-2V7h2v10zm4 0h-2v-4h2v4z\"/>\n",
              "    </g>\n",
              "</svg>\n",
              "  </button>\n",
              "\n",
              "<style>\n",
              "  .colab-df-quickchart {\n",
              "      --bg-color: #E8F0FE;\n",
              "      --fill-color: #1967D2;\n",
              "      --hover-bg-color: #E2EBFA;\n",
              "      --hover-fill-color: #174EA6;\n",
              "      --disabled-fill-color: #AAA;\n",
              "      --disabled-bg-color: #DDD;\n",
              "  }\n",
              "\n",
              "  [theme=dark] .colab-df-quickchart {\n",
              "      --bg-color: #3B4455;\n",
              "      --fill-color: #D2E3FC;\n",
              "      --hover-bg-color: #434B5C;\n",
              "      --hover-fill-color: #FFFFFF;\n",
              "      --disabled-bg-color: #3B4455;\n",
              "      --disabled-fill-color: #666;\n",
              "  }\n",
              "\n",
              "  .colab-df-quickchart {\n",
              "    background-color: var(--bg-color);\n",
              "    border: none;\n",
              "    border-radius: 50%;\n",
              "    cursor: pointer;\n",
              "    display: none;\n",
              "    fill: var(--fill-color);\n",
              "    height: 32px;\n",
              "    padding: 0;\n",
              "    width: 32px;\n",
              "  }\n",
              "\n",
              "  .colab-df-quickchart:hover {\n",
              "    background-color: var(--hover-bg-color);\n",
              "    box-shadow: 0 1px 2px rgba(60, 64, 67, 0.3), 0 1px 3px 1px rgba(60, 64, 67, 0.15);\n",
              "    fill: var(--button-hover-fill-color);\n",
              "  }\n",
              "\n",
              "  .colab-df-quickchart-complete:disabled,\n",
              "  .colab-df-quickchart-complete:disabled:hover {\n",
              "    background-color: var(--disabled-bg-color);\n",
              "    fill: var(--disabled-fill-color);\n",
              "    box-shadow: none;\n",
              "  }\n",
              "\n",
              "  .colab-df-spinner {\n",
              "    border: 2px solid var(--fill-color);\n",
              "    border-color: transparent;\n",
              "    border-bottom-color: var(--fill-color);\n",
              "    animation:\n",
              "      spin 1s steps(1) infinite;\n",
              "  }\n",
              "\n",
              "  @keyframes spin {\n",
              "    0% {\n",
              "      border-color: transparent;\n",
              "      border-bottom-color: var(--fill-color);\n",
              "      border-left-color: var(--fill-color);\n",
              "    }\n",
              "    20% {\n",
              "      border-color: transparent;\n",
              "      border-left-color: var(--fill-color);\n",
              "      border-top-color: var(--fill-color);\n",
              "    }\n",
              "    30% {\n",
              "      border-color: transparent;\n",
              "      border-left-color: var(--fill-color);\n",
              "      border-top-color: var(--fill-color);\n",
              "      border-right-color: var(--fill-color);\n",
              "    }\n",
              "    40% {\n",
              "      border-color: transparent;\n",
              "      border-right-color: var(--fill-color);\n",
              "      border-top-color: var(--fill-color);\n",
              "    }\n",
              "    60% {\n",
              "      border-color: transparent;\n",
              "      border-right-color: var(--fill-color);\n",
              "    }\n",
              "    80% {\n",
              "      border-color: transparent;\n",
              "      border-right-color: var(--fill-color);\n",
              "      border-bottom-color: var(--fill-color);\n",
              "    }\n",
              "    90% {\n",
              "      border-color: transparent;\n",
              "      border-bottom-color: var(--fill-color);\n",
              "    }\n",
              "  }\n",
              "</style>\n",
              "\n",
              "  <script>\n",
              "    async function quickchart(key) {\n",
              "      const quickchartButtonEl =\n",
              "        document.querySelector('#' + key + ' button');\n",
              "      quickchartButtonEl.disabled = true;  // To prevent multiple clicks.\n",
              "      quickchartButtonEl.classList.add('colab-df-spinner');\n",
              "      try {\n",
              "        const charts = await google.colab.kernel.invokeFunction(\n",
              "            'suggestCharts', [key], {});\n",
              "      } catch (error) {\n",
              "        console.error('Error during call to suggestCharts:', error);\n",
              "      }\n",
              "      quickchartButtonEl.classList.remove('colab-df-spinner');\n",
              "      quickchartButtonEl.classList.add('colab-df-quickchart-complete');\n",
              "    }\n",
              "    (() => {\n",
              "      let quickchartButtonEl =\n",
              "        document.querySelector('#df-940aaa29-7288-4bf8-a53f-da8111730dfb button');\n",
              "      quickchartButtonEl.style.display =\n",
              "        google.colab.kernel.accessAllowed ? 'block' : 'none';\n",
              "    })();\n",
              "  </script>\n",
              "</div>\n",
              "\n",
              "  <div id=\"id_d9c3e58b-ba42-4502-be69-742b15153573\">\n",
              "    <style>\n",
              "      .colab-df-generate {\n",
              "        background-color: #E8F0FE;\n",
              "        border: none;\n",
              "        border-radius: 50%;\n",
              "        cursor: pointer;\n",
              "        display: none;\n",
              "        fill: #1967D2;\n",
              "        height: 32px;\n",
              "        padding: 0 0 0 0;\n",
              "        width: 32px;\n",
              "      }\n",
              "\n",
              "      .colab-df-generate:hover {\n",
              "        background-color: #E2EBFA;\n",
              "        box-shadow: 0px 1px 2px rgba(60, 64, 67, 0.3), 0px 1px 3px 1px rgba(60, 64, 67, 0.15);\n",
              "        fill: #174EA6;\n",
              "      }\n",
              "\n",
              "      [theme=dark] .colab-df-generate {\n",
              "        background-color: #3B4455;\n",
              "        fill: #D2E3FC;\n",
              "      }\n",
              "\n",
              "      [theme=dark] .colab-df-generate:hover {\n",
              "        background-color: #434B5C;\n",
              "        box-shadow: 0px 1px 3px 1px rgba(0, 0, 0, 0.15);\n",
              "        filter: drop-shadow(0px 1px 2px rgba(0, 0, 0, 0.3));\n",
              "        fill: #FFFFFF;\n",
              "      }\n",
              "    </style>\n",
              "    <button class=\"colab-df-generate\" onclick=\"generateWithVariable('df_v')\"\n",
              "            title=\"Generate code using this dataframe.\"\n",
              "            style=\"display:none;\">\n",
              "\n",
              "  <svg xmlns=\"http://www.w3.org/2000/svg\" height=\"24px\"viewBox=\"0 0 24 24\"\n",
              "       width=\"24px\">\n",
              "    <path d=\"M7,19H8.4L18.45,9,17,7.55,7,17.6ZM5,21V16.75L18.45,3.32a2,2,0,0,1,2.83,0l1.4,1.43a1.91,1.91,0,0,1,.58,1.4,1.91,1.91,0,0,1-.58,1.4L9.25,21ZM18.45,9,17,7.55Zm-12,3A5.31,5.31,0,0,0,4.9,8.1,5.31,5.31,0,0,0,1,6.5,5.31,5.31,0,0,0,4.9,4.9,5.31,5.31,0,0,0,6.5,1,5.31,5.31,0,0,0,8.1,4.9,5.31,5.31,0,0,0,12,6.5,5.46,5.46,0,0,0,6.5,12Z\"/>\n",
              "  </svg>\n",
              "    </button>\n",
              "    <script>\n",
              "      (() => {\n",
              "      const buttonEl =\n",
              "        document.querySelector('#id_d9c3e58b-ba42-4502-be69-742b15153573 button.colab-df-generate');\n",
              "      buttonEl.style.display =\n",
              "        google.colab.kernel.accessAllowed ? 'block' : 'none';\n",
              "\n",
              "      buttonEl.onclick = () => {\n",
              "        google.colab.notebook.generateWithVariable('df_v');\n",
              "      }\n",
              "      })();\n",
              "    </script>\n",
              "  </div>\n",
              "\n",
              "    </div>\n",
              "  </div>\n"
            ],
            "application/vnd.google.colaboratory.intrinsic+json": {
              "type": "dataframe",
              "variable_name": "df_v",
              "summary": "{\n  \"name\": \"df_v\",\n  \"rows\": 54,\n  \"fields\": [\n    {\n      \"column\": \"school_id\",\n      \"properties\": {\n        \"dtype\": \"number\",\n        \"std\": 32,\n        \"min\": 1,\n        \"max\": 114,\n        \"num_unique_values\": 54,\n        \"samples\": [\n          43,\n          50,\n          109\n        ],\n        \"semantic_type\": \"\",\n        \"description\": \"\"\n      }\n    },\n    {\n      \"column\": \"school_name\",\n      \"properties\": {\n        \"dtype\": \"string\",\n        \"num_unique_values\": 54,\n        \"samples\": [\n          \"Humewood Community School\",\n          \"Whitney Junior Public School\",\n          \"White Haven Public School\"\n        ],\n        \"semantic_type\": \"\",\n        \"description\": \"\"\n      }\n    }\n  ]\n}"
            }
          },
          "metadata": {},
          "execution_count": 110
        }
      ]
    },
    {
      "cell_type": "code",
      "source": [
        "dfs_v = spark.createDataFrame(df_v)\n",
        "print(dfs_v.count())\n",
        "dfs_v.show()"
      ],
      "metadata": {
        "colab": {
          "base_uri": "https://localhost:8080/"
        },
        "id": "Qpfonu2mARt9",
        "outputId": "7c7d56a2-c88c-4269-b036-5998283ab663"
      },
      "execution_count": 111,
      "outputs": [
        {
          "output_type": "stream",
          "name": "stdout",
          "text": [
            "54\n",
            "+---------+--------------------+\n",
            "|school_id|         school_name|\n",
            "+---------+--------------------+\n",
            "|        8|Adam Beck Junior ...|\n",
            "|       44|AMG and The Grove...|\n",
            "|        5|Associated Hebrew...|\n",
            "|      114|Balmy Beach Commu...|\n",
            "|       45|Bedford Park Publ...|\n",
            "|       47|Bessborough Drive...|\n",
            "|       27|Brown Junior Publ...|\n",
            "|       73|Claude Watson Sch...|\n",
            "|        1|Cottingham Public...|\n",
            "|       16|Dallington Public...|\n",
            "|       25|Davisville Junior...|\n",
            "|       15|Denlow Public Sch...|\n",
            "|       40|Dr. Rita Cox - Ki...|\n",
            "|       17|Earl Beatty Junio...|\n",
            "|       95|École élémentaire...|\n",
            "|       30|Essex Junior and ...|\n",
            "|       24|Fern Avenue Junio...|\n",
            "|       42|Forest Hill Junio...|\n",
            "|       35|Frankland Communi...|\n",
            "|       43|Humewood Communit...|\n",
            "+---------+--------------------+\n",
            "only showing top 20 rows\n",
            "\n"
          ]
        }
      ]
    },
    {
      "cell_type": "markdown",
      "source": [
        "## Transform datasets"
      ],
      "metadata": {
        "id": "5Amz04SbAaiw"
      }
    },
    {
      "cell_type": "markdown",
      "source": [
        "### Define rules for clean up"
      ],
      "metadata": {
        "id": "XRSUhGh8PE2A"
      }
    },
    {
      "cell_type": "code",
      "source": [
        "def clean_up_school_name(school_name):\n",
        "\n",
        "    school_name = school_name.lower()\n",
        "    school_name = school_name.strip()\n",
        "\n",
        "    remove_substrings = [\"\\t\",\".\", \"public \", \"school\", \"junior\", \\\n",
        "                         \"elementary\", \"and senior\", \"middle\", \"&\", \"(\", \")\"]\n",
        "    for substring in remove_substrings:\n",
        "      school_name = school_name.replace(substring, \"\")\n",
        "\n",
        "    school_name = school_name.replace(\"j r\", \"jr\")\n",
        "    school_name = school_name.replace('‐', '-') # replacing 8208 hyphen with 45 hyphen\n",
        "    school_name = school_name.replace('minogok','minagok')\n",
        "\n",
        "    delimiter = \"/\"\n",
        "    delimiter_index = school_name.find(delimiter)\n",
        "    if delimiter_index != -1:\n",
        "        school_name = school_name[:delimiter_index]\n",
        "\n",
        "    school_name = re.sub(r'\\s+', ' ', school_name)\n",
        "\n",
        "    school_name = school_name.strip()\n",
        "\n",
        "    return school_name\n",
        "\n",
        "clean_up_school_name_udf = F.udf(clean_up_school_name, pys_types.StringType())"
      ],
      "metadata": {
        "id": "SVmC0mwmAgbr"
      },
      "execution_count": 112,
      "outputs": []
    },
    {
      "cell_type": "markdown",
      "source": [
        "### Clean up LOI dataset"
      ],
      "metadata": {
        "id": "PVbhTzF-PI_I"
      }
    },
    {
      "cell_type": "code",
      "source": [
        "dfs_loi = dfs_loi.withColumn(\"simple_school_name\",clean_up_school_name_udf(dfs_loi[\"School Name\"]))\n",
        "dfs_loi = dfs_loi.select(\"simple_school_name\", \"LOI 2023 Rank\")\n",
        "dfs_loi = dfs_loi.withColumnRenamed(\"LOI 2023 Rank\", \"loi_rank\")\n",
        "dfs_loi.show(truncate = False)"
      ],
      "metadata": {
        "colab": {
          "base_uri": "https://localhost:8080/"
        },
        "id": "EUZ0QV1pHAtv",
        "outputId": "4c425c7e-8068-4f00-cd94-b637c6da943d"
      },
      "execution_count": 113,
      "outputs": [
        {
          "output_type": "stream",
          "name": "stdout",
          "text": [
            "+------------------------------------+--------+\n",
            "|simple_school_name                  |loi_rank|\n",
            "+------------------------------------+--------+\n",
            "|shoreham sports and wellness academy|1       |\n",
            "|yorkwoods                           |2       |\n",
            "|oakdale park                        |3       |\n",
            "|flemington                          |4       |\n",
            "|eastview                            |5       |\n",
            "|h j alexander community             |6       |\n",
            "|st margaret's                       |7       |\n",
            "|africentric alternative             |8       |\n",
            "|firgrove                            |9       |\n",
            "|willow park                         |10      |\n",
            "|blacksmith                          |11      |\n",
            "|driftwood                           |12      |\n",
            "|west hill                           |13      |\n",
            "|brookview                           |14      |\n",
            "|bala avenue community               |15      |\n",
            "|calico                              |16      |\n",
            "|cordella                            |17      |\n",
            "|topcliff                            |18      |\n",
            "|lord dufferin                       |19      |\n",
            "|keelesdale                          |20      |\n",
            "+------------------------------------+--------+\n",
            "only showing top 20 rows\n",
            "\n"
          ]
        }
      ]
    },
    {
      "cell_type": "code",
      "source": [
        "total_loi = dfs_loi.count()\n",
        "total_loi_dedup = dfs_loi.select(\"simple_school_name\").distinct().count()\n",
        "print(total_loi)\n",
        "print(total_loi_dedup)\n",
        "if total_loi == total_loi_dedup:\n",
        "  print(\"No duplicates\")\n",
        "else:\n",
        "  print(\"Duplicates\")\n",
        "\n"
      ],
      "metadata": {
        "colab": {
          "base_uri": "https://localhost:8080/"
        },
        "id": "BxyTO3K2Tztd",
        "outputId": "41469fad-f372-4d49-f41e-4294e92006f9"
      },
      "execution_count": 114,
      "outputs": [
        {
          "output_type": "stream",
          "name": "stdout",
          "text": [
            "470\n",
            "470\n",
            "No duplicates\n"
          ]
        }
      ]
    },
    {
      "cell_type": "code",
      "source": [
        "dfs_loi.select(\"simple_school_name\").distinct().count()"
      ],
      "metadata": {
        "colab": {
          "base_uri": "https://localhost:8080/"
        },
        "id": "QaXM36CBVay0",
        "outputId": "a9be7d20-92bb-4cf9-8121-08e9c11440ea"
      },
      "execution_count": 115,
      "outputs": [
        {
          "output_type": "execute_result",
          "data": {
            "text/plain": [
              "470"
            ]
          },
          "metadata": {},
          "execution_count": 115
        }
      ]
    },
    {
      "cell_type": "code",
      "source": [
        "max_rank_df = dfs_loi.agg(F.max(\"loi_rank\").alias(\"max_rank\")).collect()[0]\n",
        "max_rank = max_rank_df[\"max_rank\"]\n"
      ],
      "metadata": {
        "id": "doHGVAWyZ9WJ"
      },
      "execution_count": 116,
      "outputs": []
    },
    {
      "cell_type": "code",
      "source": [
        "dfs_loi.printSchema()"
      ],
      "metadata": {
        "colab": {
          "base_uri": "https://localhost:8080/"
        },
        "id": "NzF8YrRA_COF",
        "outputId": "fff6d961-7b49-4a12-9253-f5808829517a"
      },
      "execution_count": 117,
      "outputs": [
        {
          "output_type": "stream",
          "name": "stdout",
          "text": [
            "root\n",
            " |-- simple_school_name: string (nullable = true)\n",
            " |-- loi_rank: long (nullable = true)\n",
            "\n"
          ]
        }
      ]
    },
    {
      "cell_type": "code",
      "source": [
        "type(max_rank)\n",
        "max_rank"
      ],
      "metadata": {
        "colab": {
          "base_uri": "https://localhost:8080/"
        },
        "id": "gqJAJtWy_bV2",
        "outputId": "8c17618a-9d3c-4682-8d58-dc23d70ece91"
      },
      "execution_count": 118,
      "outputs": [
        {
          "output_type": "execute_result",
          "data": {
            "text/plain": [
              "470"
            ]
          },
          "metadata": {},
          "execution_count": 118
        }
      ]
    },
    {
      "cell_type": "code",
      "source": [
        "dfs_loi = dfs_loi.withColumn(\"perc_rank\", dfs_loi[\"loi_rank\"] / max_rank)\n",
        "dfs_loi.show(truncate = False)"
      ],
      "metadata": {
        "colab": {
          "base_uri": "https://localhost:8080/"
        },
        "id": "QjMeXi1w-BzX",
        "outputId": "968064c9-9398-4e77-eabb-346404e4c2a4"
      },
      "execution_count": 119,
      "outputs": [
        {
          "output_type": "stream",
          "name": "stdout",
          "text": [
            "+------------------------------------+--------+--------------------+\n",
            "|simple_school_name                  |loi_rank|perc_rank           |\n",
            "+------------------------------------+--------+--------------------+\n",
            "|shoreham sports and wellness academy|1       |0.002127659574468085|\n",
            "|yorkwoods                           |2       |0.00425531914893617 |\n",
            "|oakdale park                        |3       |0.006382978723404255|\n",
            "|flemington                          |4       |0.00851063829787234 |\n",
            "|eastview                            |5       |0.010638297872340425|\n",
            "|h j alexander community             |6       |0.01276595744680851 |\n",
            "|st margaret's                       |7       |0.014893617021276596|\n",
            "|africentric alternative             |8       |0.01702127659574468 |\n",
            "|firgrove                            |9       |0.019148936170212766|\n",
            "|willow park                         |10      |0.02127659574468085 |\n",
            "|blacksmith                          |11      |0.023404255319148935|\n",
            "|driftwood                           |12      |0.02553191489361702 |\n",
            "|west hill                           |13      |0.027659574468085105|\n",
            "|brookview                           |14      |0.029787234042553193|\n",
            "|bala avenue community               |15      |0.031914893617021274|\n",
            "|calico                              |16      |0.03404255319148936 |\n",
            "|cordella                            |17      |0.036170212765957444|\n",
            "|topcliff                            |18      |0.03829787234042553 |\n",
            "|lord dufferin                       |19      |0.04042553191489362 |\n",
            "|keelesdale                          |20      |0.0425531914893617  |\n",
            "+------------------------------------+--------+--------------------+\n",
            "only showing top 20 rows\n",
            "\n"
          ]
        }
      ]
    },
    {
      "cell_type": "code",
      "source": [
        "# Bucketizer of percentage as fraction into 10 bins\n",
        "def bucketizer(x):\n",
        "  if x <=0.1:\n",
        "    return 0\n",
        "  elif x <=0.2:\n",
        "    return 1\n",
        "  elif x <=0.3:\n",
        "    return 2\n",
        "  elif x <=0.4:\n",
        "    return 3\n",
        "  elif x <=0.5:\n",
        "    return 4\n",
        "  elif x <=0.6:\n",
        "    return 5\n",
        "  elif x <=0.7:\n",
        "    return 6\n",
        "  elif x <=0.8:\n",
        "    return 7\n",
        "  elif x <=0.9:\n",
        "    return 8\n",
        "  else:\n",
        "    return 9\n",
        "\n",
        "bucketizer_udf = F.udf(bucketizer, pys_types.IntegerType())\n",
        "\n",
        "dfs_loi = dfs_loi.withColumn(\"rank_bucket\", bucketizer_udf(dfs_loi[\"perc_rank\"]))\n",
        "dfs_loi.show(truncate = False)"
      ],
      "metadata": {
        "colab": {
          "base_uri": "https://localhost:8080/"
        },
        "id": "Xm3pUckAusUx",
        "outputId": "18504656-7297-4999-975b-1db26df01fd9"
      },
      "execution_count": 120,
      "outputs": [
        {
          "output_type": "stream",
          "name": "stdout",
          "text": [
            "+------------------------------------+--------+--------------------+-----------+\n",
            "|simple_school_name                  |loi_rank|perc_rank           |rank_bucket|\n",
            "+------------------------------------+--------+--------------------+-----------+\n",
            "|shoreham sports and wellness academy|1       |0.002127659574468085|0          |\n",
            "|yorkwoods                           |2       |0.00425531914893617 |0          |\n",
            "|oakdale park                        |3       |0.006382978723404255|0          |\n",
            "|flemington                          |4       |0.00851063829787234 |0          |\n",
            "|eastview                            |5       |0.010638297872340425|0          |\n",
            "|h j alexander community             |6       |0.01276595744680851 |0          |\n",
            "|st margaret's                       |7       |0.014893617021276596|0          |\n",
            "|africentric alternative             |8       |0.01702127659574468 |0          |\n",
            "|firgrove                            |9       |0.019148936170212766|0          |\n",
            "|willow park                         |10      |0.02127659574468085 |0          |\n",
            "|blacksmith                          |11      |0.023404255319148935|0          |\n",
            "|driftwood                           |12      |0.02553191489361702 |0          |\n",
            "|west hill                           |13      |0.027659574468085105|0          |\n",
            "|brookview                           |14      |0.029787234042553193|0          |\n",
            "|bala avenue community               |15      |0.031914893617021274|0          |\n",
            "|calico                              |16      |0.03404255319148936 |0          |\n",
            "|cordella                            |17      |0.036170212765957444|0          |\n",
            "|topcliff                            |18      |0.03829787234042553 |0          |\n",
            "|lord dufferin                       |19      |0.04042553191489362 |0          |\n",
            "|keelesdale                          |20      |0.0425531914893617  |0          |\n",
            "+------------------------------------+--------+--------------------+-----------+\n",
            "only showing top 20 rows\n",
            "\n"
          ]
        }
      ]
    },
    {
      "cell_type": "markdown",
      "source": [
        "### Clean up vendor list of schools dataset"
      ],
      "metadata": {
        "id": "1p1IouM1PMFD"
      }
    },
    {
      "cell_type": "code",
      "source": [
        "dfs_v = dfs_v.withColumn(\"simple_school_name\",clean_up_school_name_udf(dfs_v.school_name))\n",
        "dfs_v = dfs_v.select(\"school_id\",\"simple_school_name\")\n",
        "dfs_v = dfs_v.withColumnRenamed(\"school_id\", \"vendor_school_id\")\n",
        "\n",
        "dfs_v.show(truncate = False)"
      ],
      "metadata": {
        "colab": {
          "base_uri": "https://localhost:8080/"
        },
        "id": "7N9u-2nSCLaj",
        "outputId": "26105657-0221-44b6-aeb2-ad72bf84c93c"
      },
      "execution_count": 121,
      "outputs": [
        {
          "output_type": "stream",
          "name": "stdout",
          "text": [
            "+----------------+--------------------------------------------+\n",
            "|vendor_school_id|simple_school_name                          |\n",
            "+----------------+--------------------------------------------+\n",
            "|8               |adam beck                                   |\n",
            "|44              |amg and the grove alternative amg-the grove |\n",
            "|5               |associated hebrew s - posluns               |\n",
            "|114             |balmy beach community                       |\n",
            "|45              |bedford park                                |\n",
            "|47              |bessborough drive and                       |\n",
            "|27              |brown                                       |\n",
            "|73              |claude watson for the arts                  |\n",
            "|1               |cottingham                                  |\n",
            "|16              |dallington                                  |\n",
            "|25              |davisville                                  |\n",
            "|15              |denlow                                      |\n",
            "|40              |dr rita cox - kina minagok                  |\n",
            "|17              |earl beatty                                 |\n",
            "|95              |école élémentaire catholique du sacré-coeur |\n",
            "|30              |essex and hawthorne ii bilingual alternative|\n",
            "|24              |fern avenue                                 |\n",
            "|42              |forest hill                                 |\n",
            "|35              |frankland community                         |\n",
            "|43              |humewood community                          |\n",
            "+----------------+--------------------------------------------+\n",
            "only showing top 20 rows\n",
            "\n"
          ]
        }
      ]
    },
    {
      "cell_type": "code",
      "source": [
        "total_v = dfs_v.count()\n",
        "total_dedup_v = dfs_v.select(\"simple_school_name\").distinct().count()\n",
        "print(total_v)\n",
        "print(total_dedup_v)\n",
        "if total_v == total_dedup_v:\n",
        "  print(\"No duplicates\")\n",
        "else:\n",
        "  print(\"Duplicates\")"
      ],
      "metadata": {
        "colab": {
          "base_uri": "https://localhost:8080/"
        },
        "id": "rRxnAgNBW4ND",
        "outputId": "553ee143-ddbf-49b0-e8d6-6105aefa417e"
      },
      "execution_count": 122,
      "outputs": [
        {
          "output_type": "stream",
          "name": "stdout",
          "text": [
            "54\n",
            "54\n",
            "No duplicates\n"
          ]
        }
      ]
    },
    {
      "cell_type": "markdown",
      "source": [
        "## Analyze datasets together"
      ],
      "metadata": {
        "id": "9vx2s2R_Zk5s"
      }
    },
    {
      "cell_type": "markdown",
      "source": [
        "### Join datasets"
      ],
      "metadata": {
        "id": "-OlB5QHPO78i"
      }
    },
    {
      "cell_type": "code",
      "source": [
        "dfs_join = dfs_v.join(dfs_loi, on=\"simple_school_name\", how = \"fullouter\")\n",
        "\n",
        "dfs_join_v_nloi = dfs_join.filter(\"loi_rank is NULL\")\n",
        "dfs_join_v_loi = dfs_join.filter(\"vendor_school_id is not NULL and loi_rank is not NULL\")\n",
        "dfs_join_nv_loi = dfs_join.filter(\"vendor_school_id is null and loi_rank is not null\")\n",
        "\n",
        "\n",
        "print(\"Vendor schools not found in TDSB LOI list: \" + str(dfs_join_v_nloi.count()) +\n",
        "      \" schools out of \" + str(total_v))\n",
        "print(\"Vendor schools found in TDSB LOI list: \" + str(dfs_join_v_loi.count()) +\n",
        "      \" schools out of \" + str(total_v) + \" vendor list and out of \" +\n",
        "      str(total_loi) + \" TDSB LOI list\")\n",
        "print(\"TDSB LOI list schools not found in the vendor list: \" +\n",
        "      str(dfs_join_nv_loi.count()) +\n",
        "      \" schools out of \" + str(total_loi) + \" TDSB LOI list\")\n",
        "\n"
      ],
      "metadata": {
        "colab": {
          "base_uri": "https://localhost:8080/"
        },
        "id": "OU2f-cUBX_MD",
        "outputId": "6ff61fe2-54f1-4274-f43c-7c48d6a26a83"
      },
      "execution_count": 123,
      "outputs": [
        {
          "output_type": "stream",
          "name": "stdout",
          "text": [
            "Vendor schools not found in TDSB LOI list: 14 schools out of 54\n",
            "Vendor schools found in TDSB LOI list: 40 schools out of 54 vendor list and out of 470 TDSB LOI list\n",
            "TDSB LOI list schools not found in the vendor list: 430 schools out of 470 TDSB LOI list\n"
          ]
        }
      ]
    },
    {
      "cell_type": "markdown",
      "source": [
        "💡 I want a Venn diagram here"
      ],
      "metadata": {
        "id": "lmKqDOrEDLjE"
      }
    },
    {
      "cell_type": "markdown",
      "source": [
        "### Check what schools from the vendor list are not found in the TDSB LOI list"
      ],
      "metadata": {
        "id": "pYsU3lZ0W9Mv"
      }
    },
    {
      "cell_type": "code",
      "source": [
        "dfs_join_v_nloi.show(truncate = False)"
      ],
      "metadata": {
        "colab": {
          "base_uri": "https://localhost:8080/"
        },
        "id": "WUiCR2GfIib_",
        "outputId": "9c8830d6-2634-455f-c144-40928b9bc3fb"
      },
      "execution_count": 124,
      "outputs": [
        {
          "output_type": "stream",
          "name": "stdout",
          "text": [
            "+--------------------------------------------+----------------+--------+---------+-----------+\n",
            "|simple_school_name                          |vendor_school_id|loi_rank|perc_rank|rank_bucket|\n",
            "+--------------------------------------------+----------------+--------+---------+-----------+\n",
            "|amg and the grove alternative amg-the grove |44              |NULL    |NULL     |NULL       |\n",
            "|associated hebrew s - posluns               |5               |NULL    |NULL     |NULL       |\n",
            "|essex and hawthorne ii bilingual alternative|30              |NULL    |NULL     |NULL       |\n",
            "|jays care foundation camps                  |78              |NULL    |NULL     |NULL       |\n",
            "|mcmurrich jr and winona sr s                |86              |NULL    |NULL     |NULL       |\n",
            "|netivot hatorah day                         |83              |NULL    |NULL     |NULL       |\n",
            "|northmount                                  |11              |NULL    |NULL     |NULL       |\n",
            "|paul penna downtown jewish day              |37              |NULL    |NULL     |NULL       |\n",
            "|roden -equinox alternative                  |46              |NULL    |NULL     |NULL       |\n",
            "|tutoring sessions                           |92              |NULL    |NULL     |NULL       |\n",
            "|upper canada college                        |9               |NULL    |NULL     |NULL       |\n",
            "|voice integrative                           |61              |NULL    |NULL     |NULL       |\n",
            "|westside montessori                         |67              |NULL    |NULL     |NULL       |\n",
            "|école élémentaire catholique du sacré-coeur |95              |NULL    |NULL     |NULL       |\n",
            "+--------------------------------------------+----------------+--------+---------+-----------+\n",
            "\n"
          ]
        }
      ]
    },
    {
      "cell_type": "markdown",
      "source": [
        "discrepancies:  \n",
        "\"mcmurrich jr and winona sr s\"   vs two different schools in TDSB\n",
        "\"essex and hawthorne ii bilingual alternative\"  vs two different schools in TDSB  \n",
        "I will drop them for now.\n",
        "to handle it properly we need to split such rows into two\n"
      ],
      "metadata": {
        "id": "F-p0qDfXP6s3"
      }
    },
    {
      "cell_type": "markdown",
      "source": [
        "check if a school with a similar name is in the TDSB list"
      ],
      "metadata": {
        "id": "2RPYmCjfXW7i"
      }
    },
    {
      "cell_type": "code",
      "source": [
        "dfs_loi.filter(\"simple_school_name like '%equinox%' or simple_school_name like '%roden%'\").show(truncate = False)"
      ],
      "metadata": {
        "colab": {
          "base_uri": "https://localhost:8080/"
        },
        "id": "AJ_q23R8Jwz4",
        "outputId": "7fc9fe10-655d-4901-de1f-9109975604f4"
      },
      "execution_count": 125,
      "outputs": [
        {
          "output_type": "stream",
          "name": "stdout",
          "text": [
            "+----------------------------+--------+------------------+-----------+\n",
            "|simple_school_name          |loi_rank|perc_rank         |rank_bucket|\n",
            "+----------------------------+--------+------------------+-----------+\n",
            "|roden                       |216     |0.4595744680851064|4          |\n",
            "|equinox holistic alternative|409     |0.8702127659574468|8          |\n",
            "+----------------------------+--------+------------------+-----------+\n",
            "\n"
          ]
        }
      ]
    },
    {
      "cell_type": "code",
      "source": [
        "dfs_join.filter(\"simple_school_name like '%lambton%'\").show(truncate = False)"
      ],
      "metadata": {
        "colab": {
          "base_uri": "https://localhost:8080/"
        },
        "id": "5cwtt4YzRodi",
        "outputId": "b8e7fe15-22eb-4244-9a09-0a78c3d33944"
      },
      "execution_count": 126,
      "outputs": [
        {
          "output_type": "stream",
          "name": "stdout",
          "text": [
            "+----------------------+----------------+--------+-------------------+-----------+\n",
            "|simple_school_name    |vendor_school_id|loi_rank|perc_rank          |rank_bucket|\n",
            "+----------------------+----------------+--------+-------------------+-----------+\n",
            "|lambton park community|NULL            |50      |0.10638297872340426|1          |\n",
            "|lambton-kingsway      |19              |468     |0.9957446808510638 |9          |\n",
            "+----------------------+----------------+--------+-------------------+-----------+\n",
            "\n"
          ]
        }
      ]
    },
    {
      "cell_type": "markdown",
      "source": [
        "### Show the rank for found schools"
      ],
      "metadata": {
        "id": "8XSxu5g_ZRsL"
      }
    },
    {
      "cell_type": "code",
      "source": [
        "dfs_join_v_loi.orderBy(\"loi_rank\").show(dfs_join_v_loi.count(),truncate = False)"
      ],
      "metadata": {
        "colab": {
          "base_uri": "https://localhost:8080/"
        },
        "id": "BDg5MK1yZQ8X",
        "outputId": "93a72d4a-80c7-4ad7-ecdb-0f88a0c95806"
      },
      "execution_count": 127,
      "outputs": [
        {
          "output_type": "stream",
          "name": "stdout",
          "text": [
            "+--------------------------+----------------+--------+-------------------+-----------+\n",
            "|simple_school_name        |vendor_school_id|loi_rank|perc_rank          |rank_bucket|\n",
            "+--------------------------+----------------+--------+-------------------+-----------+\n",
            "|secord                    |111             |157     |0.33404255319148934|3          |\n",
            "|winchester                |2               |162     |0.3446808510638298 |3          |\n",
            "|rawlinson community       |34              |180     |0.3829787234042553 |3          |\n",
            "|dr rita cox - kina minagok|40              |204     |0.4340425531914894 |4          |\n",
            "|white haven               |109             |209     |0.44468085106382976|4          |\n",
            "|jr wilcox community       |89              |227     |0.4829787234042553 |4          |\n",
            "|wilmington                |69              |305     |0.648936170212766  |6          |\n",
            "|vradenburg                |58              |311     |0.6617021276595745 |6          |\n",
            "|yorkview                  |49              |316     |0.6723404255319149 |6          |\n",
            "|jean lumb                 |101             |319     |0.6787234042553192 |6          |\n",
            "|dallington                |16              |327     |0.6957446808510638 |6          |\n",
            "|huron street              |75              |332     |0.7063829787234043 |7          |\n",
            "|davisville                |25              |342     |0.7276595744680852 |7          |\n",
            "|regal road                |28              |353     |0.7510638297872341 |7          |\n",
            "|lanor                     |56              |375     |0.7978723404255319 |7          |\n",
            "|claude watson for the arts|73              |380     |0.8085106382978723 |8          |\n",
            "|pape avenue               |57              |386     |0.8212765957446808 |8          |\n",
            "|montrose                  |48              |389     |0.8276595744680851 |8          |\n",
            "|brown                     |27              |394     |0.8382978723404255 |8          |\n",
            "|mountview alternative     |64              |408     |0.8680851063829788 |8          |\n",
            "|humewood community        |43              |416     |0.8851063829787233 |8          |\n",
            "|northlea and              |38              |420     |0.8936170212765957 |8          |\n",
            "|earl beatty               |17              |422     |0.8978723404255319 |8          |\n",
            "|withrow avenue            |82              |432     |0.9191489361702128 |9          |\n",
            "|fern avenue               |24              |434     |0.9234042553191489 |9          |\n",
            "|forest hill               |42              |437     |0.9297872340425531 |9          |\n",
            "|john fisher               |105             |439     |0.9340425531914893 |9          |\n",
            "|norseman                  |71              |444     |0.9446808510638298 |9          |\n",
            "|bessborough drive and     |47              |445     |0.9468085106382979 |9          |\n",
            "|frankland community       |35              |446     |0.948936170212766  |9          |\n",
            "|adam beck                 |8               |447     |0.951063829787234  |9          |\n",
            "|rolph road                |97              |449     |0.9553191489361702 |9          |\n",
            "|denlow                    |15              |451     |0.9595744680851064 |9          |\n",
            "|kew beach                 |110             |454     |0.9659574468085106 |9          |\n",
            "|oriole park               |14              |455     |0.9680851063829787 |9          |\n",
            "|balmy beach community     |114             |458     |0.9744680851063829 |9          |\n",
            "|bedford park              |45              |461     |0.9808510638297873 |9          |\n",
            "|cottingham                |1               |464     |0.9872340425531915 |9          |\n",
            "|whitney                   |50              |467     |0.9936170212765958 |9          |\n",
            "|lambton-kingsway          |19              |468     |0.9957446808510638 |9          |\n",
            "+--------------------------+----------------+--------+-------------------+-----------+\n",
            "\n"
          ]
        }
      ]
    },
    {
      "cell_type": "code",
      "source": [
        "dfs_buckets = dfs_join_v_loi.groupBy(\"rank_bucket\").count().orderBy(\"rank_bucket\")\n",
        "dfs_buckets.show()"
      ],
      "metadata": {
        "colab": {
          "base_uri": "https://localhost:8080/"
        },
        "id": "Eu13uaISvknF",
        "outputId": "becd5126-ac13-49bd-842a-7a826af20c95"
      },
      "execution_count": 128,
      "outputs": [
        {
          "output_type": "stream",
          "name": "stdout",
          "text": [
            "+-----------+-----+\n",
            "|rank_bucket|count|\n",
            "+-----------+-----+\n",
            "|          3|    3|\n",
            "|          4|    3|\n",
            "|          6|    5|\n",
            "|          7|    4|\n",
            "|          8|    8|\n",
            "|          9|   17|\n",
            "+-----------+-----+\n",
            "\n"
          ]
        }
      ]
    },
    {
      "cell_type": "code",
      "source": [
        "dfs_join_v_loi.printSchema()"
      ],
      "metadata": {
        "colab": {
          "base_uri": "https://localhost:8080/"
        },
        "id": "eyED0OxXSS4v",
        "outputId": "9877d2c9-9803-47b2-defc-d4b8876f314a"
      },
      "execution_count": 129,
      "outputs": [
        {
          "output_type": "stream",
          "name": "stdout",
          "text": [
            "root\n",
            " |-- simple_school_name: string (nullable = true)\n",
            " |-- vendor_school_id: long (nullable = true)\n",
            " |-- loi_rank: long (nullable = true)\n",
            " |-- perc_rank: double (nullable = true)\n",
            " |-- rank_bucket: integer (nullable = true)\n",
            "\n"
          ]
        }
      ]
    },
    {
      "cell_type": "markdown",
      "source": [
        "### Visualization"
      ],
      "metadata": {
        "id": "zG3QwuzbP3yg"
      }
    },
    {
      "cell_type": "code",
      "source": [
        "# Get a series of loi rank values\n",
        "loi_rank_collect = dfs_loi.select(\"loi_rank\").orderBy(\"loi_rank\").collect()\n",
        "loi_rank_list = [x[\"loi_rank\"] for x in loi_rank_collect]\n",
        "\n",
        "# Get a series of percentage loi rank values\n",
        "loi_perc_collect = dfs_loi.select(\"perc_rank\").orderBy(\"perc_rank\").collect()\n",
        "loi_perc_list = [x[\"perc_rank\"] for x in loi_perc_collect]\n",
        "\n",
        "# Get a series of buckets\n",
        "rank_bucket_list = [x[\"rank_bucket\"] for x in dfs_buckets.select(\"rank_bucket\").collect()]\n",
        "\n",
        "# Get a series of bucket counts\n",
        "rank_count_list = [x[\"count\"] for x in dfs_buckets.select(\"count\").collect()]\n",
        "\n",
        "# Generate ticks and labels for 1 to max_rank\n",
        "#rank_ticks_values = {1}\n",
        "rank_ticks_values = set(range(0, max_rank + 1, 100))\n",
        "rank_ticks_values.add(max_rank)\n",
        "rank_ticks_values = sorted(rank_ticks_values)\n",
        "rank_ticks_labels = [str(x) for x in rank_ticks_values]\n",
        "\n",
        "# Generate ticks and labels for a percentage axis\n",
        "perc_ticks_values = list(range(0,101, 10))\n",
        "perc_ticks_labels = [str(x)+\"%\" for x in perc_ticks_values]\n",
        "perc_ticks_values = [x / 100 for x in perc_ticks_values]\n",
        "\n"
      ],
      "metadata": {
        "colab": {
          "base_uri": "https://localhost:8080/"
        },
        "id": "iWTWLb9HSoBU",
        "outputId": "32fd13a5-8673-4778-a1c8-b8317c783804"
      },
      "execution_count": 138,
      "outputs": [
        {
          "output_type": "stream",
          "name": "stdout",
          "text": [
            "[3, 3, 5, 4, 8, 17]\n"
          ]
        }
      ]
    },
    {
      "cell_type": "code",
      "source": [
        "fig, ax = plt.subplots()\n",
        "\n",
        "# Create secondary y-axis\n",
        "ax_p = ax.twinx()\n",
        "\n",
        "# Set the limits of the plot\n",
        "ax.set_ylim(0, max_rank)\n",
        "ax_p.set_ylim(0,1)\n",
        "\n",
        "# Set the ticks and labels for x and y axes\n",
        "ax.set_yticks(rank_ticks_values)\n",
        "ax.set_yticklabels(rank_ticks_labels)\n",
        "ax.set_xticks(rank_ticks_values)\n",
        "ax.set_xticklabels(rank_ticks_labels)\n",
        "\n",
        "# Set the ticks and labels for the secondary y-axis (percentages)\n",
        "ax_p.set_yticks(perc_ticks_values)\n",
        "ax_p.set_yticklabels(perc_ticks_labels)\n",
        "\n",
        "# Adding horizontal grid lines at percentage ticks\n",
        "ax_p.grid(which='major', axis='y', linestyle='--', color='grey')\n",
        "\n",
        "# Labeling the axes\n",
        "ax.set_xlabel('TDSB schools')\n",
        "ax.set_ylabel('LOI Index')\n",
        "ax_p.set_ylabel('LOI rank percentile')\n",
        "\n",
        "# Set the title\n",
        "ax.set_title('Vendor classes availability across TDSB schools')\n",
        "\n",
        "# Plot the bar chart (with all schools and their index)\n",
        "ax.bar(loi_rank_list,loi_rank_list, 1, color=\"yellow\")\n",
        "\n",
        "# Plot the scatter chart (with all schools in the vendor list)\n",
        "ax.scatter(dfs_join_v_loi.select(\"loi_rank\").collect(), dfs_join_v_loi.select(\"loi_rank\").collect(), 1, color=\"blue\")\n",
        "\n",
        "# Show the plot\n",
        "plt.show()"
      ],
      "metadata": {
        "colab": {
          "base_uri": "https://localhost:8080/",
          "height": 472
        },
        "id": "i1cFJqcZP5n4",
        "outputId": "61c19a49-f861-4c56-88b9-61e6dc5361c6"
      },
      "execution_count": 147,
      "outputs": [
        {
          "output_type": "display_data",
          "data": {
            "text/plain": [
              "<Figure size 640x480 with 2 Axes>"
            ],
            "image/png": "[encoded data removed]"
          },
          "metadata": {}
        }
      ]
    },
    {
      "cell_type": "code",
      "source": [
        "# Generate ticks and labels for buckets\n",
        "bucket_ticks_values = [x for x in range(0,11)]\n",
        "bucket_ticks_labels = [str(x*10) + \"%\" for x in bucket_ticks_values]\n",
        "\n",
        "# Generate ticks and labels for bucket counts\n",
        "bucket_count_ticks_values = set(rank_count_list)\n",
        "bucket_count_ticks_values.add(0)\n",
        "bucket_count_ticks_values = sorted(bucket_count_ticks_values)\n",
        "bucket_count_ticks_labels = [str(x) for x in bucket_count_ticks_values]"
      ],
      "metadata": {
        "id": "eZzHYnOi1mQr"
      },
      "execution_count": 144,
      "outputs": []
    },
    {
      "cell_type": "code",
      "source": [
        "fig, ax = plt.subplots()\n",
        "\n",
        "# Set the limits of the plot\n",
        "ax.set_xlim(0, 10)\n",
        "ax.set_ylim(0, max(rank_count_list))\n",
        "\n",
        "# Set the ticks and labels for x and y axes\n",
        "ax.set_xticks(bucket_ticks_values)\n",
        "ax.set_xticklabels(bucket_ticks_labels)\n",
        "ax.set_yticks(bucket_count_ticks_values)\n",
        "ax.set_yticklabels(bucket_count_ticks_labels)\n",
        "\n",
        "# Adding horizontal grid lines at percentage ticks\n",
        "ax.grid(which='major', axis='y', linestyle='--', color='grey')\n",
        "\n",
        "# Labeling the axes\n",
        "ax.set_xlabel('LOI Index percentile buckets')\n",
        "ax.set_ylabel('Number of schools with vendor classes')\n",
        "\n",
        "# Set the title\n",
        "ax.set_title('Schools with vendor classes grouped by LOI Index percentile')\n",
        "\n",
        "# Plot the bar chart (with all schools and their index)\n",
        "ax.bar(rank_bucket_list, rank_count_list, 1, align='edge', color=\"yellow\", edgecolor=\"black\")\n",
        "\n",
        "# Show the plot\n",
        "plt.show()"
      ],
      "metadata": {
        "colab": {
          "base_uri": "https://localhost:8080/",
          "height": 472
        },
        "id": "i9G8dzB3wImR",
        "outputId": "0dc8f6df-d770-4692-9cf4-5abf1c100e6a"
      },
      "execution_count": 148,
      "outputs": [
        {
          "output_type": "display_data",
          "data": {
            "text/plain": [
              "<Figure size 640x480 with 1 Axes>"
            ],
            "image/png": "[encoded data removed]"
          },
          "metadata": {}
        }
      ]
    }
  ]
}